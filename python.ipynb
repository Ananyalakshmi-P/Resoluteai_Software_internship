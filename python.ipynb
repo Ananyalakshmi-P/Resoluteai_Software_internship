{
 "cells": [
  {
   "cell_type": "code",
   "execution_count": 1,
   "id": "2f696a9d",
   "metadata": {},
   "outputs": [
    {
     "data": {
      "text/plain": [
       "float"
      ]
     },
     "execution_count": 1,
     "metadata": {},
     "output_type": "execute_result"
    }
   ],
   "source": [
    "num=2.5\n",
    "type(num)"
   ]
  },
  {
   "cell_type": "code",
   "execution_count": 2,
   "id": "792b7fa0",
   "metadata": {},
   "outputs": [
    {
     "data": {
      "text/plain": [
       "int"
      ]
     },
     "execution_count": 2,
     "metadata": {},
     "output_type": "execute_result"
    }
   ],
   "source": [
    "num=15\n",
    "type(num)"
   ]
  },
  {
   "cell_type": "code",
   "execution_count": 3,
   "id": "0162207b",
   "metadata": {},
   "outputs": [
    {
     "data": {
      "text/plain": [
       "complex"
      ]
     },
     "execution_count": 3,
     "metadata": {},
     "output_type": "execute_result"
    }
   ],
   "source": [
    "num=1+2j\n",
    "type(num)"
   ]
  },
  {
   "cell_type": "code",
   "execution_count": 6,
   "id": "d9969f05",
   "metadata": {},
   "outputs": [
    {
     "data": {
      "text/plain": [
       "5"
      ]
     },
     "execution_count": 6,
     "metadata": {},
     "output_type": "execute_result"
    }
   ],
   "source": [
    "a=5.6\n",
    "b=int(a)\n",
    "type(b)\n",
    "b"
   ]
  },
  {
   "cell_type": "code",
   "execution_count": 11,
   "id": "0fd3699f",
   "metadata": {},
   "outputs": [
    {
     "data": {
      "text/plain": [
       "5.0"
      ]
     },
     "execution_count": 11,
     "metadata": {},
     "output_type": "execute_result"
    }
   ],
   "source": [
    "k=float(b)\n",
    "k"
   ]
  },
  {
   "cell_type": "code",
   "execution_count": 13,
   "id": "e78713c9",
   "metadata": {},
   "outputs": [
    {
     "data": {
      "text/plain": [
       "(5+6j)"
      ]
     },
     "execution_count": 13,
     "metadata": {},
     "output_type": "execute_result"
    }
   ],
   "source": [
    "k=6\n",
    "c=complex(b,k)\n",
    "c"
   ]
  },
  {
   "cell_type": "code",
   "execution_count": 14,
   "id": "a68a01a0",
   "metadata": {},
   "outputs": [
    {
     "data": {
      "text/plain": [
       "True"
      ]
     },
     "execution_count": 14,
     "metadata": {},
     "output_type": "execute_result"
    }
   ],
   "source": [
    "b<k"
   ]
  },
  {
   "cell_type": "code",
   "execution_count": 15,
   "id": "26416596",
   "metadata": {},
   "outputs": [
    {
     "data": {
      "text/plain": [
       "1"
      ]
     },
     "execution_count": 15,
     "metadata": {},
     "output_type": "execute_result"
    }
   ],
   "source": [
    "int(True)"
   ]
  },
  {
   "cell_type": "code",
   "execution_count": 18,
   "id": "03154711",
   "metadata": {},
   "outputs": [
    {
     "data": {
      "text/plain": [
       "[12, 25, 44, 15, 25]"
      ]
     },
     "execution_count": 18,
     "metadata": {},
     "output_type": "execute_result"
    }
   ],
   "source": [
    "list=[12,25,44,15,25]\n",
    "type(list)\n",
    "list"
   ]
  },
  {
   "cell_type": "code",
   "execution_count": 19,
   "id": "210ebc2b",
   "metadata": {},
   "outputs": [
    {
     "data": {
      "text/plain": [
       "{12, 15, 25, 44}"
      ]
     },
     "execution_count": 19,
     "metadata": {},
     "output_type": "execute_result"
    }
   ],
   "source": [
    "set={12,25,44,15,25}\n",
    "type(set)\n",
    "set"
   ]
  },
  {
   "cell_type": "code",
   "execution_count": 22,
   "id": "ce7c76f6",
   "metadata": {},
   "outputs": [
    {
     "data": {
      "text/plain": [
       "(12, 25, 44, 15, 25)"
      ]
     },
     "execution_count": 22,
     "metadata": {},
     "output_type": "execute_result"
    }
   ],
   "source": [
    "t=(12,25,44,15,25)\n",
    "type(t)\n",
    "t"
   ]
  },
  {
   "cell_type": "code",
   "execution_count": 24,
   "id": "26cf9870",
   "metadata": {},
   "outputs": [
    {
     "data": {
      "text/plain": [
       "'ananya'"
      ]
     },
     "execution_count": 24,
     "metadata": {},
     "output_type": "execute_result"
    }
   ],
   "source": [
    "s=\"ananya\"\n",
    "s"
   ]
  },
  {
   "cell_type": "code",
   "execution_count": 25,
   "id": "4c75c4f7",
   "metadata": {},
   "outputs": [
    {
     "data": {
      "text/plain": [
       "range(0, 10)"
      ]
     },
     "execution_count": 25,
     "metadata": {},
     "output_type": "execute_result"
    }
   ],
   "source": [
    "range(10)"
   ]
  },
  {
   "cell_type": "code",
   "execution_count": 38,
   "id": "043c5d40",
   "metadata": {},
   "outputs": [
    {
     "ename": "TypeError",
     "evalue": "'list' object is not callable",
     "output_type": "error",
     "traceback": [
      "\u001b[1;31m---------------------------------------------------------------------------\u001b[0m",
      "\u001b[1;31mTypeError\u001b[0m                                 Traceback (most recent call last)",
      "Input \u001b[1;32mIn [38]\u001b[0m, in \u001b[0;36m<cell line: 1>\u001b[1;34m()\u001b[0m\n\u001b[1;32m----> 1\u001b[0m \u001b[38;5;28;43mlist\u001b[39;49m\u001b[43m(\u001b[49m\u001b[38;5;28;43mrange\u001b[39;49m\u001b[43m(\u001b[49m\u001b[38;5;241;43m11\u001b[39;49m\u001b[43m)\u001b[49m\u001b[43m)\u001b[49m\n",
      "\u001b[1;31mTypeError\u001b[0m: 'list' object is not callable"
     ]
    }
   ],
   "source": [
    "list(range(11))"
   ]
  },
  {
   "cell_type": "code",
   "execution_count": 30,
   "id": "0b48d585",
   "metadata": {},
   "outputs": [
    {
     "ename": "TypeError",
     "evalue": "'list' object is not callable",
     "output_type": "error",
     "traceback": [
      "\u001b[1;31m---------------------------------------------------------------------------\u001b[0m",
      "\u001b[1;31mTypeError\u001b[0m                                 Traceback (most recent call last)",
      "Input \u001b[1;32mIn [30]\u001b[0m, in \u001b[0;36m<cell line: 1>\u001b[1;34m()\u001b[0m\n\u001b[1;32m----> 1\u001b[0m \u001b[38;5;28;43mlist\u001b[39;49m\u001b[43m(\u001b[49m\u001b[38;5;28;43mrange\u001b[39;49m\u001b[43m(\u001b[49m\u001b[38;5;241;43m2\u001b[39;49m\u001b[43m,\u001b[49m\u001b[38;5;241;43m10\u001b[39;49m\u001b[43m,\u001b[49m\u001b[38;5;241;43m2\u001b[39;49m\u001b[43m)\u001b[49m\u001b[43m)\u001b[49m\n",
      "\u001b[1;31mTypeError\u001b[0m: 'list' object is not callable"
     ]
    }
   ],
   "source": [
    "list(range(2,10,2))"
   ]
  },
  {
   "cell_type": "code",
   "execution_count": 32,
   "id": "e4856a03",
   "metadata": {},
   "outputs": [
    {
     "data": {
      "text/plain": [
       "range"
      ]
     },
     "execution_count": 32,
     "metadata": {},
     "output_type": "execute_result"
    }
   ],
   "source": [
    "type(range(10))"
   ]
  },
  {
   "cell_type": "code",
   "execution_count": 34,
   "id": "d88b573c",
   "metadata": {},
   "outputs": [
    {
     "data": {
      "text/plain": [
       "dict_keys(['ananya', 'raj', 'sahana'])"
      ]
     },
     "execution_count": 34,
     "metadata": {},
     "output_type": "execute_result"
    }
   ],
   "source": [
    "d={'ananya':'samsumg','raj':'iphone','sahana':'oneplus'}\n",
    "d.keys()"
   ]
  },
  {
   "cell_type": "code",
   "execution_count": 39,
   "id": "197b7cbb",
   "metadata": {},
   "outputs": [
    {
     "data": {
      "text/plain": [
       "dict_values(['samsumg', 'iphone', 'oneplus'])"
      ]
     },
     "execution_count": 39,
     "metadata": {},
     "output_type": "execute_result"
    }
   ],
   "source": [
    "d.values()"
   ]
  },
  {
   "cell_type": "code",
   "execution_count": 41,
   "id": "0879f19b",
   "metadata": {},
   "outputs": [
    {
     "data": {
      "text/plain": [
       "'samsumg'"
      ]
     },
     "execution_count": 41,
     "metadata": {},
     "output_type": "execute_result"
    }
   ],
   "source": [
    "d.get('ananya')"
   ]
  },
  {
   "cell_type": "code",
   "execution_count": 42,
   "id": "f8c53427",
   "metadata": {},
   "outputs": [
    {
     "data": {
      "text/plain": [
       "9"
      ]
     },
     "execution_count": 42,
     "metadata": {},
     "output_type": "execute_result"
    }
   ],
   "source": [
    "x=3\n",
    "y=6\n",
    "x+y"
   ]
  },
  {
   "cell_type": "code",
   "execution_count": 43,
   "id": "66f4a9a8",
   "metadata": {},
   "outputs": [
    {
     "data": {
      "text/plain": [
       "-3"
      ]
     },
     "execution_count": 43,
     "metadata": {},
     "output_type": "execute_result"
    }
   ],
   "source": [
    "x-y\n"
   ]
  },
  {
   "cell_type": "markdown",
   "id": "deb27e65",
   "metadata": {},
   "source": [
    "x=x+2"
   ]
  },
  {
   "cell_type": "code",
   "execution_count": 52,
   "id": "9ee4aa4b",
   "metadata": {},
   "outputs": [
    {
     "data": {
      "text/plain": [
       "5"
      ]
     },
     "execution_count": 52,
     "metadata": {},
     "output_type": "execute_result"
    }
   ],
   "source": [
    "x=3\n",
    "x=x+2\n",
    "x"
   ]
  },
  {
   "cell_type": "code",
   "execution_count": 53,
   "id": "04848a29",
   "metadata": {},
   "outputs": [
    {
     "data": {
      "text/plain": [
       "7"
      ]
     },
     "execution_count": 53,
     "metadata": {},
     "output_type": "execute_result"
    }
   ],
   "source": [
    "x+=2\n",
    "x"
   ]
  },
  {
   "cell_type": "code",
   "execution_count": 54,
   "id": "10e19dde",
   "metadata": {},
   "outputs": [
    {
     "data": {
      "text/plain": [
       "21"
      ]
     },
     "execution_count": 54,
     "metadata": {},
     "output_type": "execute_result"
    }
   ],
   "source": [
    "x*=3\n",
    "x"
   ]
  },
  {
   "cell_type": "code",
   "execution_count": 55,
   "id": "48bd4c82",
   "metadata": {},
   "outputs": [
    {
     "data": {
      "text/plain": [
       "5"
      ]
     },
     "execution_count": 55,
     "metadata": {},
     "output_type": "execute_result"
    }
   ],
   "source": [
    "a,b=5,6\n",
    "a"
   ]
  },
  {
   "cell_type": "code",
   "execution_count": 56,
   "id": "b11ad0dd",
   "metadata": {},
   "outputs": [
    {
     "data": {
      "text/plain": [
       "6"
      ]
     },
     "execution_count": 56,
     "metadata": {},
     "output_type": "execute_result"
    }
   ],
   "source": [
    "b"
   ]
  },
  {
   "cell_type": "code",
   "execution_count": 57,
   "id": "f1102939",
   "metadata": {},
   "outputs": [
    {
     "data": {
      "text/plain": [
       "7"
      ]
     },
     "execution_count": 57,
     "metadata": {},
     "output_type": "execute_result"
    }
   ],
   "source": [
    "n=7\n",
    "n\n"
   ]
  },
  {
   "cell_type": "code",
   "execution_count": 58,
   "id": "dbd2fb43",
   "metadata": {},
   "outputs": [
    {
     "data": {
      "text/plain": [
       "-7"
      ]
     },
     "execution_count": 58,
     "metadata": {},
     "output_type": "execute_result"
    }
   ],
   "source": [
    "n=-n\n",
    "n"
   ]
  },
  {
   "cell_type": "code",
   "execution_count": 59,
   "id": "c41a18b5",
   "metadata": {},
   "outputs": [
    {
     "data": {
      "text/plain": [
       "False"
      ]
     },
     "execution_count": 59,
     "metadata": {},
     "output_type": "execute_result"
    }
   ],
   "source": [
    "a>b"
   ]
  },
  {
   "cell_type": "code",
   "execution_count": 60,
   "id": "46bcce4b",
   "metadata": {},
   "outputs": [
    {
     "data": {
      "text/plain": [
       "True"
      ]
     },
     "execution_count": 60,
     "metadata": {},
     "output_type": "execute_result"
    }
   ],
   "source": [
    "a<b"
   ]
  },
  {
   "cell_type": "code",
   "execution_count": 61,
   "id": "137b25a5",
   "metadata": {},
   "outputs": [
    {
     "data": {
      "text/plain": [
       "False"
      ]
     },
     "execution_count": 61,
     "metadata": {},
     "output_type": "execute_result"
    }
   ],
   "source": [
    "a==b"
   ]
  },
  {
   "cell_type": "code",
   "execution_count": 62,
   "id": "ef845cab",
   "metadata": {},
   "outputs": [
    {
     "data": {
      "text/plain": [
       "True"
      ]
     },
     "execution_count": 62,
     "metadata": {},
     "output_type": "execute_result"
    }
   ],
   "source": [
    "a!=b"
   ]
  },
  {
   "cell_type": "code",
   "execution_count": 63,
   "id": "d8b7b8b6",
   "metadata": {},
   "outputs": [
    {
     "data": {
      "text/plain": [
       "True"
      ]
     },
     "execution_count": 63,
     "metadata": {},
     "output_type": "execute_result"
    }
   ],
   "source": [
    "a=5\n",
    "b=4\n",
    "a<8 and b<5"
   ]
  },
  {
   "cell_type": "code",
   "execution_count": 64,
   "id": "41b5af95",
   "metadata": {},
   "outputs": [
    {
     "data": {
      "text/plain": [
       "False"
      ]
     },
     "execution_count": 64,
     "metadata": {},
     "output_type": "execute_result"
    }
   ],
   "source": [
    "a<8 and b<2"
   ]
  },
  {
   "cell_type": "code",
   "execution_count": 65,
   "id": "c1191668",
   "metadata": {},
   "outputs": [
    {
     "data": {
      "text/plain": [
       "True"
      ]
     },
     "execution_count": 65,
     "metadata": {},
     "output_type": "execute_result"
    }
   ],
   "source": [
    "x=True\n",
    "x"
   ]
  },
  {
   "cell_type": "code",
   "execution_count": 66,
   "id": "e22e31fb",
   "metadata": {},
   "outputs": [
    {
     "data": {
      "text/plain": [
       "False"
      ]
     },
     "execution_count": 66,
     "metadata": {},
     "output_type": "execute_result"
    }
   ],
   "source": [
    "not x"
   ]
  },
  {
   "cell_type": "code",
   "execution_count": 67,
   "id": "195cfe96",
   "metadata": {},
   "outputs": [
    {
     "data": {
      "text/plain": [
       "True"
      ]
     },
     "execution_count": 67,
     "metadata": {},
     "output_type": "execute_result"
    }
   ],
   "source": [
    "a<8 or b<2"
   ]
  },
  {
   "cell_type": "code",
   "execution_count": 68,
   "id": "1ce07a80",
   "metadata": {},
   "outputs": [
    {
     "data": {
      "text/plain": [
       "'0b11001'"
      ]
     },
     "execution_count": 68,
     "metadata": {},
     "output_type": "execute_result"
    }
   ],
   "source": [
    "bin(25)"
   ]
  },
  {
   "cell_type": "code",
   "execution_count": 69,
   "id": "1de729ef",
   "metadata": {},
   "outputs": [
    {
     "data": {
      "text/plain": [
       "5"
      ]
     },
     "execution_count": 69,
     "metadata": {},
     "output_type": "execute_result"
    }
   ],
   "source": [
    "0b0101"
   ]
  },
  {
   "cell_type": "code",
   "execution_count": 70,
   "id": "d4e9c2af",
   "metadata": {},
   "outputs": [
    {
     "data": {
      "text/plain": [
       "'0o43'"
      ]
     },
     "execution_count": 70,
     "metadata": {},
     "output_type": "execute_result"
    }
   ],
   "source": [
    "oct(35)"
   ]
  },
  {
   "cell_type": "code",
   "execution_count": 71,
   "id": "464ff737",
   "metadata": {},
   "outputs": [
    {
     "data": {
      "text/plain": [
       "'0xa'"
      ]
     },
     "execution_count": 71,
     "metadata": {},
     "output_type": "execute_result"
    }
   ],
   "source": [
    "hex(10)"
   ]
  },
  {
   "cell_type": "code",
   "execution_count": 72,
   "id": "8170e954",
   "metadata": {},
   "outputs": [
    {
     "data": {
      "text/plain": [
       "15"
      ]
     },
     "execution_count": 72,
     "metadata": {},
     "output_type": "execute_result"
    }
   ],
   "source": [
    "0xf"
   ]
  },
  {
   "cell_type": "code",
   "execution_count": 73,
   "id": "386568c6",
   "metadata": {},
   "outputs": [
    {
     "data": {
      "text/plain": [
       "'0b11111'"
      ]
     },
     "execution_count": 73,
     "metadata": {},
     "output_type": "execute_result"
    }
   ],
   "source": [
    "bin(31)"
   ]
  },
  {
   "cell_type": "code",
   "execution_count": 74,
   "id": "a9bfe23c",
   "metadata": {},
   "outputs": [
    {
     "data": {
      "text/plain": [
       "'0b110100'"
      ]
     },
     "execution_count": 74,
     "metadata": {},
     "output_type": "execute_result"
    }
   ],
   "source": [
    "bin(52)"
   ]
  },
  {
   "cell_type": "code",
   "execution_count": 75,
   "id": "f94d892a",
   "metadata": {},
   "outputs": [
    {
     "data": {
      "text/plain": [
       "410"
      ]
     },
     "execution_count": 75,
     "metadata": {},
     "output_type": "execute_result"
    }
   ],
   "source": [
    "0b110011010"
   ]
  },
  {
   "cell_type": "code",
   "execution_count": 76,
   "id": "389cd068",
   "metadata": {},
   "outputs": [
    {
     "data": {
      "text/plain": [
       "-16"
      ]
     },
     "execution_count": 76,
     "metadata": {},
     "output_type": "execute_result"
    }
   ],
   "source": [
    "~15"
   ]
  },
  {
   "cell_type": "code",
   "execution_count": 77,
   "id": "5d14a7de",
   "metadata": {},
   "outputs": [
    {
     "data": {
      "text/plain": [
       "12"
      ]
     },
     "execution_count": 77,
     "metadata": {},
     "output_type": "execute_result"
    }
   ],
   "source": [
    "12 & 13"
   ]
  },
  {
   "cell_type": "code",
   "execution_count": 78,
   "id": "53fc5d01",
   "metadata": {},
   "outputs": [
    {
     "data": {
      "text/plain": [
       "13"
      ]
     },
     "execution_count": 78,
     "metadata": {},
     "output_type": "execute_result"
    }
   ],
   "source": [
    "12 | 13"
   ]
  },
  {
   "cell_type": "code",
   "execution_count": 79,
   "id": "62fd8c43",
   "metadata": {},
   "outputs": [
    {
     "data": {
      "text/plain": [
       "1"
      ]
     },
     "execution_count": 79,
     "metadata": {},
     "output_type": "execute_result"
    }
   ],
   "source": [
    "12 ^ 13"
   ]
  },
  {
   "cell_type": "code",
   "execution_count": 80,
   "id": "34ae0ffd",
   "metadata": {},
   "outputs": [
    {
     "data": {
      "text/plain": [
       "40"
      ]
     },
     "execution_count": 80,
     "metadata": {},
     "output_type": "execute_result"
    }
   ],
   "source": [
    "10<<2"
   ]
  },
  {
   "cell_type": "code",
   "execution_count": 81,
   "id": "df71f886",
   "metadata": {},
   "outputs": [
    {
     "data": {
      "text/plain": [
       "2"
      ]
     },
     "execution_count": 81,
     "metadata": {},
     "output_type": "execute_result"
    }
   ],
   "source": [
    "10>>2"
   ]
  },
  {
   "cell_type": "code",
   "execution_count": 82,
   "id": "9b932006",
   "metadata": {},
   "outputs": [
    {
     "name": "stdout",
     "output_type": "stream",
     "text": [
      "enter 1st number10\n",
      "enter 1st number11\n",
      "1011\n"
     ]
    }
   ],
   "source": [
    "x=input(\"enter 1st number\")\n",
    "y=input(\"enter 1st number\")\n",
    "z=x+y\n",
    "print(z)\n"
   ]
  },
  {
   "cell_type": "code",
   "execution_count": 83,
   "id": "359be17c",
   "metadata": {},
   "outputs": [
    {
     "name": "stdout",
     "output_type": "stream",
     "text": [
      "enter 1st number15\n",
      "enter 1st number20\n",
      "35\n"
     ]
    }
   ],
   "source": [
    "x=input(\"enter 1st number\")\n",
    "a=int(x)\n",
    "y=input(\"enter 1st number\")\n",
    "b=int(y)\n",
    "z=a+b\n",
    "print(z)"
   ]
  },
  {
   "cell_type": "code",
   "execution_count": 84,
   "id": "1cb6de41",
   "metadata": {},
   "outputs": [
    {
     "name": "stdout",
     "output_type": "stream",
     "text": [
      "enter 1st number1\n",
      "enter 1st number2\n",
      "3\n"
     ]
    }
   ],
   "source": [
    "x=int(input(\"enter 1st number\"))\n",
    "y=int(input(\"enter 1st number\"))\n",
    "z=x+y\n",
    "print(z)"
   ]
  },
  {
   "cell_type": "code",
   "execution_count": 85,
   "id": "cb32da43",
   "metadata": {},
   "outputs": [
    {
     "name": "stdout",
     "output_type": "stream",
     "text": [
      "enter a charactera\n",
      "a\n"
     ]
    }
   ],
   "source": [
    "ch=input(\"enter a character\")\n",
    "print(ch)"
   ]
  },
  {
   "cell_type": "code",
   "execution_count": 86,
   "id": "87432199",
   "metadata": {},
   "outputs": [
    {
     "name": "stdout",
     "output_type": "stream",
     "text": [
      "enter a characterpqr\n",
      "p\n"
     ]
    }
   ],
   "source": [
    "ch=input(\"enter a character\")\n",
    "print(ch[0])"
   ]
  },
  {
   "cell_type": "code",
   "execution_count": 87,
   "id": "513f0240",
   "metadata": {},
   "outputs": [
    {
     "name": "stdout",
     "output_type": "stream",
     "text": [
      "enter a characterpqr\n",
      "p\n"
     ]
    }
   ],
   "source": [
    "ch=input(\"enter a character\")[0]\n",
    "print(ch)"
   ]
  },
  {
   "cell_type": "code",
   "execution_count": 88,
   "id": "2a848392",
   "metadata": {},
   "outputs": [
    {
     "name": "stdout",
     "output_type": "stream",
     "text": [
      "enter an expression2+5-6\n",
      "1\n"
     ]
    }
   ],
   "source": [
    "result=eval(input(\"enter an expression\"))\n",
    "print(result)"
   ]
  },
  {
   "cell_type": "code",
   "execution_count": 89,
   "id": "798e243b",
   "metadata": {},
   "outputs": [
    {
     "data": {
      "text/plain": [
       "[10, 20, 30, 40]"
      ]
     },
     "execution_count": 89,
     "metadata": {},
     "output_type": "execute_result"
    }
   ],
   "source": [
    "nums=[10,20,30,40]\n",
    "nums"
   ]
  },
  {
   "cell_type": "code",
   "execution_count": 90,
   "id": "0ef59497",
   "metadata": {},
   "outputs": [
    {
     "data": {
      "text/plain": [
       "20"
      ]
     },
     "execution_count": 90,
     "metadata": {},
     "output_type": "execute_result"
    }
   ],
   "source": [
    "nums[1]\n"
   ]
  },
  {
   "cell_type": "code",
   "execution_count": 91,
   "id": "2bbf03c1",
   "metadata": {},
   "outputs": [
    {
     "data": {
      "text/plain": [
       "[30, 40]"
      ]
     },
     "execution_count": 91,
     "metadata": {},
     "output_type": "execute_result"
    }
   ],
   "source": [
    "nums[2:]"
   ]
  },
  {
   "cell_type": "code",
   "execution_count": 92,
   "id": "00e444aa",
   "metadata": {},
   "outputs": [
    {
     "data": {
      "text/plain": [
       "40"
      ]
     },
     "execution_count": 92,
     "metadata": {},
     "output_type": "execute_result"
    }
   ],
   "source": [
    "nums[-1]"
   ]
  },
  {
   "cell_type": "code",
   "execution_count": 94,
   "id": "88f0fb39",
   "metadata": {},
   "outputs": [
    {
     "data": {
      "text/plain": [
       "['ananya', 'anu', 'akash']"
      ]
     },
     "execution_count": 94,
     "metadata": {},
     "output_type": "execute_result"
    }
   ],
   "source": [
    "names=['ananya','anu','akash']\n",
    "names"
   ]
  },
  {
   "cell_type": "code",
   "execution_count": 95,
   "id": "358ca44c",
   "metadata": {},
   "outputs": [
    {
     "data": {
      "text/plain": [
       "[9.5, 'ananya', 50]"
      ]
     },
     "execution_count": 95,
     "metadata": {},
     "output_type": "execute_result"
    }
   ],
   "source": [
    "values=[9.5,'ananya',50]\n",
    "values"
   ]
  },
  {
   "cell_type": "code",
   "execution_count": 96,
   "id": "bffb0031",
   "metadata": {},
   "outputs": [
    {
     "data": {
      "text/plain": [
       "[[10, 20, 30, 40], ['ananya', 'anu', 'akash']]"
      ]
     },
     "execution_count": 96,
     "metadata": {},
     "output_type": "execute_result"
    }
   ],
   "source": [
    "mil=[nums,names]\n",
    "mil"
   ]
  },
  {
   "cell_type": "code",
   "execution_count": 99,
   "id": "40161401",
   "metadata": {},
   "outputs": [
    {
     "data": {
      "text/plain": [
       "[10, 20, 30, 40, 45, 45, 45]"
      ]
     },
     "execution_count": 99,
     "metadata": {},
     "output_type": "execute_result"
    }
   ],
   "source": [
    "nums.append(45)\n",
    "nums"
   ]
  },
  {
   "cell_type": "code",
   "execution_count": 100,
   "id": "75f19496",
   "metadata": {},
   "outputs": [
    {
     "data": {
      "text/plain": [
       "[10, 20, 25, 30, 40, 45, 45, 45]"
      ]
     },
     "execution_count": 100,
     "metadata": {},
     "output_type": "execute_result"
    }
   ],
   "source": [
    "nums.insert(2,25)\n",
    "nums"
   ]
  },
  {
   "cell_type": "code",
   "execution_count": 102,
   "id": "b183da4d",
   "metadata": {},
   "outputs": [
    {
     "data": {
      "text/plain": [
       "[10, 20, 25, 30, 40, 45]"
      ]
     },
     "execution_count": 102,
     "metadata": {},
     "output_type": "execute_result"
    }
   ],
   "source": [
    "nums.remove(45)\n",
    "nums"
   ]
  },
  {
   "cell_type": "code",
   "execution_count": 103,
   "id": "afb742cc",
   "metadata": {},
   "outputs": [
    {
     "data": {
      "text/plain": [
       "[10, 20, 25, 30, 40]"
      ]
     },
     "execution_count": 103,
     "metadata": {},
     "output_type": "execute_result"
    }
   ],
   "source": [
    "nums.remove(45)\n",
    "nums"
   ]
  },
  {
   "cell_type": "code",
   "execution_count": 105,
   "id": "d63b56d5",
   "metadata": {},
   "outputs": [
    {
     "data": {
      "text/plain": [
       "[10, 20, 30, 40]"
      ]
     },
     "execution_count": 105,
     "metadata": {},
     "output_type": "execute_result"
    }
   ],
   "source": [
    "nums.pop(2)\n",
    "nums"
   ]
  },
  {
   "cell_type": "code",
   "execution_count": 106,
   "id": "641b19bd",
   "metadata": {},
   "outputs": [
    {
     "data": {
      "text/plain": [
       "40"
      ]
     },
     "execution_count": 106,
     "metadata": {},
     "output_type": "execute_result"
    }
   ],
   "source": [
    "nums.pop()"
   ]
  },
  {
   "cell_type": "code",
   "execution_count": 107,
   "id": "7e97235d",
   "metadata": {},
   "outputs": [
    {
     "data": {
      "text/plain": [
       "[10, 20, 30]"
      ]
     },
     "execution_count": 107,
     "metadata": {},
     "output_type": "execute_result"
    }
   ],
   "source": [
    "nums"
   ]
  },
  {
   "cell_type": "code",
   "execution_count": 111,
   "id": "b6949b89",
   "metadata": {},
   "outputs": [
    {
     "data": {
      "text/plain": [
       "[10]"
      ]
     },
     "execution_count": 111,
     "metadata": {},
     "output_type": "execute_result"
    }
   ],
   "source": [
    "del nums[2:]\n",
    "nums"
   ]
  },
  {
   "cell_type": "code",
   "execution_count": 113,
   "id": "f5186f65",
   "metadata": {},
   "outputs": [
    {
     "data": {
      "text/plain": [
       "[10, 12, 15, 19]"
      ]
     },
     "execution_count": 113,
     "metadata": {},
     "output_type": "execute_result"
    }
   ],
   "source": [
    "nums.extend([12,15,19])\n",
    "nums"
   ]
  },
  {
   "cell_type": "code",
   "execution_count": 114,
   "id": "88d2bf48",
   "metadata": {},
   "outputs": [
    {
     "data": {
      "text/plain": [
       "10"
      ]
     },
     "execution_count": 114,
     "metadata": {},
     "output_type": "execute_result"
    }
   ],
   "source": [
    "min(nums)"
   ]
  },
  {
   "cell_type": "code",
   "execution_count": 115,
   "id": "09502689",
   "metadata": {},
   "outputs": [
    {
     "data": {
      "text/plain": [
       "19"
      ]
     },
     "execution_count": 115,
     "metadata": {},
     "output_type": "execute_result"
    }
   ],
   "source": [
    "max(nums)"
   ]
  },
  {
   "cell_type": "code",
   "execution_count": 116,
   "id": "de3391df",
   "metadata": {},
   "outputs": [
    {
     "data": {
      "text/plain": [
       "56"
      ]
     },
     "execution_count": 116,
     "metadata": {},
     "output_type": "execute_result"
    }
   ],
   "source": [
    "sum(nums)"
   ]
  },
  {
   "cell_type": "code",
   "execution_count": 118,
   "id": "1a764b6b",
   "metadata": {},
   "outputs": [
    {
     "data": {
      "text/plain": [
       "[10, 12, 15, 19]"
      ]
     },
     "execution_count": 118,
     "metadata": {},
     "output_type": "execute_result"
    }
   ],
   "source": [
    "nums.sort()\n",
    "nums"
   ]
  },
  {
   "cell_type": "code",
   "execution_count": 120,
   "id": "3f3dafd6",
   "metadata": {},
   "outputs": [
    {
     "data": {
      "text/plain": [
       "(10, 20, 30, 40)"
      ]
     },
     "execution_count": 120,
     "metadata": {},
     "output_type": "execute_result"
    }
   ],
   "source": [
    "tup=(10,20,30,40)\n",
    "tup"
   ]
  },
  {
   "cell_type": "code",
   "execution_count": 121,
   "id": "4f5b9380",
   "metadata": {},
   "outputs": [
    {
     "data": {
      "text/plain": [
       "20"
      ]
     },
     "execution_count": 121,
     "metadata": {},
     "output_type": "execute_result"
    }
   ],
   "source": [
    "tup[1]"
   ]
  },
  {
   "cell_type": "code",
   "execution_count": 122,
   "id": "bbcedb2c",
   "metadata": {},
   "outputs": [
    {
     "ename": "TypeError",
     "evalue": "'tuple' object does not support item assignment",
     "output_type": "error",
     "traceback": [
      "\u001b[1;31m---------------------------------------------------------------------------\u001b[0m",
      "\u001b[1;31mTypeError\u001b[0m                                 Traceback (most recent call last)",
      "Input \u001b[1;32mIn [122]\u001b[0m, in \u001b[0;36m<cell line: 1>\u001b[1;34m()\u001b[0m\n\u001b[1;32m----> 1\u001b[0m tup[\u001b[38;5;241m1\u001b[39m]\u001b[38;5;241m=\u001b[39m\u001b[38;5;241m25\u001b[39m\n",
      "\u001b[1;31mTypeError\u001b[0m: 'tuple' object does not support item assignment"
     ]
    }
   ],
   "source": [
    "tup[1]=25"
   ]
  },
  {
   "cell_type": "code",
   "execution_count": 123,
   "id": "78f08649",
   "metadata": {},
   "outputs": [
    {
     "data": {
      "text/plain": [
       "{10, 20, 30, 40, 70}"
      ]
     },
     "execution_count": 123,
     "metadata": {},
     "output_type": "execute_result"
    }
   ],
   "source": [
    "s={70,10,20,30,40}\n",
    "s"
   ]
  },
  {
   "cell_type": "code",
   "execution_count": 130,
   "id": "8e20c611",
   "metadata": {},
   "outputs": [
    {
     "data": {
      "text/plain": [
       "{12, 44, 66, 78, 99, 101, 509}"
      ]
     },
     "execution_count": 130,
     "metadata": {},
     "output_type": "execute_result"
    }
   ],
   "source": [
    "s={101,12,78,99,44,509,66}\n",
    "s"
   ]
  },
  {
   "cell_type": "code",
   "execution_count": 131,
   "id": "93d080a0",
   "metadata": {},
   "outputs": [
    {
     "ename": "TypeError",
     "evalue": "'set' object is not subscriptable",
     "output_type": "error",
     "traceback": [
      "\u001b[1;31m---------------------------------------------------------------------------\u001b[0m",
      "\u001b[1;31mTypeError\u001b[0m                                 Traceback (most recent call last)",
      "Input \u001b[1;32mIn [131]\u001b[0m, in \u001b[0;36m<cell line: 1>\u001b[1;34m()\u001b[0m\n\u001b[1;32m----> 1\u001b[0m \u001b[43ms\u001b[49m\u001b[43m[\u001b[49m\u001b[38;5;241;43m2\u001b[39;49m\u001b[43m]\u001b[49m\n",
      "\u001b[1;31mTypeError\u001b[0m: 'set' object is not subscriptable"
     ]
    }
   ],
   "source": [
    "s[2]"
   ]
  },
  {
   "cell_type": "code",
   "execution_count": 135,
   "id": "2eafe2d7",
   "metadata": {},
   "outputs": [
    {
     "data": {
      "text/plain": [
       "66"
      ]
     },
     "execution_count": 135,
     "metadata": {},
     "output_type": "execute_result"
    }
   ],
   "source": [
    "s.pop()"
   ]
  },
  {
   "cell_type": "code",
   "execution_count": 140,
   "id": "7919ba15",
   "metadata": {},
   "outputs": [
    {
     "data": {
      "text/plain": [
       "{12, 25, 44, 78, 99, 101, 509}"
      ]
     },
     "execution_count": 140,
     "metadata": {},
     "output_type": "execute_result"
    }
   ],
   "source": [
    "s.add(25)\n",
    "s"
   ]
  },
  {
   "cell_type": "code",
   "execution_count": 142,
   "id": "550c253f",
   "metadata": {},
   "outputs": [
    {
     "data": {
      "text/plain": [
       "{25, 44, 78, 99, 101, 509}"
      ]
     },
     "execution_count": 142,
     "metadata": {},
     "output_type": "execute_result"
    }
   ],
   "source": [
    "s.remove(12)\n",
    "s"
   ]
  },
  {
   "cell_type": "markdown",
   "id": "58a9d6dc",
   "metadata": {},
   "source": [
    "max(s)"
   ]
  },
  {
   "cell_type": "code",
   "execution_count": 143,
   "id": "6c38a48e",
   "metadata": {},
   "outputs": [
    {
     "data": {
      "text/plain": [
       "509"
      ]
     },
     "execution_count": 143,
     "metadata": {},
     "output_type": "execute_result"
    }
   ],
   "source": [
    "max(s)"
   ]
  },
  {
   "cell_type": "code",
   "execution_count": 144,
   "id": "972b75c4",
   "metadata": {},
   "outputs": [
    {
     "data": {
      "text/plain": [
       "25"
      ]
     },
     "execution_count": 144,
     "metadata": {},
     "output_type": "execute_result"
    }
   ],
   "source": [
    "min(s)"
   ]
  },
  {
   "cell_type": "code",
   "execution_count": 145,
   "id": "c90331f2",
   "metadata": {},
   "outputs": [
    {
     "data": {
      "text/plain": [
       "{1: 'ananya', 2: 'anu', 4: 'akash'}"
      ]
     },
     "execution_count": 145,
     "metadata": {},
     "output_type": "execute_result"
    }
   ],
   "source": [
    "data={1:'ananya',2:'anu',4:'akash'}\n",
    "data"
   ]
  },
  {
   "cell_type": "code",
   "execution_count": 146,
   "id": "efd83792",
   "metadata": {},
   "outputs": [
    {
     "data": {
      "text/plain": [
       "'ananya'"
      ]
     },
     "execution_count": 146,
     "metadata": {},
     "output_type": "execute_result"
    }
   ],
   "source": [
    "data[1]"
   ]
  },
  {
   "cell_type": "code",
   "execution_count": 147,
   "id": "86d2a509",
   "metadata": {},
   "outputs": [
    {
     "ename": "KeyError",
     "evalue": "3",
     "output_type": "error",
     "traceback": [
      "\u001b[1;31m---------------------------------------------------------------------------\u001b[0m",
      "\u001b[1;31mKeyError\u001b[0m                                  Traceback (most recent call last)",
      "Input \u001b[1;32mIn [147]\u001b[0m, in \u001b[0;36m<cell line: 1>\u001b[1;34m()\u001b[0m\n\u001b[1;32m----> 1\u001b[0m \u001b[43mdata\u001b[49m\u001b[43m[\u001b[49m\u001b[38;5;241;43m3\u001b[39;49m\u001b[43m]\u001b[49m\n",
      "\u001b[1;31mKeyError\u001b[0m: 3"
     ]
    }
   ],
   "source": [
    "data[3]"
   ]
  },
  {
   "cell_type": "code",
   "execution_count": 148,
   "id": "e24ccbaf",
   "metadata": {},
   "outputs": [
    {
     "data": {
      "text/plain": [
       "'ananya'"
      ]
     },
     "execution_count": 148,
     "metadata": {},
     "output_type": "execute_result"
    }
   ],
   "source": [
    "data.get(1)"
   ]
  },
  {
   "cell_type": "code",
   "execution_count": 150,
   "id": "cfa75f4d",
   "metadata": {},
   "outputs": [
    {
     "name": "stdout",
     "output_type": "stream",
     "text": [
      "None\n"
     ]
    }
   ],
   "source": [
    "print(data.get(3))"
   ]
  },
  {
   "cell_type": "code",
   "execution_count": 151,
   "id": "26d49886",
   "metadata": {},
   "outputs": [
    {
     "data": {
      "text/plain": [
       "'not found'"
      ]
     },
     "execution_count": 151,
     "metadata": {},
     "output_type": "execute_result"
    }
   ],
   "source": [
    "data.get(3,'not found')"
   ]
  },
  {
   "cell_type": "code",
   "execution_count": 154,
   "id": "c042c9b8",
   "metadata": {},
   "outputs": [
    {
     "data": {
      "text/plain": [
       "{'anaya': 'python', 'anu': 'java', 'preetham': 'c++'}"
      ]
     },
     "execution_count": 154,
     "metadata": {},
     "output_type": "execute_result"
    }
   ],
   "source": [
    "keys=['anaya','anu','preetham']\n",
    "values=['python','java','c++']\n",
    "data=dict(zip(keys,values))\n",
    "data"
   ]
  },
  {
   "cell_type": "code",
   "execution_count": 157,
   "id": "da42705b",
   "metadata": {},
   "outputs": [
    {
     "data": {
      "text/plain": [
       "'python'"
      ]
     },
     "execution_count": 157,
     "metadata": {},
     "output_type": "execute_result"
    }
   ],
   "source": [
    "data['anaya']"
   ]
  },
  {
   "cell_type": "code",
   "execution_count": 158,
   "id": "5e679340",
   "metadata": {},
   "outputs": [
    {
     "data": {
      "text/plain": [
       "{'anaya': 'python', 'anu': 'java', 'preetham': 'c++', 'monica': 'C'}"
      ]
     },
     "execution_count": 158,
     "metadata": {},
     "output_type": "execute_result"
    }
   ],
   "source": [
    "data['monica']='C'\n",
    "data"
   ]
  },
  {
   "cell_type": "code",
   "execution_count": 160,
   "id": "ba2a7316",
   "metadata": {},
   "outputs": [
    {
     "data": {
      "text/plain": [
       "{'anaya': 'python', 'anu': 'java', 'monica': 'C'}"
      ]
     },
     "execution_count": 160,
     "metadata": {},
     "output_type": "execute_result"
    }
   ],
   "source": [
    "del data['preetham']\n",
    "data"
   ]
  },
  {
   "cell_type": "code",
   "execution_count": 163,
   "id": "a20a7e49",
   "metadata": {},
   "outputs": [
    {
     "data": {
      "text/plain": [
       "{'JS': 'Atom',\n",
       " 'CS': 'VS',\n",
       " 'Python': ['Pycharm', 'Jupyter notebook'],\n",
       " 'Java': {'JSE': 'Netbeans', 'JEE': 'Eclipse'}}"
      ]
     },
     "execution_count": 163,
     "metadata": {},
     "output_type": "execute_result"
    }
   ],
   "source": [
    "prog={'JS':'Atom','CS':'VS','Python':['Pycharm','Jupyter notebook'],'Java':{'JSE':'Netbeans','JEE':'Eclipse'}}\n",
    "prog"
   ]
  },
  {
   "cell_type": "code",
   "execution_count": 164,
   "id": "dbbbcac3",
   "metadata": {},
   "outputs": [
    {
     "data": {
      "text/plain": [
       "'Atom'"
      ]
     },
     "execution_count": 164,
     "metadata": {},
     "output_type": "execute_result"
    }
   ],
   "source": [
    "prog['JS']"
   ]
  },
  {
   "cell_type": "code",
   "execution_count": 165,
   "id": "31f59743",
   "metadata": {},
   "outputs": [
    {
     "data": {
      "text/plain": [
       "['Pycharm', 'Jupyter notebook']"
      ]
     },
     "execution_count": 165,
     "metadata": {},
     "output_type": "execute_result"
    }
   ],
   "source": [
    "prog['Python']"
   ]
  },
  {
   "cell_type": "code",
   "execution_count": 166,
   "id": "757d6de3",
   "metadata": {},
   "outputs": [
    {
     "data": {
      "text/plain": [
       "'Jupyter notebook'"
      ]
     },
     "execution_count": 166,
     "metadata": {},
     "output_type": "execute_result"
    }
   ],
   "source": [
    "prog['Python'][1]"
   ]
  },
  {
   "cell_type": "code",
   "execution_count": 168,
   "id": "ec544a1f",
   "metadata": {},
   "outputs": [
    {
     "data": {
      "text/plain": [
       "{'JSE': 'Netbeans', 'JEE': 'Eclipse'}"
      ]
     },
     "execution_count": 168,
     "metadata": {},
     "output_type": "execute_result"
    }
   ],
   "source": [
    "prog['Java']"
   ]
  },
  {
   "cell_type": "code",
   "execution_count": 169,
   "id": "4b537fa8",
   "metadata": {},
   "outputs": [
    {
     "data": {
      "text/plain": [
       "'Eclipse'"
      ]
     },
     "execution_count": 169,
     "metadata": {},
     "output_type": "execute_result"
    }
   ],
   "source": [
    "prog['Java']['JEE']"
   ]
  },
  {
   "cell_type": "code",
   "execution_count": 170,
   "id": "67a8ed05",
   "metadata": {},
   "outputs": [
    {
     "name": "stdout",
     "output_type": "stream",
     "text": [
      "Im right\n"
     ]
    }
   ],
   "source": [
    "if True:\n",
    "    print(\"Im right\")\n"
   ]
  },
  {
   "cell_type": "code",
   "execution_count": 171,
   "id": "6316ec6a",
   "metadata": {},
   "outputs": [],
   "source": [
    "if False:\n",
    "    print(\"Im right\")"
   ]
  },
  {
   "cell_type": "code",
   "execution_count": 172,
   "id": "adc090bc",
   "metadata": {},
   "outputs": [
    {
     "name": "stdout",
     "output_type": "stream",
     "text": [
      "Im right\n",
      "hi\n"
     ]
    }
   ],
   "source": [
    "if True:\n",
    "    print(\"Im right\")\n",
    "print(\"hi\")"
   ]
  },
  {
   "cell_type": "code",
   "execution_count": 173,
   "id": "98fddecd",
   "metadata": {},
   "outputs": [
    {
     "name": "stdout",
     "output_type": "stream",
     "text": [
      "Bye\n"
     ]
    }
   ],
   "source": [
    "if False:\n",
    "    print(\"Im right\")\n",
    "print(\"Bye\")"
   ]
  },
  {
   "cell_type": "code",
   "execution_count": 175,
   "id": "d7beea9b",
   "metadata": {},
   "outputs": [
    {
     "ename": "IndentationError",
     "evalue": "unindent does not match any outer indentation level (<tokenize>, line 3)",
     "output_type": "error",
     "traceback": [
      "\u001b[1;36m  File \u001b[1;32m<tokenize>:3\u001b[1;36m\u001b[0m\n\u001b[1;33m    print(\"Bye\")\u001b[0m\n\u001b[1;37m    ^\u001b[0m\n\u001b[1;31mIndentationError\u001b[0m\u001b[1;31m:\u001b[0m unindent does not match any outer indentation level\n"
     ]
    }
   ],
   "source": [
    "if False:\n",
    "    print(\"Im right\")\n",
    "  print(\"Bye\")"
   ]
  },
  {
   "cell_type": "code",
   "execution_count": 176,
   "id": "a23240a6",
   "metadata": {},
   "outputs": [
    {
     "name": "stdout",
     "output_type": "stream",
     "text": [
      "even\n"
     ]
    }
   ],
   "source": [
    "x=10\n",
    "r=x%2\n",
    "if r==0:\n",
    "    print(\"even\")"
   ]
  },
  {
   "cell_type": "code",
   "execution_count": 179,
   "id": "b27ede60",
   "metadata": {},
   "outputs": [
    {
     "name": "stdout",
     "output_type": "stream",
     "text": [
      "odd\n"
     ]
    }
   ],
   "source": [
    "x=3\n",
    "r=x%2\n",
    "if r==0:\n",
    "    print(\"even\")\n",
    "if r==1:\n",
    "    print(\"odd\")\n"
   ]
  },
  {
   "cell_type": "code",
   "execution_count": 181,
   "id": "5f576cc7",
   "metadata": {},
   "outputs": [
    {
     "name": "stdout",
     "output_type": "stream",
     "text": [
      "odd\n"
     ]
    }
   ],
   "source": [
    "x=7\n",
    "r=x%2\n",
    "if r==0:\n",
    "    print(\"even\")\n",
    "else:\n",
    "    print(\"odd\")"
   ]
  },
  {
   "cell_type": "code",
   "execution_count": 182,
   "id": "b036f15f",
   "metadata": {},
   "outputs": [
    {
     "name": "stdout",
     "output_type": "stream",
     "text": [
      "even\n",
      "great\n"
     ]
    }
   ],
   "source": [
    "x=10\n",
    "r=x%2\n",
    "if r==0:\n",
    "    print(\"even\")\n",
    "    if x>5:\n",
    "        print(\"great\")\n",
    "    else:\n",
    "        print(\"not great\")\n",
    "if r==1:\n",
    "    print(\"odd\")"
   ]
  },
  {
   "cell_type": "code",
   "execution_count": 183,
   "id": "48db14af",
   "metadata": {},
   "outputs": [
    {
     "name": "stdout",
     "output_type": "stream",
     "text": [
      "even\n",
      "not great\n"
     ]
    }
   ],
   "source": [
    "x=2\n",
    "r=x%2\n",
    "if r==0:\n",
    "    print(\"even\")\n",
    "    if x>5:\n",
    "        print(\"great\")\n",
    "    else:\n",
    "        print(\"not great\")\n",
    "if r==1:\n",
    "    print(\"odd\")"
   ]
  },
  {
   "cell_type": "code",
   "execution_count": 184,
   "id": "95e1f5eb",
   "metadata": {},
   "outputs": [
    {
     "name": "stdout",
     "output_type": "stream",
     "text": [
      "three\n"
     ]
    }
   ],
   "source": [
    "x=3\n",
    "if(x==1):\n",
    "    print(\"one\")\n",
    "elif(x==2):\n",
    "    print(\"two\")\n",
    "elif(x==3):\n",
    "    print(\"three\")\n",
    "elif(x==4):\n",
    "    print(\"four\")\n",
    "else:\n",
    "    print(\"wrong input\")"
   ]
  },
  {
   "cell_type": "code",
   "execution_count": 185,
   "id": "3ba5a26d",
   "metadata": {},
   "outputs": [
    {
     "name": "stdout",
     "output_type": "stream",
     "text": [
      "wrong input\n"
     ]
    }
   ],
   "source": [
    "x=5\n",
    "if(x==1):\n",
    "    print(\"one\")\n",
    "elif(x==2):\n",
    "    print(\"two\")\n",
    "elif(x==3):\n",
    "    print(\"three\")\n",
    "elif(x==4):\n",
    "    print(\"four\")\n",
    "else:\n",
    "    print(\"wrong input\")"
   ]
  },
  {
   "cell_type": "code",
   "execution_count": 187,
   "id": "c361d9f6",
   "metadata": {},
   "outputs": [
    {
     "name": "stdout",
     "output_type": "stream",
     "text": [
      "hello\n",
      "hello\n",
      "hello\n",
      "hello\n",
      "hello\n"
     ]
    }
   ],
   "source": [
    "i=1\n",
    "while i<=5:\n",
    "    print(\"hello\")\n",
    "    i=i+1"
   ]
  },
  {
   "cell_type": "code",
   "execution_count": 189,
   "id": "3347f4c7",
   "metadata": {},
   "outputs": [
    {
     "name": "stdout",
     "output_type": "stream",
     "text": [
      "hello 3\n",
      "hello 2\n",
      "hello 1\n"
     ]
    }
   ],
   "source": [
    "i=3\n",
    "while i>=1:\n",
    "    print(\"hello\",i)\n",
    "    i=i-1"
   ]
  },
  {
   "cell_type": "code",
   "execution_count": 190,
   "id": "58c8968c",
   "metadata": {},
   "outputs": [
    {
     "name": "stdout",
     "output_type": "stream",
     "text": [
      "hello\n",
      "hi\n",
      "hi\n",
      "hi\n",
      "hello\n",
      "hello\n",
      "hello\n",
      "hello\n"
     ]
    }
   ],
   "source": [
    "i=1\n",
    "j=1\n",
    "while i<=5:\n",
    "    print(\"hello\")\n",
    "    while j<=3:\n",
    "        print(\"hi\")\n",
    "        j=j+1\n",
    "    i=i+1"
   ]
  },
  {
   "cell_type": "code",
   "execution_count": 196,
   "id": "47b2c800",
   "metadata": {},
   "outputs": [
    {
     "name": "stdout",
     "output_type": "stream",
     "text": [
      "hello hi hi hi \n",
      "hello \n",
      "hello \n",
      "hello \n",
      "hello \n"
     ]
    }
   ],
   "source": [
    "i=1\n",
    "j=1\n",
    "while i<=5:\n",
    "    print(\"hello\",end=\" \")\n",
    "    while j<=3:\n",
    "        print(\"hi\",end=\" \")\n",
    "        j=j+1\n",
    "    i=i+1\n",
    "    print()"
   ]
  },
  {
   "cell_type": "code",
   "execution_count": 197,
   "id": "ead1d3b0",
   "metadata": {},
   "outputs": [
    {
     "name": "stdout",
     "output_type": "stream",
     "text": [
      "hello hi hi hi \n",
      "hello hi hi hi \n",
      "hello hi hi hi \n",
      "hello hi hi hi \n",
      "hello hi hi hi \n"
     ]
    }
   ],
   "source": [
    "i=1\n",
    "\n",
    "while i<=5:\n",
    "    print(\"hello\",end=\" \")\n",
    "    j=1\n",
    "    while j<=3:\n",
    "        print(\"hi\",end=\" \")\n",
    "        j=j+1\n",
    "    i=i+1\n",
    "    print()"
   ]
  },
  {
   "cell_type": "code",
   "execution_count": 198,
   "id": "d851580c",
   "metadata": {},
   "outputs": [
    {
     "name": "stdout",
     "output_type": "stream",
     "text": [
      "ananya\n",
      "15\n",
      "2.5\n"
     ]
    }
   ],
   "source": [
    "x=[\"ananya\",15,2.5]\n",
    "for i in x:\n",
    "    print(i)"
   ]
  },
  {
   "cell_type": "code",
   "execution_count": 199,
   "id": "43108e95",
   "metadata": {},
   "outputs": [
    {
     "name": "stdout",
     "output_type": "stream",
     "text": [
      "A\n",
      "N\n",
      "A\n",
      "N\n",
      "Y\n",
      "A\n"
     ]
    }
   ],
   "source": [
    "x=\"ANANYA\"\n",
    "for i in x:\n",
    "    print(i)"
   ]
  },
  {
   "cell_type": "code",
   "execution_count": 200,
   "id": "3c6c8876",
   "metadata": {},
   "outputs": [
    {
     "name": "stdout",
     "output_type": "stream",
     "text": [
      "0\n",
      "1\n",
      "2\n",
      "3\n",
      "4\n"
     ]
    }
   ],
   "source": [
    "for i in range(5):\n",
    "    print(i)"
   ]
  },
  {
   "cell_type": "code",
   "execution_count": 201,
   "id": "376b0dbd",
   "metadata": {},
   "outputs": [
    {
     "name": "stdout",
     "output_type": "stream",
     "text": [
      "12\n",
      "13\n",
      "14\n"
     ]
    }
   ],
   "source": [
    "for i in range(12,15,1):\n",
    "    print(i)"
   ]
  },
  {
   "cell_type": "code",
   "execution_count": 202,
   "id": "7ec6a04a",
   "metadata": {},
   "outputs": [
    {
     "name": "stdout",
     "output_type": "stream",
     "text": [
      "22\n",
      "21\n",
      "20\n",
      "19\n",
      "18\n",
      "17\n",
      "16\n"
     ]
    }
   ],
   "source": [
    "for i in range(22,15,-1):\n",
    "    print(i)"
   ]
  },
  {
   "cell_type": "code",
   "execution_count": 203,
   "id": "9c811905",
   "metadata": {},
   "outputs": [
    {
     "name": "stdout",
     "output_type": "stream",
     "text": [
      "5\n",
      "10\n",
      "15\n",
      "20\n"
     ]
    }
   ],
   "source": [
    "for i in range(1,21):\n",
    "    if i%5==0:\n",
    "        print(i)"
   ]
  },
  {
   "cell_type": "code",
   "execution_count": 204,
   "id": "24947af1",
   "metadata": {},
   "outputs": [
    {
     "name": "stdout",
     "output_type": "stream",
     "text": [
      "How many candiesyou want?4\n",
      "Candies\n",
      "Candies\n",
      "Candies\n",
      "Candies\n"
     ]
    }
   ],
   "source": [
    "x=int(input(\"How many candiesyou want?\"))\n",
    "i=1\n",
    "while i<=x:\n",
    "    print(\"Candies\")\n",
    "    i+=1"
   ]
  },
  {
   "cell_type": "code",
   "execution_count": 206,
   "id": "995842fd",
   "metadata": {},
   "outputs": [
    {
     "name": "stdout",
     "output_type": "stream",
     "text": [
      "How many candiesyou want?4\n",
      "Candies\n",
      "Candies\n",
      "Candies\n",
      "Candies\n",
      "bye\n"
     ]
    }
   ],
   "source": [
    "available=10\n",
    "x=int(input(\"How many candiesyou want?\"))\n",
    "\n",
    "i=1\n",
    "while i<=x:\n",
    "    if i>available:\n",
    "        break\n",
    "    print(\"Candies\")\n",
    "    i+=1\n",
    "print(\"bye\")"
   ]
  },
  {
   "cell_type": "code",
   "execution_count": 208,
   "id": "46da8173",
   "metadata": {},
   "outputs": [
    {
     "name": "stdout",
     "output_type": "stream",
     "text": [
      "How many candiesyou want?11\n",
      "Candies\n",
      "Candies\n",
      "Candies\n",
      "Candies\n",
      "Candies\n",
      "Candies\n",
      "Out of stock\n",
      "bye\n"
     ]
    }
   ],
   "source": [
    "available=6\n",
    "x=int(input(\"How many candiesyou want?\"))\n",
    "\n",
    "i=1\n",
    "while i<=x:\n",
    "    if i>available:\n",
    "        print(\"Out of stock\")\n",
    "        break\n",
    "    print(\"Candies\")\n",
    "    i+=1\n",
    "print(\"bye\")"
   ]
  },
  {
   "cell_type": "code",
   "execution_count": 213,
   "id": "e7cea4ee",
   "metadata": {},
   "outputs": [
    {
     "name": "stdout",
     "output_type": "stream",
     "text": [
      "1\n",
      "2\n",
      "4\n",
      "7\n",
      "8\n",
      "11\n",
      "13\n",
      "14\n",
      "16\n",
      "17\n",
      "19\n"
     ]
    }
   ],
   "source": [
    "for i in range(1,22):\n",
    "    if i%3==0 or i%5==0:\n",
    "        continue\n",
    "    print(i)\n"
   ]
  },
  {
   "cell_type": "code",
   "execution_count": 214,
   "id": "f72bfbe9",
   "metadata": {},
   "outputs": [
    {
     "name": "stdout",
     "output_type": "stream",
     "text": [
      "2\n",
      "4\n",
      "6\n",
      "8\n",
      "10\n",
      "12\n",
      "14\n",
      "16\n",
      "18\n",
      "20\n"
     ]
    }
   ],
   "source": [
    "for i in range(1,21):\n",
    "    if(i%2!=0):\n",
    "        pass\n",
    "    else:\n",
    "        print(i)"
   ]
  },
  {
   "cell_type": "code",
   "execution_count": 218,
   "id": "f5bbbc10",
   "metadata": {},
   "outputs": [
    {
     "name": "stdout",
     "output_type": "stream",
     "text": [
      "15\n"
     ]
    }
   ],
   "source": [
    "nums=[12,15,18,21,28]\n",
    "for num in nums:\n",
    "    if num%5==0:\n",
    "        print(num)"
   ]
  },
  {
   "cell_type": "code",
   "execution_count": 219,
   "id": "bd471b95",
   "metadata": {},
   "outputs": [
    {
     "name": "stdout",
     "output_type": "stream",
     "text": [
      "15\n",
      "25\n"
     ]
    }
   ],
   "source": [
    "nums=[12,15,18,21,25]\n",
    "for num in nums:\n",
    "    if num%5==0:\n",
    "        print(num)"
   ]
  },
  {
   "cell_type": "code",
   "execution_count": 220,
   "id": "c64be7e8",
   "metadata": {},
   "outputs": [
    {
     "name": "stdout",
     "output_type": "stream",
     "text": [
      "15\n"
     ]
    }
   ],
   "source": [
    "nums=[12,15,18,21,28]\n",
    "for num in nums:\n",
    "    if num%5==0:\n",
    "        print(num)\n",
    "        break"
   ]
  },
  {
   "cell_type": "code",
   "execution_count": 222,
   "id": "066d25e1",
   "metadata": {},
   "outputs": [
    {
     "name": "stdout",
     "output_type": "stream",
     "text": [
      "not found\n",
      "not found\n",
      "not found\n",
      "not found\n",
      "not found\n"
     ]
    }
   ],
   "source": [
    "nums=[12,16,18,21,28]\n",
    "for num in nums:\n",
    "    if num%5==0:\n",
    "        print(num)\n",
    "    else:\n",
    "        print(\"not found\")"
   ]
  },
  {
   "cell_type": "code",
   "execution_count": 224,
   "id": "87a2d477",
   "metadata": {},
   "outputs": [
    {
     "name": "stdout",
     "output_type": "stream",
     "text": [
      "not found\n"
     ]
    }
   ],
   "source": [
    "nums=[12,16,18,21,28]\n",
    "for num in nums:\n",
    "    if num%5==0:\n",
    "        print(num)\n",
    "else:\n",
    "        print(\"not found\")"
   ]
  },
  {
   "cell_type": "code",
   "execution_count": 226,
   "id": "325238a4",
   "metadata": {},
   "outputs": [
    {
     "name": "stdout",
     "output_type": "stream",
     "text": [
      "array('i', [5, 9, -84, 2])\n"
     ]
    }
   ],
   "source": [
    "from array import*\n",
    "vals=array('i',[5,9,-84,2])\n",
    "print(vals)"
   ]
  },
  {
   "cell_type": "code",
   "execution_count": 228,
   "id": "b9122ec4",
   "metadata": {},
   "outputs": [
    {
     "name": "stdout",
     "output_type": "stream",
     "text": [
      "(2175917088928, 4)\n"
     ]
    }
   ],
   "source": [
    "from array import*\n",
    "vals=array('i',[5,9,-84,2])\n",
    "print(vals.buffer_info())"
   ]
  },
  {
   "cell_type": "code",
   "execution_count": 229,
   "id": "20c71fbc",
   "metadata": {},
   "outputs": [
    {
     "name": "stdout",
     "output_type": "stream",
     "text": [
      "i\n"
     ]
    }
   ],
   "source": [
    "from array import*\n",
    "vals=array('i',[5,9,-84,2])\n",
    "print(vals.typecode)"
   ]
  },
  {
   "cell_type": "code",
   "execution_count": 230,
   "id": "2b62d4d9",
   "metadata": {},
   "outputs": [
    {
     "name": "stdout",
     "output_type": "stream",
     "text": [
      "array('i', [2, -84, 9, 5])\n"
     ]
    }
   ],
   "source": [
    "from array import*\n",
    "vals=array('i',[5,9,-84,2])\n",
    "vals.reverse()\n",
    "print(vals)"
   ]
  },
  {
   "cell_type": "code",
   "execution_count": 234,
   "id": "d070eb16",
   "metadata": {},
   "outputs": [
    {
     "name": "stdout",
     "output_type": "stream",
     "text": [
      "5\n"
     ]
    }
   ],
   "source": [
    "from array import*\n",
    "vals=array('i',[5,9,-8,4,2])\n",
    "print(vals[0])"
   ]
  },
  {
   "cell_type": "code",
   "execution_count": 235,
   "id": "a5bc075d",
   "metadata": {},
   "outputs": [
    {
     "name": "stdout",
     "output_type": "stream",
     "text": [
      "5\n",
      "9\n",
      "-8\n",
      "4\n",
      "2\n"
     ]
    }
   ],
   "source": [
    "from array import*\n",
    "vals=array('i',[5,9,-8,4,2])\n",
    "for i in range(5):\n",
    "    print(vals[i])"
   ]
  },
  {
   "cell_type": "code",
   "execution_count": 236,
   "id": "0f7736e8",
   "metadata": {},
   "outputs": [
    {
     "name": "stdout",
     "output_type": "stream",
     "text": [
      "5\n",
      "9\n",
      "-8\n",
      "4\n",
      "2\n"
     ]
    }
   ],
   "source": [
    "from array import*\n",
    "vals=array('i',[5,9,-8,4,2])\n",
    "for i in range(len(vals)):\n",
    "    print(vals[i])"
   ]
  },
  {
   "cell_type": "code",
   "execution_count": 238,
   "id": "b2b5f19e",
   "metadata": {},
   "outputs": [
    {
     "name": "stdout",
     "output_type": "stream",
     "text": [
      "5\n",
      "9\n",
      "-8\n",
      "4\n",
      "2\n"
     ]
    }
   ],
   "source": [
    "from array import*\n",
    "vals=array('i',[5,9,-8,4,2])\n",
    "for e in vals:\n",
    "    print(e)"
   ]
  },
  {
   "cell_type": "code",
   "execution_count": 246,
   "id": "a22d5f97",
   "metadata": {},
   "outputs": [
    {
     "name": "stdout",
     "output_type": "stream",
     "text": [
      "5\n",
      "9\n",
      "-8\n",
      "4\n",
      "2\n"
     ]
    }
   ],
   "source": [
    "from array import*\n",
    "vals=array('i',[5,9,-8,4,2])\n",
    "newArr=array(vals.typecode,(a for a in vals))\n",
    "for e in newArr:\n",
    "    print(e)"
   ]
  },
  {
   "cell_type": "code",
   "execution_count": 245,
   "id": "5307b066",
   "metadata": {},
   "outputs": [
    {
     "name": "stdout",
     "output_type": "stream",
     "text": [
      "25\n",
      "81\n",
      "64\n",
      "16\n",
      "4\n"
     ]
    }
   ],
   "source": [
    "from array import*\n",
    "vals=array('i',[5,9,-8,4,2])\n",
    "newArr=array(vals.typecode,(a*a for a in vals))\n",
    "for e in newArr:\n",
    "    print(e)"
   ]
  },
  {
   "cell_type": "code",
   "execution_count": 249,
   "id": "0321f89d",
   "metadata": {},
   "outputs": [
    {
     "name": "stdout",
     "output_type": "stream",
     "text": [
      "array('i', [25, 81, 64, 16, 4])\n"
     ]
    }
   ],
   "source": [
    "from array import*\n",
    "vals=array('i',[5,9,-8,4,2])\n",
    "newArr=array(vals.typecode,(a*a for a in vals))\n",
    "i=0\n",
    "while i<len(newArr):   \n",
    "    i=i+1\n",
    "print(newArr)"
   ]
  },
  {
   "cell_type": "code",
   "execution_count": 251,
   "id": "c5ea374d",
   "metadata": {},
   "outputs": [
    {
     "name": "stdout",
     "output_type": "stream",
     "text": [
      "enter the length of the array4\n",
      "enter the array elements10\n",
      "enter the array elements20\n",
      "enter the array elements30\n",
      "enter the array elements40\n",
      "array('i', [10, 20, 30, 40])\n"
     ]
    }
   ],
   "source": [
    "from array import*\n",
    "arr=array('i',[])\n",
    "n=int(input(\"enter the length of the array\"))\n",
    "for i in range(n):\n",
    "    x=int(input(\"enter the array elements\"))\n",
    "    arr.append(x)\n",
    "print(arr)"
   ]
  },
  {
   "cell_type": "code",
   "execution_count": 253,
   "id": "1272f650",
   "metadata": {},
   "outputs": [
    {
     "name": "stdout",
     "output_type": "stream",
     "text": [
      "enter the length of the array4\n",
      "enter the array elements10\n",
      "enter the array elements20\n",
      "enter the array elements30\n",
      "enter the array elements40\n",
      "array('i', [10, 20, 30, 40])\n",
      "enter the elements to be searched30\n",
      "2\n"
     ]
    }
   ],
   "source": [
    "from array import*\n",
    "arr=array('i',[])\n",
    "n=int(input(\"enter the length of the array\"))\n",
    "for i in range(n):\n",
    "    x=int(input(\"enter the array elements\"))\n",
    "    arr.append(x)\n",
    "print(arr)\n",
    "val=int(input(\"enter the elements to be searched\"))\n",
    "k=0\n",
    "for e in arr:\n",
    "    if e==val:\n",
    "        print(k)\n",
    "        break\n",
    "    k=k+1\n"
   ]
  },
  {
   "cell_type": "code",
   "execution_count": 254,
   "id": "73358228",
   "metadata": {},
   "outputs": [
    {
     "name": "stdout",
     "output_type": "stream",
     "text": [
      "enter the length of the array4\n",
      "enter the array elements10\n",
      "enter the array elements20\n",
      "enter the array elements30\n",
      "enter the array elements40\n",
      "array('i', [10, 20, 30, 40])\n",
      "2\n"
     ]
    }
   ],
   "source": [
    "from array import*\n",
    "arr=array('i',[])\n",
    "n=int(input(\"enter the length of the array\"))\n",
    "for i in range(n):\n",
    "    x=int(input(\"enter the array elements\"))\n",
    "    arr.append(x)\n",
    "print(arr)\n",
    "print(arr.index(val))"
   ]
  },
  {
   "cell_type": "code",
   "execution_count": 255,
   "id": "c514f297",
   "metadata": {},
   "outputs": [
    {
     "name": "stdout",
     "output_type": "stream",
     "text": [
      "int32\n"
     ]
    }
   ],
   "source": [
    "from numpy import*\n",
    "arr=array([1,2,3,4,5,0])\n",
    "print(arr.dtype)"
   ]
  },
  {
   "cell_type": "code",
   "execution_count": 257,
   "id": "4bdb2aea",
   "metadata": {},
   "outputs": [
    {
     "name": "stdout",
     "output_type": "stream",
     "text": [
      "float64\n",
      "[1. 2. 3. 4. 5. 0.]\n"
     ]
    }
   ],
   "source": [
    "from numpy import*\n",
    "arr=array([1,2,3,4,5.0,0])\n",
    "print(arr.dtype)\n",
    "print(arr)"
   ]
  },
  {
   "cell_type": "code",
   "execution_count": 259,
   "id": "a8472a52",
   "metadata": {},
   "outputs": [
    {
     "name": "stdout",
     "output_type": "stream",
     "text": [
      "float64\n"
     ]
    }
   ],
   "source": [
    "from numpy import*\n",
    "arr=array([1,2,3,4,5.0,0])\n",
    "print(arr.dtype)"
   ]
  },
  {
   "cell_type": "code",
   "execution_count": 260,
   "id": "086a99ca",
   "metadata": {},
   "outputs": [
    {
     "name": "stdout",
     "output_type": "stream",
     "text": [
      "float64\n",
      "[1. 2. 3. 4. 5. 0.]\n"
     ]
    }
   ],
   "source": [
    "from numpy import*\n",
    "arr=array([1,2,3,4,5,0],float)\n",
    "print(arr.dtype)\n",
    "print(arr)"
   ]
  },
  {
   "cell_type": "code",
   "execution_count": 261,
   "id": "42984685",
   "metadata": {},
   "outputs": [
    {
     "name": "stdout",
     "output_type": "stream",
     "text": [
      "int32\n",
      "[1 2 3 4 5 0]\n"
     ]
    }
   ],
   "source": [
    "from numpy import*\n",
    "arr=array([1,2,3,4,5,0],int)\n",
    "print(arr.dtype)\n",
    "print(arr)"
   ]
  },
  {
   "cell_type": "code",
   "execution_count": 262,
   "id": "a711de82",
   "metadata": {},
   "outputs": [
    {
     "name": "stdout",
     "output_type": "stream",
     "text": [
      "[ 0.  1.  2.  3.  4.  5.  6.  7.  8.  9. 10. 11. 12. 13. 14. 15. 16.]\n"
     ]
    }
   ],
   "source": [
    "from numpy import*\n",
    "arr=linspace(0,16,17)\n",
    "print(arr)"
   ]
  },
  {
   "cell_type": "code",
   "execution_count": 263,
   "id": "2a172e06",
   "metadata": {},
   "outputs": [
    {
     "name": "stdout",
     "output_type": "stream",
     "text": [
      "[ 0.          0.66666667  1.33333333  2.          2.66666667  3.33333333\n",
      "  4.          4.66666667  5.33333333  6.          6.66666667  7.33333333\n",
      "  8.          8.66666667  9.33333333 10.         10.66666667 11.33333333\n",
      " 12.         12.66666667 13.33333333 14.         14.66666667 15.33333333\n",
      " 16.        ]\n"
     ]
    }
   ],
   "source": [
    "from numpy import*\n",
    "arr=linspace(0,16,25)\n",
    "print(arr)"
   ]
  },
  {
   "cell_type": "code",
   "execution_count": 264,
   "id": "1b3b8bd4",
   "metadata": {},
   "outputs": [
    {
     "name": "stdout",
     "output_type": "stream",
     "text": [
      "[ 0  4  8 12]\n"
     ]
    }
   ],
   "source": [
    "from numpy import*\n",
    "arr=arange(0,16,4)\n",
    "print(arr)"
   ]
  },
  {
   "cell_type": "code",
   "execution_count": 265,
   "id": "9f6876fe",
   "metadata": {},
   "outputs": [
    {
     "name": "stdout",
     "output_type": "stream",
     "text": [
      "[1.e+00 1.e+01 1.e+02 1.e+03 1.e+04 1.e+05 1.e+06 1.e+07 1.e+08 1.e+09\n",
      " 1.e+10 1.e+11 1.e+12 1.e+13 1.e+14 1.e+15 1.e+16]\n"
     ]
    }
   ],
   "source": [
    "from numpy import*\n",
    "arr=logspace(0,16,17)\n",
    "print(arr)"
   ]
  },
  {
   "cell_type": "code",
   "execution_count": 266,
   "id": "c55a73c7",
   "metadata": {},
   "outputs": [
    {
     "name": "stdout",
     "output_type": "stream",
     "text": [
      "10000000000000000303786028427003666890752.00\n"
     ]
    }
   ],
   "source": [
    "from numpy import*\n",
    "arr=logspace(1,40,5)\n",
    "print('%.2f' %arr[4])"
   ]
  },
  {
   "cell_type": "code",
   "execution_count": 268,
   "id": "3ca6b5d4",
   "metadata": {},
   "outputs": [
    {
     "name": "stdout",
     "output_type": "stream",
     "text": [
      "[0. 0. 0.]\n"
     ]
    }
   ],
   "source": [
    "from numpy import*\n",
    "arr=zeros(3)\n",
    "print(arr)"
   ]
  },
  {
   "cell_type": "code",
   "execution_count": 269,
   "id": "afcc1806",
   "metadata": {},
   "outputs": [
    {
     "name": "stdout",
     "output_type": "stream",
     "text": [
      "[1. 1. 1.]\n"
     ]
    }
   ],
   "source": [
    "from numpy import*\n",
    "arr=ones(3)\n",
    "print(arr)"
   ]
  },
  {
   "cell_type": "code",
   "execution_count": 270,
   "id": "8b988951",
   "metadata": {},
   "outputs": [
    {
     "name": "stdout",
     "output_type": "stream",
     "text": [
      "[0 0 0]\n"
     ]
    }
   ],
   "source": [
    "from numpy import*\n",
    "arr=zeros(3,int)\n",
    "print(arr)"
   ]
  },
  {
   "cell_type": "code",
   "execution_count": 273,
   "id": "6a7f8eb1",
   "metadata": {},
   "outputs": [
    {
     "name": "stdout",
     "output_type": "stream",
     "text": [
      "[ 6  7  8  9 10]\n"
     ]
    }
   ],
   "source": [
    "from numpy import*\n",
    "arr1=array([1,2,3,4,5])\n",
    "arr2=arr1+5\n",
    "print(arr2)"
   ]
  },
  {
   "cell_type": "code",
   "execution_count": 274,
   "id": "7fd252c6",
   "metadata": {},
   "outputs": [
    {
     "name": "stdout",
     "output_type": "stream",
     "text": [
      "[ 7  9 11 13 15]\n"
     ]
    }
   ],
   "source": [
    "from numpy import*\n",
    "arr1=array([1,2,3,4,5])\n",
    "arr2=array([6,7,8,9,10])\n",
    "arr3=arr2+arr1\n",
    "print(arr3)"
   ]
  },
  {
   "cell_type": "code",
   "execution_count": 275,
   "id": "7d9b11ad",
   "metadata": {},
   "outputs": [
    {
     "name": "stdout",
     "output_type": "stream",
     "text": [
      "[ 0.84147098  0.90929743  0.14112001 -0.7568025  -0.95892427]\n"
     ]
    }
   ],
   "source": [
    "from numpy import*\n",
    "arr1=array([1,2,3,4,5])\n",
    "print(sin(arr1))"
   ]
  },
  {
   "cell_type": "code",
   "execution_count": 276,
   "id": "22717c19",
   "metadata": {},
   "outputs": [
    {
     "name": "stdout",
     "output_type": "stream",
     "text": [
      "[ 0.54030231 -0.41614684 -0.9899925  -0.65364362  0.28366219]\n"
     ]
    }
   ],
   "source": [
    "from numpy import*\n",
    "arr1=array([1,2,3,4,5])\n",
    "print(cos(arr1))"
   ]
  },
  {
   "cell_type": "code",
   "execution_count": 277,
   "id": "0a628718",
   "metadata": {},
   "outputs": [
    {
     "name": "stdout",
     "output_type": "stream",
     "text": [
      "[0.         0.69314718 1.09861229 1.38629436 1.60943791]\n"
     ]
    }
   ],
   "source": [
    "from numpy import*\n",
    "arr1=array([1,2,3,4,5])\n",
    "print(log(arr1))"
   ]
  },
  {
   "cell_type": "code",
   "execution_count": 278,
   "id": "386113b8",
   "metadata": {},
   "outputs": [
    {
     "name": "stdout",
     "output_type": "stream",
     "text": [
      "[1.         1.41421356 1.73205081 2.         2.23606798]\n"
     ]
    }
   ],
   "source": [
    "from numpy import*\n",
    "arr1=array([1,2,3,4,5])\n",
    "print(sqrt(arr1))"
   ]
  },
  {
   "cell_type": "code",
   "execution_count": 279,
   "id": "2bb21db8",
   "metadata": {},
   "outputs": [
    {
     "name": "stdout",
     "output_type": "stream",
     "text": [
      "5\n"
     ]
    }
   ],
   "source": [
    "from numpy import*\n",
    "arr1=array([1,2,3,4,5])\n",
    "print(max(arr1))"
   ]
  },
  {
   "cell_type": "code",
   "execution_count": 280,
   "id": "5dd480ce",
   "metadata": {},
   "outputs": [
    {
     "name": "stdout",
     "output_type": "stream",
     "text": [
      "1\n"
     ]
    }
   ],
   "source": [
    "from numpy import*\n",
    "arr1=array([1,2,3,4,5])\n",
    "print(min(arr1))"
   ]
  },
  {
   "cell_type": "code",
   "execution_count": 282,
   "id": "0b4cd8f9",
   "metadata": {},
   "outputs": [
    {
     "name": "stdout",
     "output_type": "stream",
     "text": [
      "[ 1  2  3  4  5  6  7  8  9 10]\n"
     ]
    }
   ],
   "source": [
    "from numpy import*\n",
    "arr1=array([1,2,3,4,5])\n",
    "arr2=array([6,7,8,9,10])\n",
    "print(concatenate([arr1,arr2]))"
   ]
  },
  {
   "cell_type": "code",
   "execution_count": 283,
   "id": "51c48180",
   "metadata": {},
   "outputs": [
    {
     "name": "stdout",
     "output_type": "stream",
     "text": [
      "[1 2 3 4 5]\n",
      "[1 2 3 4 5]\n"
     ]
    }
   ],
   "source": [
    "from numpy import*\n",
    "arr1=array([1,2,3,4,5])\n",
    "arr2=arr1\n",
    "print(arr1)\n",
    "print(arr2)"
   ]
  },
  {
   "cell_type": "code",
   "execution_count": 284,
   "id": "a39a8950",
   "metadata": {},
   "outputs": [
    {
     "name": "stdout",
     "output_type": "stream",
     "text": [
      "2175922946288\n"
     ]
    }
   ],
   "source": [
    "from numpy import*\n",
    "arr1=array([1,2,3,4,5])\n",
    "print(id(arr1))"
   ]
  },
  {
   "cell_type": "code",
   "execution_count": 286,
   "id": "0603bfdc",
   "metadata": {},
   "outputs": [
    {
     "name": "stdout",
     "output_type": "stream",
     "text": [
      "2175922607088\n",
      "2175922693776\n"
     ]
    }
   ],
   "source": [
    " from numpy import*\n",
    "arr1=array([1,2,3,4,5])\n",
    "arr2=arr1.view()\n",
    "print(id(arr1))\n",
    "print(id(arr2))"
   ]
  },
  {
   "cell_type": "code",
   "execution_count": 287,
   "id": "29c74808",
   "metadata": {},
   "outputs": [
    {
     "name": "stdout",
     "output_type": "stream",
     "text": [
      "[1 7 3 4 5]\n",
      "[1 7 3 4 5]\n",
      "2175922946288\n",
      "2175923088912\n"
     ]
    }
   ],
   "source": [
    "from numpy import*\n",
    "arr1=array([1,2,3,4,5])\n",
    "arr2=arr1.view()\n",
    "arr1[1]=7\n",
    "print(arr1)\n",
    "print(arr2)\n",
    "print(id(arr1))\n",
    "print(id(arr2))"
   ]
  },
  {
   "cell_type": "code",
   "execution_count": 288,
   "id": "87edc7f0",
   "metadata": {},
   "outputs": [
    {
     "name": "stdout",
     "output_type": "stream",
     "text": [
      "[1 7 3 4 5]\n",
      "[1 2 3 4 5]\n",
      "2175922606992\n",
      "2175922969072\n"
     ]
    }
   ],
   "source": [
    "from numpy import*\n",
    "arr1=array([1,2,3,4,5])\n",
    "arr2=arr1.copy()\n",
    "arr1[1]=7\n",
    "print(arr1)\n",
    "print(arr2)\n",
    "print(id(arr1))\n",
    "print(id(arr2))"
   ]
  },
  {
   "cell_type": "code",
   "execution_count": 292,
   "id": "99060f00",
   "metadata": {},
   "outputs": [
    {
     "name": "stdout",
     "output_type": "stream",
     "text": [
      "2\n"
     ]
    }
   ],
   "source": [
    "from numpy import*\n",
    "arr1=array([\n",
    "              [1,2,3] ,\n",
    "              [4,5,6]\n",
    "           \n",
    "            ])\n",
    "print(arr1.ndim)"
   ]
  },
  {
   "cell_type": "code",
   "execution_count": 293,
   "id": "4febd6e4",
   "metadata": {},
   "outputs": [
    {
     "name": "stdout",
     "output_type": "stream",
     "text": [
      "(2, 3)\n"
     ]
    }
   ],
   "source": [
    "from numpy import*\n",
    "arr1=array([\n",
    "              [1,2,3] ,\n",
    "              [4,5,6]\n",
    "           \n",
    "            ])\n",
    "print(arr1.shape)"
   ]
  },
  {
   "cell_type": "code",
   "execution_count": 294,
   "id": "50896693",
   "metadata": {},
   "outputs": [
    {
     "name": "stdout",
     "output_type": "stream",
     "text": [
      "6\n"
     ]
    }
   ],
   "source": [
    "from numpy import*\n",
    "arr1=array([\n",
    "              [1,2,3] ,\n",
    "              [4,5,6]\n",
    "           \n",
    "            ])\n",
    "print(arr1.size)"
   ]
  },
  {
   "cell_type": "code",
   "execution_count": 297,
   "id": "fe67d738",
   "metadata": {},
   "outputs": [
    {
     "name": "stdout",
     "output_type": "stream",
     "text": [
      "[[1 2 3 6]\n",
      " [2 9 4 5]\n",
      " [6 7 5 3]]\n"
     ]
    }
   ],
   "source": [
    "from numpy import*\n",
    "arr1=array([\n",
    "              [1,2,3,6,2,9] ,\n",
    "              [4,5,6,7,5,3]\n",
    "           \n",
    "            ])\n",
    "arr2=arr1.flatten()\n",
    "arr3=arr2.reshape(3,4)\n",
    "print(arr3)"
   ]
  },
  {
   "cell_type": "code",
   "execution_count": 298,
   "id": "296fe2b9",
   "metadata": {},
   "outputs": [
    {
     "name": "stdout",
     "output_type": "stream",
     "text": [
      "[[[1 2 3]\n",
      "  [6 2 9]]\n",
      "\n",
      " [[4 5 6]\n",
      "  [7 5 3]]]\n"
     ]
    }
   ],
   "source": [
    "from numpy import*\n",
    "arr1=array([\n",
    "              [1,2,3,6,2,9] ,\n",
    "              [4,5,6,7,5,3]\n",
    "           \n",
    "            ])\n",
    "arr2=arr1.flatten()\n",
    "arr3=arr2.reshape(2,2,3)\n",
    "print(arr3)"
   ]
  },
  {
   "cell_type": "code",
   "execution_count": 299,
   "id": "08144893",
   "metadata": {},
   "outputs": [
    {
     "name": "stdout",
     "output_type": "stream",
     "text": [
      "[[1 2 3]\n",
      " [4 5 6]]\n"
     ]
    }
   ],
   "source": [
    "from numpy import*\n",
    "arr1=array([\n",
    "              [1,2,3] ,\n",
    "              [4,5,6]\n",
    "           \n",
    "            ])\n",
    "m=matrix(arr1)\n",
    "print(m)"
   ]
  },
  {
   "cell_type": "code",
   "execution_count": 300,
   "id": "4557f69f",
   "metadata": {},
   "outputs": [
    {
     "name": "stdout",
     "output_type": "stream",
     "text": [
      "[[1 2 3]\n",
      " [5 7 8]\n",
      " [1 9 0]]\n"
     ]
    }
   ],
   "source": [
    "from numpy import*\n",
    "m=matrix('1,2,3;5,7,8;1,9,0')\n",
    "print(m)"
   ]
  },
  {
   "cell_type": "code",
   "execution_count": 301,
   "id": "8b49693f",
   "metadata": {},
   "outputs": [
    {
     "name": "stdout",
     "output_type": "stream",
     "text": [
      "9\n"
     ]
    }
   ],
   "source": [
    "from numpy import*\n",
    "m=matrix('1,2,3;5,7,8;1,9,0')\n",
    "print(m.max())"
   ]
  },
  {
   "cell_type": "code",
   "execution_count": 302,
   "id": "ee7c5a50",
   "metadata": {},
   "outputs": [
    {
     "name": "stdout",
     "output_type": "stream",
     "text": [
      "0\n"
     ]
    }
   ],
   "source": [
    "from numpy import*\n",
    "m=matrix('1,2,3;5,7,8;1,9,0')\n",
    "print(m.min())"
   ]
  },
  {
   "cell_type": "code",
   "execution_count": 304,
   "id": "20b74689",
   "metadata": {},
   "outputs": [
    {
     "name": "stdout",
     "output_type": "stream",
     "text": [
      "[[ 2  4  6]\n",
      " [11 14 17]\n",
      " [ 6 18  4]]\n"
     ]
    }
   ],
   "source": [
    "from numpy import*\n",
    "m1=matrix('1,2,3;5,7,8;1,9,0')\n",
    "m2=matrix('1,2,3;6,7,9;5,9,4')\n",
    "m3=m2+m1\n",
    "print(m3)\n"
   ]
  },
  {
   "cell_type": "code",
   "execution_count": 305,
   "id": "21a5fc35",
   "metadata": {},
   "outputs": [
    {
     "name": "stdout",
     "output_type": "stream",
     "text": [
      "[[ 28  43  33]\n",
      " [ 87 131 110]\n",
      " [ 55  65  84]]\n"
     ]
    }
   ],
   "source": [
    "from numpy import*\n",
    "m1=matrix('1,2,3;5,7,8;1,9,0')\n",
    "m2=matrix('1,2,3;6,7,9;5,9,4')\n",
    "m3=m1*m2;\n",
    "print(m3)"
   ]
  },
  {
   "cell_type": "code",
   "execution_count": 307,
   "id": "317a9a29",
   "metadata": {},
   "outputs": [
    {
     "name": "stdout",
     "output_type": "stream",
     "text": [
      "Hello\n",
      "good morning\n"
     ]
    }
   ],
   "source": [
    "def greet():\n",
    "    print(\"Hello\")\n",
    "    print(\"good morning\")\n",
    "greet()"
   ]
  },
  {
   "cell_type": "code",
   "execution_count": 308,
   "id": "3d112537",
   "metadata": {},
   "outputs": [
    {
     "name": "stdout",
     "output_type": "stream",
     "text": [
      "9\n",
      "Hello\n",
      "good morning\n"
     ]
    }
   ],
   "source": [
    "def greet():\n",
    "    print(\"Hello\")\n",
    "    print(\"good morning\")\n",
    "def add(x,y):\n",
    "    c=x+y\n",
    "    print(c)\n",
    "add(5,4)\n",
    "greet()"
   ]
  },
  {
   "cell_type": "code",
   "execution_count": 310,
   "id": "d87ad082",
   "metadata": {},
   "outputs": [
    {
     "name": "stdout",
     "output_type": "stream",
     "text": [
      "Hello\n",
      "good morning\n",
      "9\n"
     ]
    }
   ],
   "source": [
    "def greet():\n",
    "    print(\"Hello\")\n",
    "    print(\"good morning\")\n",
    "def add(x,y):\n",
    "    c=x+y\n",
    "    return c\n",
    "\n",
    "greet()\n",
    "result=add(5,4)\n",
    "print(result)"
   ]
  },
  {
   "cell_type": "code",
   "execution_count": 311,
   "id": "c55bf53c",
   "metadata": {},
   "outputs": [
    {
     "name": "stdout",
     "output_type": "stream",
     "text": [
      "9 1\n"
     ]
    }
   ],
   "source": [
    "def add_sub(x,y):\n",
    "    c=x+y\n",
    "    d=x-y\n",
    "    return c,d\n",
    "result1,result2=add_sub(5,4)\n",
    "print(result1,result2)"
   ]
  },
  {
   "cell_type": "code",
   "execution_count": 312,
   "id": "ecca5098",
   "metadata": {},
   "outputs": [
    {
     "name": "stdout",
     "output_type": "stream",
     "text": [
      "8\n"
     ]
    }
   ],
   "source": [
    "def update(x):\n",
    "    x=8\n",
    "    print(x)\n",
    "update(a)"
   ]
  },
  {
   "cell_type": "code",
   "execution_count": 313,
   "id": "bd50cc22",
   "metadata": {},
   "outputs": [
    {
     "name": "stdout",
     "output_type": "stream",
     "text": [
      "x 8\n",
      "a 10\n"
     ]
    }
   ],
   "source": [
    "def update(x):\n",
    "    x=8\n",
    "    print(\"x\",x)\n",
    "a=10\n",
    "update(a)\n",
    "print(\"a\",a)"
   ]
  },
  {
   "cell_type": "code",
   "execution_count": 314,
   "id": "8568ea78",
   "metadata": {},
   "outputs": [
    {
     "name": "stdout",
     "output_type": "stream",
     "text": [
      "2175800666704\n",
      "2175800666704\n",
      "x 8\n",
      "a 10\n"
     ]
    }
   ],
   "source": [
    "def update(x):\n",
    "    print(id(x))\n",
    "    x=8\n",
    "    print(\"x\",x)\n",
    "a=10\n",
    "print(id(a))\n",
    "update(a)\n",
    "print(\"a\",a)"
   ]
  },
  {
   "cell_type": "code",
   "execution_count": 316,
   "id": "1f26ff00",
   "metadata": {},
   "outputs": [
    {
     "name": "stdout",
     "output_type": "stream",
     "text": [
      "2175922737088\n",
      "2175922737088\n",
      "x 8\n",
      "lst [10, 20, 30]\n"
     ]
    }
   ],
   "source": [
    "def update(lst):\n",
    "    print(id(lst))\n",
    "    lst=8\n",
    "    print(\"x\",lst)\n",
    "lst=[10,20,30]\n",
    "print(id(lst))\n",
    "update(lst)\n",
    "print(\"lst\",lst)"
   ]
  },
  {
   "cell_type": "code",
   "execution_count": 317,
   "id": "695453ae",
   "metadata": {},
   "outputs": [
    {
     "name": "stdout",
     "output_type": "stream",
     "text": [
      "11\n"
     ]
    }
   ],
   "source": [
    "def add(a,b):\n",
    "    c=a+b\n",
    "    print(c)\n",
    "add(5,6)"
   ]
  },
  {
   "cell_type": "code",
   "execution_count": 318,
   "id": "2058cb2b",
   "metadata": {},
   "outputs": [
    {
     "name": "stdout",
     "output_type": "stream",
     "text": [
      "28\n",
      "rahul\n"
     ]
    }
   ],
   "source": [
    "def person(name,age):\n",
    "    print(name)\n",
    "    print(age)\n",
    "person(28,'rahul')"
   ]
  },
  {
   "cell_type": "code",
   "execution_count": 319,
   "id": "8976fc97",
   "metadata": {},
   "outputs": [
    {
     "name": "stdout",
     "output_type": "stream",
     "text": [
      "28\n"
     ]
    },
    {
     "ename": "TypeError",
     "evalue": "unsupported operand type(s) for -: 'str' and 'int'",
     "output_type": "error",
     "traceback": [
      "\u001b[1;31m---------------------------------------------------------------------------\u001b[0m",
      "\u001b[1;31mTypeError\u001b[0m                                 Traceback (most recent call last)",
      "Input \u001b[1;32mIn [319]\u001b[0m, in \u001b[0;36m<cell line: 4>\u001b[1;34m()\u001b[0m\n\u001b[0;32m      2\u001b[0m     \u001b[38;5;28mprint\u001b[39m(name)\n\u001b[0;32m      3\u001b[0m     \u001b[38;5;28mprint\u001b[39m(age\u001b[38;5;241m-\u001b[39m\u001b[38;5;241m5\u001b[39m)\n\u001b[1;32m----> 4\u001b[0m \u001b[43mperson\u001b[49m\u001b[43m(\u001b[49m\u001b[38;5;241;43m28\u001b[39;49m\u001b[43m,\u001b[49m\u001b[38;5;124;43m'\u001b[39;49m\u001b[38;5;124;43mrahul\u001b[39;49m\u001b[38;5;124;43m'\u001b[39;49m\u001b[43m)\u001b[49m\n",
      "Input \u001b[1;32mIn [319]\u001b[0m, in \u001b[0;36mperson\u001b[1;34m(name, age)\u001b[0m\n\u001b[0;32m      1\u001b[0m \u001b[38;5;28;01mdef\u001b[39;00m \u001b[38;5;21mperson\u001b[39m(name,age):\n\u001b[0;32m      2\u001b[0m     \u001b[38;5;28mprint\u001b[39m(name)\n\u001b[1;32m----> 3\u001b[0m     \u001b[38;5;28mprint\u001b[39m(\u001b[43mage\u001b[49m\u001b[38;5;241;43m-\u001b[39;49m\u001b[38;5;241;43m5\u001b[39;49m)\n",
      "\u001b[1;31mTypeError\u001b[0m: unsupported operand type(s) for -: 'str' and 'int'"
     ]
    }
   ],
   "source": [
    "def person(name,age):\n",
    "    print(name)\n",
    "    print(age-5)\n",
    "person(28,'rahul')"
   ]
  },
  {
   "cell_type": "code",
   "execution_count": 321,
   "id": "1db44318",
   "metadata": {},
   "outputs": [
    {
     "name": "stdout",
     "output_type": "stream",
     "text": [
      "rahul\n",
      "23\n"
     ]
    }
   ],
   "source": [
    "def person(name,age):\n",
    "    print(name)\n",
    "    print(age-5)\n",
    "person(age=28,name='rahul')"
   ]
  },
  {
   "cell_type": "code",
   "execution_count": 322,
   "id": "36b3202c",
   "metadata": {},
   "outputs": [
    {
     "ename": "TypeError",
     "evalue": "person() missing 1 required positional argument: 'age'",
     "output_type": "error",
     "traceback": [
      "\u001b[1;31m---------------------------------------------------------------------------\u001b[0m",
      "\u001b[1;31mTypeError\u001b[0m                                 Traceback (most recent call last)",
      "Input \u001b[1;32mIn [322]\u001b[0m, in \u001b[0;36m<cell line: 4>\u001b[1;34m()\u001b[0m\n\u001b[0;32m      2\u001b[0m     \u001b[38;5;28mprint\u001b[39m(name)\n\u001b[0;32m      3\u001b[0m     \u001b[38;5;28mprint\u001b[39m(age)\n\u001b[1;32m----> 4\u001b[0m \u001b[43mperson\u001b[49m\u001b[43m(\u001b[49m\u001b[38;5;124;43m'\u001b[39;49m\u001b[38;5;124;43mrahul\u001b[39;49m\u001b[38;5;124;43m'\u001b[39;49m\u001b[43m)\u001b[49m\n",
      "\u001b[1;31mTypeError\u001b[0m: person() missing 1 required positional argument: 'age'"
     ]
    }
   ],
   "source": [
    "def person(name,age):\n",
    "    print(name)\n",
    "    print(age)\n",
    "person('rahul')"
   ]
  },
  {
   "cell_type": "code",
   "execution_count": 324,
   "id": "c0a276e9",
   "metadata": {},
   "outputs": [
    {
     "name": "stdout",
     "output_type": "stream",
     "text": [
      "rahul\n",
      "18\n"
     ]
    }
   ],
   "source": [
    "def person(name,age=18):\n",
    "    print(name)\n",
    "    print(age)\n",
    "person('rahul')"
   ]
  },
  {
   "cell_type": "code",
   "execution_count": 325,
   "id": "9e350800",
   "metadata": {},
   "outputs": [
    {
     "name": "stdout",
     "output_type": "stream",
     "text": [
      "11\n"
     ]
    }
   ],
   "source": [
    "def sum(a,b):\n",
    "    c=a+b\n",
    "    print(c)\n",
    "sum(5,6)"
   ]
  },
  {
   "cell_type": "code",
   "execution_count": 326,
   "id": "b5744330",
   "metadata": {},
   "outputs": [
    {
     "name": "stdout",
     "output_type": "stream",
     "text": [
      "5\n",
      "(6, 34, 78)\n"
     ]
    }
   ],
   "source": [
    "def sum(a,*b):\n",
    "    \n",
    "    print(a)\n",
    "    print(b)\n",
    "sum(5,6,34,78)"
   ]
  },
  {
   "cell_type": "code",
   "execution_count": 327,
   "id": "297e88a1",
   "metadata": {},
   "outputs": [
    {
     "name": "stdout",
     "output_type": "stream",
     "text": [
      "123\n"
     ]
    }
   ],
   "source": [
    "def sum(a,*b):\n",
    "    c=a\n",
    "    for i in b:\n",
    "        c=c+i\n",
    "    print(c)\n",
    "sum(5,6,34,78)"
   ]
  },
  {
   "cell_type": "code",
   "execution_count": 329,
   "id": "339620a8",
   "metadata": {},
   "outputs": [
    {
     "name": "stdout",
     "output_type": "stream",
     "text": [
      "navin\n",
      "{'age': 25, 'city': 'mumbai', 'phoneno': 123456789}\n"
     ]
    }
   ],
   "source": [
    "def person(name,**data):\n",
    "    print(name)\n",
    "    print(data)\n",
    "    \n",
    "person('navin',age=25,city='mumbai',phoneno=123456789)"
   ]
  },
  {
   "cell_type": "code",
   "execution_count": 330,
   "id": "c872a6e8",
   "metadata": {},
   "outputs": [
    {
     "name": "stdout",
     "output_type": "stream",
     "text": [
      "navin\n",
      "age 25\n",
      "city mumbai\n",
      "phoneno 123456789\n"
     ]
    }
   ],
   "source": [
    "def person(name,**data):\n",
    "    print(name)\n",
    "    for i,j in data.items():\n",
    "        print(i,j)\n",
    "person('navin',age=25,city='mumbai',phoneno=123456789)     "
   ]
  },
  {
   "cell_type": "code",
   "execution_count": 333,
   "id": "e0b95adc",
   "metadata": {},
   "outputs": [
    {
     "name": "stdout",
     "output_type": "stream",
     "text": [
      "3\n",
      "3\n"
     ]
    }
   ],
   "source": [
    "def count(lst):\n",
    "    even=0\n",
    "    odd=0\n",
    "    for i in lst:\n",
    "        if i%2==0:\n",
    "            even+=1\n",
    "        else:\n",
    "            odd+=1\n",
    "    return even,odd\n",
    "lst=[10,20,23,43,57,60]\n",
    "even , odd=count(lst)\n",
    "print(even)\n",
    "print(odd)"
   ]
  },
  {
   "cell_type": "code",
   "execution_count": 334,
   "id": "387ee281",
   "metadata": {},
   "outputs": [
    {
     "name": "stdout",
     "output_type": "stream",
     "text": [
      "even:3 and odd:3\n"
     ]
    }
   ],
   "source": [
    "def count(lst):\n",
    "    even=0\n",
    "    odd=0\n",
    "    for i in lst:\n",
    "        if i%2==0:\n",
    "            even+=1\n",
    "        else:\n",
    "            odd+=1\n",
    "    return even,odd\n",
    "lst=[10,20,23,43,57,60]\n",
    "even , odd=count(lst)\n",
    "print(\"even:{} and odd:{}\".format(even,odd))"
   ]
  },
  {
   "cell_type": "code",
   "execution_count": 336,
   "id": "096ee6a0",
   "metadata": {},
   "outputs": [
    {
     "name": "stdout",
     "output_type": "stream",
     "text": [
      "in function 15\n",
      "outside 10\n"
     ]
    }
   ],
   "source": [
    "a=10\n",
    "def something():\n",
    "    a=15\n",
    "   \n",
    "    print(\"in function\",a)\n",
    "something()\n",
    "print(\"outside\",a)"
   ]
  },
  {
   "cell_type": "code",
   "execution_count": 337,
   "id": "8d9a6203",
   "metadata": {},
   "outputs": [
    {
     "name": "stdout",
     "output_type": "stream",
     "text": [
      "in function 10\n",
      "outside 10\n"
     ]
    }
   ],
   "source": [
    "a=10\n",
    "def something():\n",
    "    \n",
    "    print(\"in function\",a)\n",
    "something()\n",
    "print(\"outside\",a)"
   ]
  },
  {
   "cell_type": "code",
   "execution_count": 340,
   "id": "358738d4",
   "metadata": {},
   "outputs": [
    {
     "name": "stdout",
     "output_type": "stream",
     "text": [
      "in function 15\n",
      "outside 15\n"
     ]
    }
   ],
   "source": [
    "a=10\n",
    "def something():\n",
    "    global a\n",
    "    a=15\n",
    "    print(\"in function\",a)\n",
    "    \n",
    "something()\n",
    "print(\"outside\",a)"
   ]
  },
  {
   "cell_type": "code",
   "execution_count": 341,
   "id": "609c402f",
   "metadata": {},
   "outputs": [
    {
     "name": "stdout",
     "output_type": "stream",
     "text": [
      "in function 15\n",
      "outside 9\n"
     ]
    }
   ],
   "source": [
    "a=10\n",
    "def something():\n",
    "    global a\n",
    "    a=15\n",
    "    print(\"in function\",a)\n",
    "    a=9\n",
    "something()\n",
    "print(\"outside\",a)"
   ]
  },
  {
   "cell_type": "code",
   "execution_count": 342,
   "id": "dd7cef72",
   "metadata": {},
   "outputs": [
    {
     "name": "stdout",
     "output_type": "stream",
     "text": [
      "2175800666704\n",
      "2175800666704\n",
      "in function 15\n",
      "outside 10\n"
     ]
    }
   ],
   "source": [
    "a=10\n",
    "print(id(a))\n",
    "def something():\n",
    "    \n",
    "    a=15\n",
    "    x=globals()['a']\n",
    "    print(id(x))\n",
    "    print(\"in function\",a)\n",
    "    \n",
    "something()\n",
    "print(\"outside\",a)"
   ]
  },
  {
   "cell_type": "code",
   "execution_count": 343,
   "id": "c01c4d78",
   "metadata": {},
   "outputs": [
    {
     "name": "stdout",
     "output_type": "stream",
     "text": [
      "2175800666704\n",
      "2175800666704\n",
      "in function 15\n",
      "outside 9\n"
     ]
    }
   ],
   "source": [
    "a=10\n",
    "print(id(a))\n",
    "def something():\n",
    "    \n",
    "    a=15\n",
    "    x=globals()['a']\n",
    "    print(id(x))\n",
    "    print(\"in function\",a)\n",
    "    globals()['a']=9\n",
    "something()\n",
    "print(\"outside\",a)"
   ]
  },
  {
   "cell_type": "code",
   "execution_count": 35,
   "id": "4afff72f",
   "metadata": {},
   "outputs": [
    {
     "name": "stdout",
     "output_type": "stream",
     "text": [
      "Hello\n",
      "Hello\n",
      "Hello\n",
      "Hello\n",
      "Hello\n",
      "Hello\n",
      "Hello\n",
      "Hello\n",
      "Hello\n",
      "Hello\n",
      "Hello\n",
      "Hello\n",
      "Hello\n",
      "Hello\n",
      "Hello\n",
      "Hello\n",
      "Hello\n",
      "Hello\n",
      "Hello\n",
      "Hello\n",
      "Hello\n",
      "Hello\n",
      "Hello\n",
      "Hello\n",
      "Hello\n",
      "Hello\n",
      "Hello\n",
      "Hello\n",
      "Hello\n",
      "Hello\n",
      "Hello\n",
      "Hello\n",
      "Hello\n",
      "Hello\n",
      "Hello\n",
      "Hello\n",
      "Hello\n",
      "Hello\n",
      "Hello\n",
      "Hello\n",
      "Hello\n",
      "Hello\n",
      "Hello\n",
      "Hello\n",
      "Hello\n",
      "Hello\n",
      "Hello\n",
      "Hello\n",
      "Hello\n",
      "Hello\n",
      "Hello\n",
      "Hello\n",
      "Hello\n",
      "Hello\n",
      "Hello\n",
      "Hello\n",
      "Hello\n",
      "Hello\n",
      "Hello\n",
      "Hello\n",
      "Hello\n",
      "Hello\n",
      "Hello\n",
      "Hello\n",
      "Hello\n",
      "Hello\n",
      "Hello\n",
      "Hello\n",
      "Hello\n",
      "Hello\n",
      "Hello\n",
      "Hello\n",
      "Hello\n",
      "Hello\n",
      "Hello\n",
      "Hello\n",
      "Hello\n",
      "Hello\n",
      "Hello\n",
      "Hello\n",
      "Hello\n",
      "Hello\n",
      "Hello\n",
      "Hello\n",
      "Hello\n",
      "Hello\n",
      "Hello\n",
      "Hello\n",
      "Hello\n",
      "Hello\n",
      "Hello\n",
      "Hello\n",
      "Hello\n",
      "Hello\n",
      "Hello\n",
      "Hello\n",
      "Hello\n",
      "Hello\n",
      "Hello\n",
      "Hello\n",
      "Hello\n",
      "Hello\n",
      "Hello\n",
      "Hello\n",
      "Hello\n",
      "Hello\n",
      "Hello\n",
      "Hello\n",
      "Hello\n",
      "Hello\n",
      "Hello\n",
      "Hello\n",
      "Hello\n",
      "Hello\n",
      "Hello\n",
      "Hello\n",
      "Hello\n",
      "Hello\n",
      "Hello\n",
      "Hello\n",
      "Hello\n",
      "Hello\n",
      "Hello\n",
      "Hello\n",
      "Hello\n",
      "Hello\n",
      "Hello\n",
      "Hello\n",
      "Hello\n",
      "Hello\n",
      "Hello\n",
      "Hello\n",
      "Hello\n",
      "Hello\n",
      "Hello\n",
      "Hello\n",
      "Hello\n",
      "Hello\n",
      "Hello\n",
      "Hello\n",
      "Hello\n",
      "Hello\n",
      "Hello\n",
      "Hello\n",
      "Hello\n",
      "Hello\n",
      "Hello\n",
      "Hello\n",
      "Hello\n",
      "Hello\n",
      "Hello\n",
      "Hello\n",
      "Hello\n",
      "Hello\n",
      "Hello\n",
      "Hello\n",
      "Hello\n",
      "Hello\n",
      "Hello\n",
      "Hello\n",
      "Hello\n",
      "Hello\n",
      "Hello\n",
      "Hello\n",
      "Hello\n",
      "Hello\n",
      "Hello\n",
      "Hello\n",
      "Hello\n",
      "Hello\n",
      "Hello\n",
      "Hello\n",
      "Hello\n",
      "Hello\n",
      "Hello\n",
      "Hello\n",
      "Hello\n",
      "Hello\n",
      "Hello\n",
      "Hello\n",
      "Hello\n",
      "Hello\n",
      "Hello\n",
      "Hello\n",
      "Hello\n",
      "Hello\n",
      "Hello\n",
      "Hello\n",
      "Hello\n",
      "Hello\n",
      "Hello\n",
      "Hello\n",
      "Hello\n",
      "Hello\n",
      "Hello\n",
      "Hello\n",
      "Hello\n",
      "Hello\n",
      "Hello\n",
      "Hello\n",
      "Hello\n",
      "Hello\n",
      "Hello\n",
      "Hello\n",
      "Hello\n",
      "Hello\n",
      "Hello\n",
      "Hello\n",
      "Hello\n",
      "Hello\n",
      "Hello\n",
      "Hello\n",
      "Hello\n",
      "Hello\n",
      "Hello\n",
      "Hello\n",
      "Hello\n",
      "Hello\n",
      "Hello\n",
      "Hello\n",
      "Hello\n",
      "Hello\n",
      "Hello\n",
      "Hello\n",
      "Hello\n",
      "Hello\n",
      "Hello\n",
      "Hello\n",
      "Hello\n",
      "Hello\n",
      "Hello\n",
      "Hello\n",
      "Hello\n",
      "Hello\n",
      "Hello\n",
      "Hello\n",
      "Hello\n",
      "Hello\n",
      "Hello\n",
      "Hello\n",
      "Hello\n",
      "Hello\n",
      "Hello\n",
      "Hello\n",
      "Hello\n",
      "Hello\n",
      "Hello\n",
      "Hello\n",
      "Hello\n",
      "Hello\n",
      "Hello\n",
      "Hello\n",
      "Hello\n",
      "Hello\n",
      "Hello\n",
      "Hello\n",
      "Hello\n",
      "Hello\n",
      "Hello\n",
      "Hello\n",
      "Hello\n",
      "Hello\n",
      "Hello\n",
      "Hello\n",
      "Hello\n",
      "Hello\n",
      "Hello\n",
      "Hello\n",
      "Hello\n",
      "Hello\n",
      "Hello\n",
      "Hello\n",
      "Hello\n",
      "Hello\n",
      "Hello\n",
      "Hello\n",
      "Hello\n",
      "Hello\n",
      "Hello\n",
      "Hello\n",
      "Hello\n",
      "Hello\n",
      "Hello\n",
      "Hello\n",
      "Hello\n",
      "Hello\n",
      "Hello\n",
      "Hello\n",
      "Hello\n",
      "Hello\n",
      "Hello\n",
      "Hello\n",
      "Hello\n",
      "Hello\n",
      "Hello\n",
      "Hello\n",
      "Hello\n",
      "Hello\n",
      "Hello\n",
      "Hello\n",
      "Hello\n",
      "Hello\n",
      "Hello\n",
      "Hello\n",
      "Hello\n",
      "Hello\n",
      "Hello\n",
      "Hello\n",
      "Hello\n",
      "Hello\n",
      "Hello\n",
      "Hello\n",
      "Hello\n",
      "Hello\n",
      "Hello\n",
      "Hello\n",
      "Hello\n",
      "Hello\n",
      "Hello\n",
      "Hello\n",
      "Hello\n",
      "Hello\n",
      "Hello\n",
      "Hello\n",
      "Hello\n",
      "Hello\n",
      "Hello\n",
      "Hello\n",
      "Hello\n",
      "Hello\n",
      "Hello\n",
      "Hello\n",
      "Hello\n",
      "Hello\n",
      "Hello\n",
      "Hello\n",
      "Hello\n",
      "Hello\n",
      "Hello\n",
      "Hello\n",
      "Hello\n",
      "Hello\n",
      "Hello\n",
      "Hello\n",
      "Hello\n",
      "Hello\n",
      "Hello\n",
      "Hello\n",
      "Hello\n",
      "Hello\n",
      "Hello\n",
      "Hello\n",
      "Hello\n",
      "Hello\n",
      "Hello\n",
      "Hello\n",
      "Hello\n",
      "Hello\n",
      "Hello\n",
      "Hello\n",
      "Hello\n",
      "Hello\n",
      "Hello\n",
      "Hello\n",
      "Hello\n",
      "Hello\n",
      "Hello\n",
      "Hello\n",
      "Hello\n",
      "Hello\n",
      "Hello\n",
      "Hello\n",
      "Hello\n",
      "Hello\n",
      "Hello\n",
      "Hello\n",
      "Hello\n",
      "Hello\n",
      "Hello\n",
      "Hello\n",
      "Hello\n",
      "Hello\n",
      "Hello\n",
      "Hello\n",
      "Hello\n",
      "Hello\n",
      "Hello\n",
      "Hello\n",
      "Hello\n",
      "Hello\n",
      "Hello\n",
      "Hello\n",
      "Hello\n",
      "Hello\n",
      "Hello\n",
      "Hello\n",
      "Hello\n",
      "Hello\n",
      "Hello\n",
      "Hello\n",
      "Hello\n",
      "Hello\n",
      "Hello\n",
      "Hello\n",
      "Hello\n",
      "Hello\n",
      "Hello\n",
      "Hello\n",
      "Hello\n",
      "Hello\n",
      "Hello\n",
      "Hello\n",
      "Hello\n",
      "Hello\n",
      "Hello\n",
      "Hello\n",
      "Hello\n",
      "Hello\n",
      "Hello\n",
      "Hello\n",
      "Hello\n",
      "Hello\n",
      "Hello\n",
      "Hello\n",
      "Hello\n",
      "Hello\n",
      "Hello\n",
      "Hello\n",
      "Hello\n",
      "Hello\n",
      "Hello\n",
      "Hello\n",
      "Hello\n",
      "Hello\n",
      "Hello\n",
      "Hello\n",
      "Hello\n",
      "Hello\n",
      "Hello\n",
      "Hello\n",
      "Hello\n",
      "Hello\n",
      "Hello\n",
      "Hello\n",
      "Hello\n",
      "Hello\n",
      "Hello\n",
      "Hello\n",
      "Hello\n",
      "Hello\n",
      "Hello\n",
      "Hello\n",
      "Hello\n",
      "Hello\n",
      "Hello\n",
      "Hello\n",
      "Hello\n",
      "Hello\n",
      "Hello\n",
      "Hello\n",
      "Hello\n",
      "Hello\n",
      "Hello\n",
      "Hello\n",
      "Hello\n",
      "Hello\n",
      "Hello\n",
      "Hello\n",
      "Hello\n",
      "Hello\n",
      "Hello\n",
      "Hello\n",
      "Hello\n",
      "Hello\n",
      "Hello\n",
      "Hello\n",
      "Hello\n",
      "Hello\n",
      "Hello\n",
      "Hello\n",
      "Hello\n",
      "Hello\n",
      "Hello\n",
      "Hello\n",
      "Hello\n",
      "Hello\n",
      "Hello\n",
      "Hello\n",
      "Hello\n",
      "Hello\n",
      "Hello\n",
      "Hello\n",
      "Hello\n",
      "Hello\n",
      "Hello\n",
      "Hello\n",
      "Hello\n",
      "Hello\n",
      "Hello\n",
      "Hello\n",
      "Hello\n",
      "Hello\n",
      "Hello\n",
      "Hello\n",
      "Hello\n",
      "Hello\n",
      "Hello\n",
      "Hello\n",
      "Hello\n",
      "Hello\n",
      "Hello\n",
      "Hello\n",
      "Hello\n",
      "Hello\n",
      "Hello\n",
      "Hello\n",
      "Hello\n",
      "Hello\n",
      "Hello\n",
      "Hello\n",
      "Hello\n",
      "Hello\n",
      "Hello\n",
      "Hello\n",
      "Hello\n",
      "Hello\n",
      "Hello\n",
      "Hello\n",
      "Hello\n",
      "Hello\n",
      "Hello\n",
      "Hello\n",
      "Hello\n",
      "Hello\n",
      "Hello\n",
      "Hello\n",
      "Hello\n",
      "Hello\n",
      "Hello\n",
      "Hello\n",
      "Hello\n",
      "Hello\n",
      "Hello\n",
      "Hello\n",
      "Hello\n",
      "Hello\n",
      "Hello\n",
      "Hello\n",
      "Hello\n",
      "Hello\n",
      "Hello\n",
      "Hello\n",
      "Hello\n",
      "Hello\n",
      "Hello\n",
      "Hello\n",
      "Hello\n",
      "Hello\n",
      "Hello\n",
      "Hello\n",
      "Hello\n",
      "Hello\n",
      "Hello\n",
      "Hello\n",
      "Hello\n",
      "Hello\n",
      "Hello\n",
      "Hello\n",
      "Hello\n",
      "Hello\n",
      "Hello\n",
      "Hello\n",
      "Hello\n",
      "Hello\n",
      "Hello\n",
      "Hello\n",
      "Hello\n",
      "Hello\n",
      "Hello\n",
      "Hello\n",
      "Hello\n",
      "Hello\n",
      "Hello\n",
      "Hello\n",
      "Hello\n",
      "Hello\n",
      "Hello\n",
      "Hello\n",
      "Hello\n",
      "Hello\n",
      "Hello\n",
      "Hello\n",
      "Hello\n",
      "Hello\n",
      "Hello\n",
      "Hello\n",
      "Hello\n",
      "Hello\n",
      "Hello\n",
      "Hello\n",
      "Hello\n",
      "Hello\n",
      "Hello\n",
      "Hello\n",
      "Hello\n",
      "Hello\n",
      "Hello\n",
      "Hello\n",
      "Hello\n",
      "Hello\n",
      "Hello\n",
      "Hello\n",
      "Hello\n",
      "Hello\n",
      "Hello\n",
      "Hello\n",
      "Hello\n",
      "Hello\n",
      "Hello\n",
      "Hello\n",
      "Hello\n",
      "Hello\n",
      "Hello\n",
      "Hello\n",
      "Hello\n",
      "Hello\n",
      "Hello\n",
      "Hello\n",
      "Hello\n",
      "Hello\n",
      "Hello\n",
      "Hello\n",
      "Hello\n",
      "Hello\n",
      "Hello\n",
      "Hello\n",
      "Hello\n",
      "Hello\n",
      "Hello\n",
      "Hello\n",
      "Hello\n",
      "Hello\n",
      "Hello\n",
      "Hello\n",
      "Hello\n",
      "Hello\n",
      "Hello\n",
      "Hello\n",
      "Hello\n",
      "Hello\n",
      "Hello\n",
      "Hello\n",
      "Hello\n",
      "Hello\n",
      "Hello\n",
      "Hello\n",
      "Hello\n",
      "Hello\n",
      "Hello\n",
      "Hello\n",
      "Hello\n",
      "Hello\n",
      "Hello\n",
      "Hello\n",
      "Hello\n",
      "Hello\n",
      "Hello\n",
      "Hello\n",
      "Hello\n",
      "Hello\n",
      "Hello\n",
      "Hello\n",
      "Hello\n",
      "Hello\n",
      "Hello\n",
      "Hello\n",
      "Hello\n",
      "Hello\n",
      "Hello\n",
      "Hello\n",
      "Hello\n",
      "Hello\n",
      "Hello\n",
      "Hello\n",
      "Hello\n",
      "Hello\n",
      "Hello\n",
      "Hello\n",
      "Hello\n",
      "Hello\n",
      "Hello\n",
      "Hello\n",
      "Hello\n",
      "Hello\n",
      "Hello\n",
      "Hello\n",
      "Hello\n",
      "Hello\n",
      "Hello\n",
      "Hello\n",
      "Hello\n",
      "Hello\n",
      "Hello\n",
      "Hello\n",
      "Hello\n",
      "Hello\n",
      "Hello\n",
      "Hello\n",
      "Hello\n",
      "Hello\n",
      "Hello\n",
      "Hello\n",
      "Hello\n",
      "Hello\n",
      "Hello\n",
      "Hello\n",
      "Hello\n",
      "Hello\n",
      "Hello\n",
      "Hello\n",
      "Hello\n",
      "Hello\n",
      "Hello\n",
      "Hello\n",
      "Hello\n",
      "Hello\n",
      "Hello\n",
      "Hello\n",
      "Hello\n",
      "Hello\n",
      "Hello\n",
      "Hello\n",
      "Hello\n",
      "Hello\n",
      "Hello\n",
      "Hello\n",
      "Hello\n",
      "Hello\n",
      "Hello\n",
      "Hello\n",
      "Hello\n",
      "Hello\n",
      "Hello\n",
      "Hello\n",
      "Hello\n",
      "Hello\n",
      "Hello\n",
      "Hello\n",
      "Hello\n",
      "Hello\n",
      "Hello\n",
      "Hello\n",
      "Hello\n",
      "Hello\n",
      "Hello\n",
      "Hello\n",
      "Hello\n",
      "Hello\n",
      "Hello\n",
      "Hello\n",
      "Hello\n",
      "Hello\n",
      "Hello\n",
      "Hello\n",
      "Hello\n",
      "Hello\n",
      "Hello\n",
      "Hello\n",
      "Hello\n",
      "Hello\n",
      "Hello\n",
      "Hello\n",
      "Hello\n",
      "Hello\n",
      "Hello\n",
      "Hello\n",
      "Hello\n",
      "Hello\n",
      "Hello\n",
      "Hello\n",
      "Hello\n",
      "Hello\n",
      "Hello\n",
      "Hello\n",
      "Hello\n",
      "Hello\n",
      "Hello\n",
      "Hello\n",
      "Hello\n",
      "Hello\n",
      "Hello\n",
      "Hello\n",
      "Hello\n",
      "Hello\n",
      "Hello\n",
      "Hello\n",
      "Hello\n",
      "Hello\n",
      "Hello\n",
      "Hello\n",
      "Hello\n",
      "Hello\n",
      "Hello\n",
      "Hello\n",
      "Hello\n",
      "Hello\n",
      "Hello\n",
      "Hello\n",
      "Hello\n",
      "Hello\n",
      "Hello\n",
      "Hello\n",
      "Hello\n",
      "Hello\n",
      "Hello\n",
      "Hello\n",
      "Hello\n",
      "Hello\n",
      "Hello\n",
      "Hello\n",
      "Hello\n",
      "Hello\n",
      "Hello\n",
      "Hello\n",
      "Hello\n",
      "Hello\n",
      "Hello\n",
      "Hello\n",
      "Hello\n",
      "Hello\n",
      "Hello\n",
      "Hello\n",
      "Hello\n",
      "Hello\n",
      "Hello\n",
      "Hello\n",
      "Hello\n",
      "Hello\n",
      "Hello\n",
      "Hello\n",
      "Hello\n",
      "Hello\n",
      "Hello\n",
      "Hello\n",
      "Hello\n",
      "Hello\n",
      "Hello\n",
      "Hello\n",
      "Hello\n",
      "Hello\n",
      "Hello\n",
      "Hello\n",
      "Hello\n",
      "Hello\n",
      "Hello\n",
      "Hello\n",
      "Hello\n",
      "Hello\n",
      "Hello\n",
      "Hello\n",
      "Hello\n",
      "Hello\n",
      "Hello\n",
      "Hello\n",
      "Hello\n",
      "Hello\n",
      "Hello\n",
      "Hello\n",
      "Hello\n",
      "Hello\n",
      "Hello\n",
      "Hello\n",
      "Hello\n",
      "Hello\n",
      "Hello\n",
      "Hello\n",
      "Hello\n",
      "Hello\n",
      "Hello\n",
      "Hello\n",
      "Hello\n",
      "Hello\n",
      "Hello\n",
      "Hello\n",
      "Hello\n",
      "Hello\n",
      "Hello\n",
      "Hello\n",
      "Hello\n",
      "Hello\n",
      "Hello\n",
      "Hello\n",
      "Hello\n",
      "Hello\n",
      "Hello\n",
      "Hello\n",
      "Hello\n",
      "Hello\n",
      "Hello\n",
      "Hello\n",
      "Hello\n",
      "Hello\n",
      "Hello\n",
      "Hello\n",
      "Hello\n",
      "Hello\n",
      "Hello\n",
      "Hello\n",
      "Hello\n",
      "Hello\n",
      "Hello\n",
      "Hello\n",
      "Hello\n",
      "Hello\n",
      "Hello\n",
      "Hello\n",
      "Hello\n",
      "Hello\n",
      "Hello\n",
      "Hello\n",
      "Hello\n",
      "Hello\n",
      "Hello\n",
      "Hello\n",
      "Hello\n",
      "Hello\n",
      "Hello\n",
      "Hello\n",
      "Hello\n",
      "Hello\n",
      "Hello\n",
      "Hello\n",
      "Hello\n",
      "Hello\n",
      "Hello\n",
      "Hello\n",
      "Hello\n",
      "Hello\n",
      "Hello\n",
      "Hello\n",
      "Hello\n",
      "Hello\n",
      "Hello\n",
      "Hello\n",
      "Hello\n",
      "Hello\n",
      "Hello\n",
      "Hello\n",
      "Hello\n",
      "Hello\n",
      "Hello\n",
      "Hello\n",
      "Hello\n",
      "Hello\n",
      "Hello\n",
      "Hello\n",
      "Hello\n",
      "Hello\n",
      "Hello\n",
      "Hello\n",
      "Hello\n",
      "Hello\n",
      "Hello\n",
      "Hello\n",
      "Hello\n",
      "Hello\n",
      "Hello\n",
      "Hello\n",
      "Hello\n",
      "Hello\n",
      "Hello\n",
      "Hello\n",
      "Hello\n",
      "Hello\n",
      "Hello\n",
      "Hello\n",
      "Hello\n",
      "Hello\n",
      "Hello\n",
      "Hello\n",
      "Hello\n",
      "Hello\n",
      "Hello\n",
      "Hello\n",
      "Hello\n",
      "Hello\n",
      "Hello\n",
      "Hello\n",
      "Hello\n",
      "Hello\n",
      "Hello\n",
      "Hello\n",
      "Hello\n",
      "Hello\n",
      "Hello\n",
      "Hello\n",
      "Hello\n",
      "Hello\n",
      "Hello\n",
      "Hello\n",
      "Hello\n",
      "Hello\n",
      "Hello\n",
      "Hello\n",
      "Hello\n",
      "Hello\n",
      "Hello\n",
      "Hello\n",
      "Hello\n",
      "Hello\n",
      "Hello\n",
      "Hello\n",
      "Hello\n",
      "Hello\n",
      "Hello\n",
      "Hello\n",
      "Hello\n",
      "Hello\n",
      "Hello\n",
      "Hello\n",
      "Hello\n",
      "Hello\n",
      "Hello\n",
      "Hello\n",
      "Hello\n",
      "Hello\n",
      "Hello\n",
      "Hello\n",
      "Hello\n",
      "Hello\n",
      "Hello\n",
      "Hello\n",
      "Hello\n",
      "Hello\n",
      "Hello\n",
      "Hello\n",
      "Hello\n",
      "Hello\n",
      "Hello\n",
      "Hello\n",
      "Hello\n",
      "Hello\n",
      "Hello\n",
      "Hello\n",
      "Hello\n",
      "Hello\n",
      "Hello\n",
      "Hello\n",
      "Hello\n",
      "Hello\n",
      "Hello\n",
      "Hello\n",
      "Hello\n",
      "Hello\n",
      "Hello\n",
      "Hello\n",
      "Hello\n",
      "Hello\n",
      "Hello\n",
      "Hello\n",
      "Hello\n",
      "Hello\n",
      "Hello\n",
      "Hello\n",
      "Hello\n",
      "Hello\n",
      "Hello\n",
      "Hello\n",
      "Hello\n",
      "Hello\n",
      "Hello\n",
      "Hello\n",
      "Hello\n",
      "Hello\n",
      "Hello\n",
      "Hello\n",
      "Hello\n",
      "Hello\n",
      "Hello\n",
      "Hello\n",
      "Hello\n",
      "Hello\n",
      "Hello\n",
      "Hello\n",
      "Hello\n",
      "Hello\n",
      "Hello\n",
      "Hello\n",
      "Hello\n",
      "Hello\n",
      "Hello\n",
      "Hello\n",
      "Hello\n",
      "Hello\n",
      "Hello\n",
      "Hello\n",
      "Hello\n",
      "Hello\n",
      "Hello\n",
      "Hello\n",
      "Hello\n",
      "Hello\n",
      "Hello\n",
      "Hello\n",
      "Hello\n",
      "Hello\n",
      "Hello\n",
      "Hello\n",
      "Hello\n",
      "Hello\n",
      "Hello\n",
      "Hello\n",
      "Hello\n",
      "Hello\n",
      "Hello\n",
      "Hello\n",
      "Hello\n",
      "Hello\n",
      "Hello\n",
      "Hello\n",
      "Hello\n",
      "Hello\n",
      "Hello\n",
      "Hello\n",
      "Hello\n",
      "Hello\n",
      "Hello\n",
      "Hello\n",
      "Hello\n",
      "Hello\n",
      "Hello\n",
      "Hello\n",
      "Hello\n",
      "Hello\n",
      "Hello\n",
      "Hello\n",
      "Hello\n",
      "Hello\n",
      "Hello\n",
      "Hello\n",
      "Hello\n",
      "Hello\n",
      "Hello\n",
      "Hello\n",
      "Hello\n",
      "Hello\n",
      "Hello\n",
      "Hello\n",
      "Hello\n",
      "Hello\n",
      "Hello\n",
      "Hello\n",
      "Hello\n",
      "Hello\n",
      "Hello\n",
      "Hello\n",
      "Hello\n",
      "Hello\n",
      "Hello\n",
      "Hello\n",
      "Hello\n",
      "Hello\n",
      "Hello\n",
      "Hello\n",
      "Hello\n",
      "Hello\n",
      "Hello\n",
      "Hello\n",
      "Hello\n",
      "Hello\n",
      "Hello\n",
      "Hello\n",
      "Hello\n",
      "Hello\n",
      "Hello\n",
      "Hello\n",
      "Hello\n",
      "Hello\n",
      "Hello\n",
      "Hello\n",
      "Hello\n",
      "Hello\n",
      "Hello\n",
      "Hello\n",
      "Hello\n",
      "Hello\n",
      "Hello\n",
      "Hello\n",
      "Hello\n",
      "Hello\n",
      "Hello\n",
      "Hello\n",
      "Hello\n",
      "Hello\n",
      "Hello\n",
      "Hello\n",
      "Hello\n",
      "Hello\n",
      "Hello\n",
      "Hello\n",
      "Hello\n",
      "Hello\n",
      "Hello\n",
      "Hello\n",
      "Hello\n",
      "Hello\n",
      "Hello\n",
      "Hello\n",
      "Hello\n",
      "Hello\n",
      "Hello\n",
      "Hello\n",
      "Hello\n",
      "Hello\n",
      "Hello\n",
      "Hello\n",
      "Hello\n",
      "Hello\n",
      "Hello\n",
      "Hello\n",
      "Hello\n",
      "Hello\n",
      "Hello\n",
      "Hello\n",
      "Hello\n",
      "Hello\n",
      "Hello\n",
      "Hello\n",
      "Hello\n",
      "Hello\n",
      "Hello\n",
      "Hello\n",
      "Hello\n",
      "Hello\n",
      "Hello\n",
      "Hello\n",
      "Hello\n",
      "Hello\n",
      "Hello\n",
      "Hello\n",
      "Hello\n",
      "Hello\n",
      "Hello\n",
      "Hello\n",
      "Hello\n",
      "Hello\n",
      "Hello\n",
      "Hello\n",
      "Hello\n",
      "Hello\n",
      "Hello\n",
      "Hello\n",
      "Hello\n",
      "Hello\n",
      "Hello\n",
      "Hello\n",
      "Hello\n",
      "Hello\n",
      "Hello\n",
      "Hello\n",
      "Hello\n",
      "Hello\n",
      "Hello\n",
      "Hello\n",
      "Hello\n",
      "Hello\n",
      "Hello\n",
      "Hello\n",
      "Hello\n",
      "Hello\n",
      "Hello\n",
      "Hello\n",
      "Hello\n",
      "Hello\n",
      "Hello\n",
      "Hello\n",
      "Hello\n",
      "Hello\n",
      "Hello\n",
      "Hello\n",
      "Hello\n",
      "Hello\n",
      "Hello\n",
      "Hello\n",
      "Hello\n",
      "Hello\n",
      "Hello\n",
      "Hello\n",
      "Hello\n",
      "Hello\n",
      "Hello\n",
      "Hello\n",
      "Hello\n",
      "Hello\n",
      "Hello\n",
      "Hello\n",
      "Hello\n",
      "Hello\n",
      "Hello\n",
      "Hello\n",
      "Hello\n",
      "Hello\n",
      "Hello\n",
      "Hello\n",
      "Hello\n",
      "Hello\n",
      "Hello\n",
      "Hello\n",
      "Hello\n",
      "Hello\n",
      "Hello\n",
      "Hello\n",
      "Hello\n",
      "Hello\n",
      "Hello\n",
      "Hello\n",
      "Hello\n",
      "Hello\n",
      "Hello\n",
      "Hello\n",
      "Hello\n",
      "Hello\n",
      "Hello\n",
      "Hello\n",
      "Hello\n",
      "Hello\n",
      "Hello\n",
      "Hello\n",
      "Hello\n",
      "Hello\n",
      "Hello\n",
      "Hello\n",
      "Hello\n",
      "Hello\n",
      "Hello\n",
      "Hello\n",
      "Hello\n",
      "Hello\n",
      "Hello\n",
      "Hello\n",
      "Hello\n",
      "Hello\n",
      "Hello\n",
      "Hello\n",
      "Hello\n",
      "Hello\n",
      "Hello\n",
      "Hello\n",
      "Hello\n",
      "Hello\n",
      "Hello\n",
      "Hello\n",
      "Hello\n",
      "Hello\n",
      "Hello\n",
      "Hello\n",
      "Hello\n",
      "Hello\n",
      "Hello\n",
      "Hello\n",
      "Hello\n",
      "Hello\n",
      "Hello\n",
      "Hello\n",
      "Hello\n",
      "Hello\n",
      "Hello\n",
      "Hello\n",
      "Hello\n",
      "Hello\n",
      "Hello\n",
      "Hello\n",
      "Hello\n",
      "Hello\n",
      "Hello\n",
      "Hello\n",
      "Hello\n",
      "Hello\n",
      "Hello\n",
      "Hello\n",
      "Hello\n",
      "Hello\n",
      "Hello\n",
      "Hello\n",
      "Hello\n",
      "Hello\n",
      "Hello\n",
      "Hello\n",
      "Hello\n",
      "Hello\n",
      "Hello\n",
      "Hello\n",
      "Hello\n",
      "Hello\n",
      "Hello\n",
      "Hello\n",
      "Hello\n",
      "Hello\n",
      "Hello\n",
      "Hello\n",
      "Hello\n",
      "Hello\n",
      "Hello\n",
      "Hello\n",
      "Hello\n",
      "Hello\n",
      "Hello\n",
      "Hello\n",
      "Hello\n",
      "Hello\n",
      "Hello\n",
      "Hello\n",
      "Hello\n",
      "Hello\n",
      "Hello\n",
      "Hello\n",
      "Hello\n",
      "Hello\n",
      "Hello\n",
      "Hello\n",
      "Hello\n",
      "Hello\n",
      "Hello\n",
      "Hello\n",
      "Hello\n",
      "Hello\n",
      "Hello\n",
      "Hello\n",
      "Hello\n",
      "Hello\n",
      "Hello\n",
      "Hello\n",
      "Hello\n",
      "Hello\n",
      "Hello\n",
      "Hello\n",
      "Hello\n",
      "Hello\n",
      "Hello\n",
      "Hello\n",
      "Hello\n",
      "Hello\n",
      "Hello\n",
      "Hello\n",
      "Hello\n",
      "Hello\n",
      "Hello\n",
      "Hello\n",
      "Hello\n",
      "Hello\n",
      "Hello\n",
      "Hello\n",
      "Hello\n",
      "Hello\n",
      "Hello\n",
      "Hello\n",
      "Hello\n",
      "Hello\n",
      "Hello\n",
      "Hello\n",
      "Hello\n",
      "Hello\n",
      "Hello\n",
      "Hello\n",
      "Hello\n",
      "Hello\n",
      "Hello\n",
      "Hello\n",
      "Hello\n",
      "Hello\n",
      "Hello\n",
      "Hello\n",
      "Hello\n",
      "Hello\n",
      "Hello\n",
      "Hello\n",
      "Hello\n",
      "Hello\n",
      "Hello\n",
      "Hello\n",
      "Hello\n",
      "Hello\n",
      "Hello\n",
      "Hello\n",
      "Hello\n",
      "Hello\n",
      "Hello\n",
      "Hello\n",
      "Hello\n",
      "Hello\n",
      "Hello\n",
      "Hello\n",
      "Hello\n",
      "Hello\n",
      "Hello\n",
      "Hello\n",
      "Hello\n",
      "Hello\n",
      "Hello\n",
      "Hello\n",
      "Hello\n",
      "Hello\n",
      "Hello\n",
      "Hello\n",
      "Hello\n",
      "Hello\n",
      "Hello\n",
      "Hello\n",
      "Hello\n",
      "Hello\n",
      "Hello\n",
      "Hello\n",
      "Hello\n",
      "Hello\n",
      "Hello\n",
      "Hello\n",
      "Hello\n",
      "Hello\n",
      "Hello\n",
      "Hello\n",
      "Hello\n",
      "Hello\n",
      "Hello\n",
      "Hello\n",
      "Hello\n",
      "Hello\n",
      "Hello\n",
      "Hello\n",
      "Hello\n",
      "Hello\n",
      "Hello\n",
      "Hello\n",
      "Hello\n",
      "Hello\n",
      "Hello\n",
      "Hello\n",
      "Hello\n",
      "Hello\n",
      "Hello\n",
      "Hello\n",
      "Hello\n",
      "Hello\n",
      "Hello\n",
      "Hello\n",
      "Hello\n",
      "Hello\n",
      "Hello\n",
      "Hello\n",
      "Hello\n",
      "Hello\n",
      "Hello\n",
      "Hello\n",
      "Hello\n",
      "Hello\n",
      "Hello\n",
      "Hello\n",
      "Hello\n",
      "Hello\n",
      "Hello\n",
      "Hello\n",
      "Hello\n",
      "Hello\n",
      "Hello\n",
      "Hello\n",
      "Hello\n",
      "Hello\n",
      "Hello\n",
      "Hello\n",
      "Hello\n",
      "Hello\n",
      "Hello\n",
      "Hello\n",
      "Hello\n",
      "Hello\n",
      "Hello\n",
      "Hello\n",
      "Hello\n",
      "Hello\n",
      "Hello\n",
      "Hello\n",
      "Hello\n",
      "Hello\n",
      "Hello\n",
      "Hello\n",
      "Hello\n",
      "Hello\n",
      "Hello\n",
      "Hello\n",
      "Hello\n",
      "Hello\n",
      "Hello\n",
      "Hello\n",
      "Hello\n",
      "Hello\n",
      "Hello\n",
      "Hello\n",
      "Hello\n",
      "Hello\n",
      "Hello\n",
      "Hello\n",
      "Hello\n",
      "Hello\n",
      "Hello\n",
      "Hello\n",
      "Hello\n",
      "Hello\n",
      "Hello\n",
      "Hello\n",
      "Hello\n",
      "Hello\n",
      "Hello\n",
      "Hello\n",
      "Hello\n",
      "Hello\n",
      "Hello\n",
      "Hello\n",
      "Hello\n",
      "Hello\n",
      "Hello\n",
      "Hello\n",
      "Hello\n",
      "Hello\n",
      "Hello\n",
      "Hello\n",
      "Hello\n",
      "Hello\n",
      "Hello\n",
      "Hello\n",
      "Hello\n",
      "Hello\n",
      "Hello\n",
      "Hello\n",
      "Hello\n",
      "Hello\n",
      "Hello\n",
      "Hello\n",
      "Hello\n",
      "Hello\n",
      "Hello\n",
      "Hello\n",
      "Hello\n",
      "Hello\n",
      "Hello\n",
      "Hello\n",
      "Hello\n",
      "Hello\n",
      "Hello\n",
      "Hello\n",
      "Hello\n",
      "Hello\n",
      "Hello\n",
      "Hello\n",
      "Hello\n",
      "Hello\n",
      "Hello\n",
      "Hello\n",
      "Hello\n",
      "Hello\n",
      "Hello\n",
      "Hello\n",
      "Hello\n",
      "Hello\n",
      "Hello\n",
      "Hello\n",
      "Hello\n",
      "Hello\n",
      "Hello\n",
      "Hello\n",
      "Hello\n",
      "Hello\n",
      "Hello\n",
      "Hello\n",
      "Hello\n",
      "Hello\n",
      "Hello\n",
      "Hello\n",
      "Hello\n",
      "Hello\n",
      "Hello\n",
      "Hello\n",
      "Hello\n",
      "Hello\n",
      "Hello\n",
      "Hello\n",
      "Hello\n",
      "Hello\n",
      "Hello\n",
      "Hello\n",
      "Hello\n",
      "Hello\n",
      "Hello\n",
      "Hello\n",
      "Hello\n",
      "Hello\n",
      "Hello\n",
      "Hello\n",
      "Hello\n",
      "Hello\n",
      "Hello\n",
      "Hello\n",
      "Hello\n",
      "Hello\n",
      "Hello\n",
      "Hello\n",
      "Hello\n",
      "Hello\n",
      "Hello\n",
      "Hello\n",
      "Hello\n",
      "Hello\n",
      "Hello\n",
      "Hello\n",
      "Hello\n",
      "Hello\n",
      "Hello\n",
      "Hello\n",
      "Hello\n",
      "Hello\n",
      "Hello\n",
      "Hello\n",
      "Hello\n",
      "Hello\n",
      "Hello\n",
      "Hello\n",
      "Hello\n",
      "Hello\n",
      "Hello\n",
      "Hello\n",
      "Hello\n",
      "Hello\n",
      "Hello\n",
      "Hello\n",
      "Hello\n",
      "Hello\n",
      "Hello\n",
      "Hello\n",
      "Hello\n",
      "Hello\n",
      "Hello\n",
      "Hello\n",
      "Hello\n",
      "Hello\n",
      "Hello\n",
      "Hello\n",
      "Hello\n",
      "Hello\n",
      "Hello\n",
      "Hello\n",
      "Hello\n",
      "Hello\n",
      "Hello\n",
      "Hello\n",
      "Hello\n",
      "Hello\n",
      "Hello\n",
      "Hello\n",
      "Hello\n",
      "Hello\n",
      "Hello\n",
      "Hello\n",
      "Hello\n",
      "Hello\n",
      "Hello\n",
      "Hello\n",
      "Hello\n",
      "Hello\n",
      "Hello\n",
      "Hello\n",
      "Hello\n",
      "Hello\n",
      "Hello\n",
      "Hello\n",
      "Hello\n",
      "Hello\n",
      "Hello\n",
      "Hello\n",
      "Hello\n",
      "Hello\n",
      "Hello\n",
      "Hello\n",
      "Hello\n",
      "Hello\n",
      "Hello\n",
      "Hello\n",
      "Hello\n",
      "Hello\n",
      "Hello\n",
      "Hello\n",
      "Hello\n",
      "Hello\n",
      "Hello\n",
      "Hello\n",
      "Hello\n",
      "Hello\n",
      "Hello\n",
      "Hello\n",
      "Hello\n",
      "Hello\n",
      "Hello\n",
      "Hello\n",
      "Hello\n",
      "Hello\n",
      "Hello\n",
      "Hello\n",
      "Hello\n",
      "Hello\n",
      "Hello\n",
      "Hello\n",
      "Hello\n",
      "Hello\n",
      "Hello\n",
      "Hello\n",
      "Hello\n",
      "Hello\n",
      "Hello\n",
      "Hello\n",
      "Hello\n",
      "Hello\n",
      "Hello\n",
      "Hello\n",
      "Hello\n",
      "Hello\n",
      "Hello\n",
      "Hello\n",
      "Hello\n",
      "Hello\n",
      "Hello\n",
      "Hello\n",
      "Hello\n",
      "Hello\n",
      "Hello\n",
      "Hello\n",
      "Hello\n",
      "Hello\n",
      "Hello\n",
      "Hello\n",
      "Hello\n",
      "Hello\n",
      "Hello\n",
      "Hello\n",
      "Hello\n",
      "Hello\n",
      "Hello\n",
      "Hello\n",
      "Hello\n",
      "Hello\n",
      "Hello\n",
      "Hello\n",
      "Hello\n",
      "Hello\n",
      "Hello\n",
      "Hello\n",
      "Hello\n",
      "Hello\n",
      "Hello\n",
      "Hello\n",
      "Hello\n",
      "Hello\n",
      "Hello\n",
      "Hello\n",
      "Hello\n",
      "Hello\n",
      "Hello\n",
      "Hello\n",
      "Hello\n",
      "Hello\n",
      "Hello\n",
      "Hello\n",
      "Hello\n",
      "Hello\n",
      "Hello\n",
      "Hello\n",
      "Hello\n",
      "Hello\n",
      "Hello\n",
      "Hello\n",
      "Hello\n",
      "Hello\n",
      "Hello\n",
      "Hello\n",
      "Hello\n",
      "Hello\n",
      "Hello\n",
      "Hello\n",
      "Hello\n",
      "Hello\n",
      "Hello\n",
      "Hello\n",
      "Hello\n",
      "Hello\n",
      "Hello\n",
      "Hello\n",
      "Hello\n",
      "Hello\n",
      "Hello\n",
      "Hello\n",
      "Hello\n",
      "Hello\n",
      "Hello\n",
      "Hello\n",
      "Hello\n",
      "Hello\n",
      "Hello\n",
      "Hello\n",
      "Hello\n",
      "Hello\n",
      "Hello\n",
      "Hello\n",
      "Hello\n",
      "Hello\n",
      "Hello\n",
      "Hello\n",
      "Hello\n",
      "Hello\n",
      "Hello\n",
      "Hello\n",
      "Hello\n",
      "Hello\n",
      "Hello\n",
      "Hello\n",
      "Hello\n",
      "Hello\n",
      "Hello\n",
      "Hello\n",
      "Hello\n",
      "Hello\n",
      "Hello\n",
      "Hello\n",
      "Hello\n",
      "Hello\n",
      "Hello\n",
      "Hello\n",
      "Hello\n",
      "Hello\n",
      "Hello\n",
      "Hello\n",
      "Hello\n",
      "Hello\n",
      "Hello\n",
      "Hello\n",
      "Hello\n",
      "Hello\n",
      "Hello\n",
      "Hello\n",
      "Hello\n",
      "Hello\n",
      "Hello\n",
      "Hello\n",
      "Hello\n",
      "Hello\n",
      "Hello\n",
      "Hello\n",
      "Hello\n",
      "Hello\n",
      "Hello\n",
      "Hello\n",
      "Hello\n",
      "Hello\n",
      "Hello\n",
      "Hello\n",
      "Hello\n",
      "Hello\n",
      "Hello\n",
      "Hello\n",
      "Hello\n",
      "Hello\n",
      "Hello\n"
     ]
    },
    {
     "ename": "RecursionError",
     "evalue": "maximum recursion depth exceeded while calling a Python object",
     "output_type": "error",
     "traceback": [
      "\u001b[1;31m---------------------------------------------------------------------------\u001b[0m",
      "\u001b[1;31mRecursionError\u001b[0m                            Traceback (most recent call last)",
      "File \u001b[1;32m~\\anaconda\\lib\\threading.py:1073\u001b[0m, in \u001b[0;36mThread._wait_for_tstate_lock\u001b[1;34m(self, block, timeout)\u001b[0m\n\u001b[0;32m   1072\u001b[0m \u001b[38;5;28;01mtry\u001b[39;00m:\n\u001b[1;32m-> 1073\u001b[0m     \u001b[38;5;28;01mif\u001b[39;00m \u001b[43mlock\u001b[49m\u001b[38;5;241;43m.\u001b[39;49m\u001b[43macquire\u001b[49m\u001b[43m(\u001b[49m\u001b[43mblock\u001b[49m\u001b[43m,\u001b[49m\u001b[43m \u001b[49m\u001b[43mtimeout\u001b[49m\u001b[43m)\u001b[49m:\n\u001b[0;32m   1074\u001b[0m         lock\u001b[38;5;241m.\u001b[39mrelease()\n",
      "\u001b[1;31mRecursionError\u001b[0m: maximum recursion depth exceeded while calling a Python object",
      "\nDuring handling of the above exception, another exception occurred:\n",
      "\u001b[1;31mRecursionError\u001b[0m                            Traceback (most recent call last)",
      "Input \u001b[1;32mIn [35]\u001b[0m, in \u001b[0;36m<cell line: 4>\u001b[1;34m()\u001b[0m\n\u001b[0;32m      2\u001b[0m     \u001b[38;5;28mprint\u001b[39m(\u001b[38;5;124m\"\u001b[39m\u001b[38;5;124mHello\u001b[39m\u001b[38;5;124m\"\u001b[39m)\n\u001b[0;32m      3\u001b[0m     greet()\n\u001b[1;32m----> 4\u001b[0m \u001b[43mgreet\u001b[49m\u001b[43m(\u001b[49m\u001b[43m)\u001b[49m\n",
      "Input \u001b[1;32mIn [35]\u001b[0m, in \u001b[0;36mgreet\u001b[1;34m()\u001b[0m\n\u001b[0;32m      1\u001b[0m \u001b[38;5;28;01mdef\u001b[39;00m \u001b[38;5;21mgreet\u001b[39m():\n\u001b[0;32m      2\u001b[0m     \u001b[38;5;28mprint\u001b[39m(\u001b[38;5;124m\"\u001b[39m\u001b[38;5;124mHello\u001b[39m\u001b[38;5;124m\"\u001b[39m)\n\u001b[1;32m----> 3\u001b[0m     \u001b[43mgreet\u001b[49m\u001b[43m(\u001b[49m\u001b[43m)\u001b[49m\n",
      "Input \u001b[1;32mIn [35]\u001b[0m, in \u001b[0;36mgreet\u001b[1;34m()\u001b[0m\n\u001b[0;32m      1\u001b[0m \u001b[38;5;28;01mdef\u001b[39;00m \u001b[38;5;21mgreet\u001b[39m():\n\u001b[0;32m      2\u001b[0m     \u001b[38;5;28mprint\u001b[39m(\u001b[38;5;124m\"\u001b[39m\u001b[38;5;124mHello\u001b[39m\u001b[38;5;124m\"\u001b[39m)\n\u001b[1;32m----> 3\u001b[0m     \u001b[43mgreet\u001b[49m\u001b[43m(\u001b[49m\u001b[43m)\u001b[49m\n",
      "    \u001b[1;31m[... skipping similar frames: greet at line 3 (1964 times)]\u001b[0m\n",
      "Input \u001b[1;32mIn [35]\u001b[0m, in \u001b[0;36mgreet\u001b[1;34m()\u001b[0m\n\u001b[0;32m      1\u001b[0m \u001b[38;5;28;01mdef\u001b[39;00m \u001b[38;5;21mgreet\u001b[39m():\n\u001b[0;32m      2\u001b[0m     \u001b[38;5;28mprint\u001b[39m(\u001b[38;5;124m\"\u001b[39m\u001b[38;5;124mHello\u001b[39m\u001b[38;5;124m\"\u001b[39m)\n\u001b[1;32m----> 3\u001b[0m     \u001b[43mgreet\u001b[49m\u001b[43m(\u001b[49m\u001b[43m)\u001b[49m\n",
      "Input \u001b[1;32mIn [35]\u001b[0m, in \u001b[0;36mgreet\u001b[1;34m()\u001b[0m\n\u001b[0;32m      1\u001b[0m \u001b[38;5;28;01mdef\u001b[39;00m \u001b[38;5;21mgreet\u001b[39m():\n\u001b[1;32m----> 2\u001b[0m     \u001b[38;5;28;43mprint\u001b[39;49m\u001b[43m(\u001b[49m\u001b[38;5;124;43m\"\u001b[39;49m\u001b[38;5;124;43mHello\u001b[39;49m\u001b[38;5;124;43m\"\u001b[39;49m\u001b[43m)\u001b[49m\n\u001b[0;32m      3\u001b[0m     greet()\n",
      "File \u001b[1;32m~\\anaconda\\lib\\site-packages\\ipykernel\\iostream.py:531\u001b[0m, in \u001b[0;36mOutStream.write\u001b[1;34m(self, string)\u001b[0m\n\u001b[0;32m    529\u001b[0m is_child \u001b[38;5;241m=\u001b[39m (\u001b[38;5;129;01mnot\u001b[39;00m \u001b[38;5;28mself\u001b[39m\u001b[38;5;241m.\u001b[39m_is_master_process())\n\u001b[0;32m    530\u001b[0m \u001b[38;5;66;03m# only touch the buffer in the IO thread to avoid races\u001b[39;00m\n\u001b[1;32m--> 531\u001b[0m \u001b[38;5;28;43mself\u001b[39;49m\u001b[38;5;241;43m.\u001b[39;49m\u001b[43mpub_thread\u001b[49m\u001b[38;5;241;43m.\u001b[39;49m\u001b[43mschedule\u001b[49m\u001b[43m(\u001b[49m\u001b[38;5;28;43;01mlambda\u001b[39;49;00m\u001b[43m:\u001b[49m\u001b[43m \u001b[49m\u001b[38;5;28;43mself\u001b[39;49m\u001b[38;5;241;43m.\u001b[39;49m\u001b[43m_buffer\u001b[49m\u001b[38;5;241;43m.\u001b[39;49m\u001b[43mwrite\u001b[49m\u001b[43m(\u001b[49m\u001b[43mstring\u001b[49m\u001b[43m)\u001b[49m\u001b[43m)\u001b[49m\n\u001b[0;32m    532\u001b[0m \u001b[38;5;28;01mif\u001b[39;00m is_child:\n\u001b[0;32m    533\u001b[0m     \u001b[38;5;66;03m# mp.Pool cannot be trusted to flush promptly (or ever),\u001b[39;00m\n\u001b[0;32m    534\u001b[0m     \u001b[38;5;66;03m# and this helps.\u001b[39;00m\n\u001b[0;32m    535\u001b[0m     \u001b[38;5;28;01mif\u001b[39;00m \u001b[38;5;28mself\u001b[39m\u001b[38;5;241m.\u001b[39m_subprocess_flush_pending:\n",
      "File \u001b[1;32m~\\anaconda\\lib\\site-packages\\ipykernel\\iostream.py:213\u001b[0m, in \u001b[0;36mIOPubThread.schedule\u001b[1;34m(self, f)\u001b[0m\n\u001b[0;32m    208\u001b[0m \u001b[38;5;28;01mdef\u001b[39;00m \u001b[38;5;21mschedule\u001b[39m(\u001b[38;5;28mself\u001b[39m, f):\n\u001b[0;32m    209\u001b[0m     \u001b[38;5;124;03m\"\"\"Schedule a function to be called in our IO thread.\u001b[39;00m\n\u001b[0;32m    210\u001b[0m \n\u001b[0;32m    211\u001b[0m \u001b[38;5;124;03m    If the thread is not running, call immediately.\u001b[39;00m\n\u001b[0;32m    212\u001b[0m \u001b[38;5;124;03m    \"\"\"\u001b[39;00m\n\u001b[1;32m--> 213\u001b[0m     \u001b[38;5;28;01mif\u001b[39;00m \u001b[38;5;28;43mself\u001b[39;49m\u001b[38;5;241;43m.\u001b[39;49m\u001b[43mthread\u001b[49m\u001b[38;5;241;43m.\u001b[39;49m\u001b[43mis_alive\u001b[49m\u001b[43m(\u001b[49m\u001b[43m)\u001b[49m:\n\u001b[0;32m    214\u001b[0m         \u001b[38;5;28mself\u001b[39m\u001b[38;5;241m.\u001b[39m_events\u001b[38;5;241m.\u001b[39mappend(f)\n\u001b[0;32m    215\u001b[0m         \u001b[38;5;66;03m# wake event thread (message content is ignored)\u001b[39;00m\n",
      "File \u001b[1;32m~\\anaconda\\lib\\threading.py:1137\u001b[0m, in \u001b[0;36mThread.is_alive\u001b[1;34m(self)\u001b[0m\n\u001b[0;32m   1135\u001b[0m \u001b[38;5;28;01mif\u001b[39;00m \u001b[38;5;28mself\u001b[39m\u001b[38;5;241m.\u001b[39m_is_stopped \u001b[38;5;129;01mor\u001b[39;00m \u001b[38;5;129;01mnot\u001b[39;00m \u001b[38;5;28mself\u001b[39m\u001b[38;5;241m.\u001b[39m_started\u001b[38;5;241m.\u001b[39mis_set():\n\u001b[0;32m   1136\u001b[0m     \u001b[38;5;28;01mreturn\u001b[39;00m \u001b[38;5;28;01mFalse\u001b[39;00m\n\u001b[1;32m-> 1137\u001b[0m \u001b[38;5;28;43mself\u001b[39;49m\u001b[38;5;241;43m.\u001b[39;49m\u001b[43m_wait_for_tstate_lock\u001b[49m\u001b[43m(\u001b[49m\u001b[38;5;28;43;01mFalse\u001b[39;49;00m\u001b[43m)\u001b[49m\n\u001b[0;32m   1138\u001b[0m \u001b[38;5;28;01mreturn\u001b[39;00m \u001b[38;5;129;01mnot\u001b[39;00m \u001b[38;5;28mself\u001b[39m\u001b[38;5;241m.\u001b[39m_is_stopped\n",
      "File \u001b[1;32m~\\anaconda\\lib\\threading.py:1077\u001b[0m, in \u001b[0;36mThread._wait_for_tstate_lock\u001b[1;34m(self, block, timeout)\u001b[0m\n\u001b[0;32m   1075\u001b[0m         \u001b[38;5;28mself\u001b[39m\u001b[38;5;241m.\u001b[39m_stop()\n\u001b[0;32m   1076\u001b[0m \u001b[38;5;28;01mexcept\u001b[39;00m:\n\u001b[1;32m-> 1077\u001b[0m     \u001b[38;5;28;01mif\u001b[39;00m \u001b[43mlock\u001b[49m\u001b[38;5;241;43m.\u001b[39;49m\u001b[43mlocked\u001b[49m\u001b[43m(\u001b[49m\u001b[43m)\u001b[49m:\n\u001b[0;32m   1078\u001b[0m         \u001b[38;5;66;03m# bpo-45274: lock.acquire() acquired the lock, but the function\u001b[39;00m\n\u001b[0;32m   1079\u001b[0m         \u001b[38;5;66;03m# was interrupted with an exception before reaching the\u001b[39;00m\n\u001b[0;32m   1080\u001b[0m         \u001b[38;5;66;03m# lock.release(). It can happen if a signal handler raises an\u001b[39;00m\n\u001b[0;32m   1081\u001b[0m         \u001b[38;5;66;03m# exception, like CTRL+C which raises KeyboardInterrupt.\u001b[39;00m\n\u001b[0;32m   1082\u001b[0m         lock\u001b[38;5;241m.\u001b[39mrelease()\n\u001b[0;32m   1083\u001b[0m         \u001b[38;5;28mself\u001b[39m\u001b[38;5;241m.\u001b[39m_stop()\n",
      "\u001b[1;31mRecursionError\u001b[0m: maximum recursion depth exceeded while calling a Python object"
     ]
    }
   ],
   "source": [
    "def greet():\n",
    "    print(\"Hello\")\n",
    "    greet()\n",
    "greet()"
   ]
  },
  {
   "cell_type": "code",
   "execution_count": 1,
   "id": "eadd9e51",
   "metadata": {},
   "outputs": [
    {
     "name": "stdout",
     "output_type": "stream",
     "text": [
      "3000\n"
     ]
    }
   ],
   "source": [
    "import sys\n",
    "print(sys.getrecursionlimit())\n",
    "def greet():\n",
    "    print(\"Hello\")\n",
    "    greet()\n"
   ]
  },
  {
   "cell_type": "code",
   "execution_count": 3,
   "id": "cc3a5e5b",
   "metadata": {},
   "outputs": [
    {
     "name": "stdout",
     "output_type": "stream",
     "text": [
      "2000\n"
     ]
    }
   ],
   "source": [
    "import sys\n",
    "sys.setrecursionlimit(2000)\n",
    "print(sys.getrecursionlimit())\n",
    "\n",
    "def greet():\n",
    "    print(\"Hello\")\n",
    "    greet()\n"
   ]
  },
  {
   "cell_type": "code",
   "execution_count": 7,
   "id": "bcc2f299",
   "metadata": {},
   "outputs": [
    {
     "name": "stdout",
     "output_type": "stream",
     "text": [
      "2000\n",
      "Hello 1\n",
      "Hello 2\n",
      "Hello 3\n",
      "Hello 4\n",
      "Hello 5\n",
      "Hello 6\n",
      "Hello 7\n",
      "Hello 8\n",
      "Hello 9\n",
      "Hello 10\n",
      "Hello 11\n",
      "Hello 12\n",
      "Hello 13\n",
      "Hello 14\n",
      "Hello 15\n",
      "Hello 16\n",
      "Hello 17\n",
      "Hello 18\n",
      "Hello 19\n",
      "Hello 20\n",
      "Hello 21\n",
      "Hello 22\n",
      "Hello 23\n",
      "Hello 24\n",
      "Hello 25\n",
      "Hello 26\n",
      "Hello 27\n",
      "Hello 28\n",
      "Hello 29\n",
      "Hello 30\n",
      "Hello 31\n",
      "Hello 32\n",
      "Hello 33\n",
      "Hello 34\n",
      "Hello 35\n",
      "Hello 36\n",
      "Hello 37\n",
      "Hello 38\n",
      "Hello 39\n",
      "Hello 40\n",
      "Hello 41\n",
      "Hello 42\n",
      "Hello 43\n",
      "Hello 44\n",
      "Hello 45\n",
      "Hello 46\n",
      "Hello 47\n",
      "Hello 48\n",
      "Hello 49\n",
      "Hello 50\n",
      "Hello 51\n",
      "Hello 52\n",
      "Hello 53\n",
      "Hello 54\n",
      "Hello 55\n",
      "Hello 56\n",
      "Hello 57\n",
      "Hello 58\n",
      "Hello 59\n",
      "Hello 60\n",
      "Hello 61\n",
      "Hello 62\n",
      "Hello 63\n",
      "Hello 64\n",
      "Hello 65\n",
      "Hello 66\n",
      "Hello 67\n",
      "Hello 68\n",
      "Hello 69\n",
      "Hello 70\n",
      "Hello 71\n",
      "Hello 72\n",
      "Hello 73\n",
      "Hello 74\n",
      "Hello 75\n",
      "Hello 76\n",
      "Hello 77\n",
      "Hello 78\n",
      "Hello 79\n",
      "Hello 80\n",
      "Hello 81\n",
      "Hello 82\n",
      "Hello 83\n",
      "Hello 84\n",
      "Hello 85\n",
      "Hello 86\n",
      "Hello 87\n",
      "Hello 88\n",
      "Hello 89\n",
      "Hello 90\n",
      "Hello 91\n",
      "Hello 92\n",
      "Hello 93\n",
      "Hello 94\n",
      "Hello 95\n",
      "Hello 96\n",
      "Hello 97\n",
      "Hello 98\n",
      "Hello 99\n",
      "Hello 100\n",
      "Hello 101\n",
      "Hello 102\n",
      "Hello 103\n",
      "Hello 104\n",
      "Hello 105\n",
      "Hello 106\n",
      "Hello 107\n",
      "Hello 108\n",
      "Hello 109\n",
      "Hello 110\n",
      "Hello 111\n",
      "Hello 112\n",
      "Hello 113\n",
      "Hello 114\n",
      "Hello 115\n",
      "Hello 116\n",
      "Hello 117\n",
      "Hello 118\n",
      "Hello 119\n",
      "Hello 120\n",
      "Hello 121\n",
      "Hello 122\n",
      "Hello 123\n",
      "Hello 124\n",
      "Hello 125\n",
      "Hello 126\n",
      "Hello 127\n",
      "Hello 128\n",
      "Hello 129\n",
      "Hello 130\n",
      "Hello 131\n",
      "Hello 132\n",
      "Hello 133\n",
      "Hello 134\n",
      "Hello 135\n",
      "Hello 136\n",
      "Hello 137\n",
      "Hello 138\n",
      "Hello 139\n",
      "Hello 140\n",
      "Hello 141\n",
      "Hello 142\n",
      "Hello 143\n",
      "Hello 144\n",
      "Hello 145\n",
      "Hello 146\n",
      "Hello 147\n",
      "Hello 148\n",
      "Hello 149\n",
      "Hello 150\n",
      "Hello 151\n",
      "Hello 152\n",
      "Hello 153\n",
      "Hello 154\n",
      "Hello 155\n",
      "Hello 156\n",
      "Hello 157\n",
      "Hello 158\n",
      "Hello 159\n",
      "Hello 160\n",
      "Hello 161\n",
      "Hello 162\n",
      "Hello 163\n",
      "Hello 164\n",
      "Hello 165\n",
      "Hello 166\n",
      "Hello 167\n",
      "Hello 168\n",
      "Hello 169\n",
      "Hello 170\n",
      "Hello 171\n",
      "Hello 172\n",
      "Hello 173\n",
      "Hello 174\n",
      "Hello 175\n",
      "Hello 176\n",
      "Hello 177\n",
      "Hello 178\n",
      "Hello 179\n",
      "Hello 180\n",
      "Hello 181\n",
      "Hello 182\n",
      "Hello 183\n",
      "Hello 184\n",
      "Hello 185\n",
      "Hello 186\n",
      "Hello 187\n",
      "Hello 188\n",
      "Hello 189\n",
      "Hello 190\n",
      "Hello 191\n",
      "Hello 192\n",
      "Hello 193\n",
      "Hello 194\n",
      "Hello 195\n",
      "Hello 196\n",
      "Hello 197\n",
      "Hello 198\n",
      "Hello 199\n",
      "Hello 200\n",
      "Hello 201\n",
      "Hello 202\n",
      "Hello 203\n",
      "Hello 204\n",
      "Hello 205\n",
      "Hello 206\n",
      "Hello 207\n",
      "Hello 208\n",
      "Hello 209\n",
      "Hello 210\n",
      "Hello 211\n",
      "Hello 212\n",
      "Hello 213\n",
      "Hello 214\n",
      "Hello 215\n",
      "Hello 216\n",
      "Hello 217\n",
      "Hello 218\n",
      "Hello 219\n",
      "Hello 220\n",
      "Hello 221\n",
      "Hello 222\n",
      "Hello 223\n",
      "Hello 224\n",
      "Hello 225\n",
      "Hello 226\n",
      "Hello 227\n",
      "Hello 228\n",
      "Hello 229\n",
      "Hello 230\n",
      "Hello 231\n",
      "Hello 232\n",
      "Hello 233\n",
      "Hello 234\n",
      "Hello 235\n",
      "Hello 236\n",
      "Hello 237\n",
      "Hello 238\n",
      "Hello 239\n",
      "Hello 240\n",
      "Hello 241\n",
      "Hello 242\n",
      "Hello 243\n",
      "Hello 244\n",
      "Hello 245\n",
      "Hello 246\n",
      "Hello 247\n",
      "Hello 248\n",
      "Hello 249\n",
      "Hello 250\n",
      "Hello 251\n",
      "Hello 252\n",
      "Hello 253\n",
      "Hello 254\n",
      "Hello 255\n",
      "Hello 256\n",
      "Hello 257\n",
      "Hello 258\n",
      "Hello 259\n",
      "Hello 260\n",
      "Hello 261\n",
      "Hello 262\n",
      "Hello 263\n",
      "Hello 264\n",
      "Hello 265\n",
      "Hello 266\n",
      "Hello 267\n",
      "Hello 268\n",
      "Hello 269\n",
      "Hello 270\n",
      "Hello 271\n",
      "Hello 272\n",
      "Hello 273\n",
      "Hello 274\n",
      "Hello 275\n",
      "Hello 276\n",
      "Hello 277\n",
      "Hello 278\n",
      "Hello 279\n",
      "Hello 280\n",
      "Hello 281\n",
      "Hello 282\n",
      "Hello 283\n",
      "Hello 284\n",
      "Hello 285\n",
      "Hello 286\n",
      "Hello 287\n",
      "Hello 288\n",
      "Hello 289\n",
      "Hello 290\n",
      "Hello 291\n",
      "Hello 292\n",
      "Hello 293\n",
      "Hello 294\n",
      "Hello 295\n",
      "Hello 296\n",
      "Hello 297\n",
      "Hello 298\n",
      "Hello 299\n",
      "Hello 300\n",
      "Hello 301\n",
      "Hello 302\n",
      "Hello 303\n",
      "Hello 304\n",
      "Hello 305\n",
      "Hello 306\n",
      "Hello 307\n",
      "Hello 308\n",
      "Hello 309\n",
      "Hello 310\n",
      "Hello 311\n",
      "Hello 312\n",
      "Hello 313\n",
      "Hello 314\n",
      "Hello 315\n",
      "Hello 316\n",
      "Hello 317\n",
      "Hello 318\n",
      "Hello 319\n",
      "Hello 320\n",
      "Hello 321\n",
      "Hello 322\n",
      "Hello 323\n",
      "Hello 324\n",
      "Hello 325\n",
      "Hello 326\n",
      "Hello 327\n",
      "Hello 328\n",
      "Hello 329\n",
      "Hello 330\n",
      "Hello 331\n",
      "Hello 332\n",
      "Hello 333\n",
      "Hello 334\n",
      "Hello 335\n",
      "Hello 336\n",
      "Hello 337\n",
      "Hello 338\n",
      "Hello 339\n",
      "Hello 340\n",
      "Hello 341\n",
      "Hello 342\n",
      "Hello 343\n",
      "Hello 344\n",
      "Hello 345\n",
      "Hello 346\n",
      "Hello 347\n",
      "Hello 348\n",
      "Hello 349\n",
      "Hello 350\n",
      "Hello 351\n",
      "Hello 352\n",
      "Hello 353\n",
      "Hello 354\n",
      "Hello 355\n",
      "Hello 356\n",
      "Hello 357\n",
      "Hello 358\n",
      "Hello 359\n",
      "Hello 360\n",
      "Hello 361\n",
      "Hello 362\n",
      "Hello 363\n",
      "Hello 364\n",
      "Hello 365\n",
      "Hello 366\n",
      "Hello 367\n",
      "Hello 368\n",
      "Hello 369\n",
      "Hello 370\n",
      "Hello 371\n",
      "Hello 372\n",
      "Hello 373\n",
      "Hello 374\n",
      "Hello 375\n",
      "Hello 376\n",
      "Hello 377\n",
      "Hello 378\n",
      "Hello 379\n",
      "Hello 380\n",
      "Hello 381\n",
      "Hello 382\n",
      "Hello 383\n",
      "Hello 384\n",
      "Hello 385\n",
      "Hello 386\n",
      "Hello 387\n",
      "Hello 388\n",
      "Hello 389\n",
      "Hello 390\n",
      "Hello 391\n",
      "Hello 392\n",
      "Hello 393\n",
      "Hello 394\n",
      "Hello 395\n",
      "Hello 396\n",
      "Hello 397\n",
      "Hello 398\n",
      "Hello 399\n",
      "Hello 400\n",
      "Hello 401\n",
      "Hello 402\n",
      "Hello 403\n",
      "Hello 404\n",
      "Hello 405\n",
      "Hello 406\n",
      "Hello 407\n",
      "Hello 408\n",
      "Hello 409\n",
      "Hello 410\n",
      "Hello 411\n",
      "Hello 412\n",
      "Hello 413\n",
      "Hello 414\n",
      "Hello 415\n",
      "Hello 416\n",
      "Hello 417\n",
      "Hello 418\n",
      "Hello 419\n",
      "Hello 420\n",
      "Hello 421\n",
      "Hello 422\n",
      "Hello 423\n",
      "Hello 424\n",
      "Hello 425\n",
      "Hello 426\n",
      "Hello 427\n",
      "Hello 428\n",
      "Hello 429\n",
      "Hello 430\n",
      "Hello 431\n",
      "Hello 432\n",
      "Hello 433\n",
      "Hello 434\n",
      "Hello 435\n",
      "Hello 436\n",
      "Hello 437\n",
      "Hello 438\n",
      "Hello 439\n",
      "Hello 440\n",
      "Hello 441\n",
      "Hello 442\n",
      "Hello 443\n",
      "Hello 444\n",
      "Hello 445\n",
      "Hello 446\n",
      "Hello 447\n",
      "Hello 448\n",
      "Hello 449\n",
      "Hello 450\n",
      "Hello 451\n",
      "Hello 452\n",
      "Hello 453\n",
      "Hello 454\n",
      "Hello 455\n",
      "Hello 456\n",
      "Hello 457\n",
      "Hello 458\n",
      "Hello 459\n",
      "Hello 460\n",
      "Hello 461\n",
      "Hello 462\n",
      "Hello 463\n",
      "Hello 464\n",
      "Hello 465\n",
      "Hello 466\n",
      "Hello 467\n",
      "Hello 468\n",
      "Hello 469\n",
      "Hello 470\n",
      "Hello 471\n",
      "Hello 472\n",
      "Hello 473\n",
      "Hello 474\n",
      "Hello 475\n",
      "Hello 476\n",
      "Hello 477\n",
      "Hello 478\n",
      "Hello 479\n",
      "Hello 480\n",
      "Hello 481\n",
      "Hello 482\n",
      "Hello 483\n",
      "Hello 484\n",
      "Hello 485\n",
      "Hello 486\n",
      "Hello 487\n",
      "Hello 488\n",
      "Hello 489\n",
      "Hello 490\n",
      "Hello 491\n",
      "Hello 492\n",
      "Hello 493\n",
      "Hello 494\n",
      "Hello 495\n",
      "Hello 496\n",
      "Hello 497\n",
      "Hello 498\n",
      "Hello 499\n",
      "Hello 500\n",
      "Hello 501\n",
      "Hello 502\n",
      "Hello 503\n",
      "Hello 504\n",
      "Hello 505\n",
      "Hello 506\n",
      "Hello 507\n",
      "Hello 508\n",
      "Hello 509\n",
      "Hello 510\n",
      "Hello 511\n",
      "Hello 512\n",
      "Hello 513\n",
      "Hello 514\n",
      "Hello 515\n",
      "Hello 516\n",
      "Hello 517\n",
      "Hello 518\n",
      "Hello 519\n",
      "Hello 520\n",
      "Hello 521\n",
      "Hello 522\n",
      "Hello 523\n",
      "Hello 524\n",
      "Hello 525\n",
      "Hello 526\n",
      "Hello 527\n",
      "Hello 528\n",
      "Hello 529\n",
      "Hello 530\n",
      "Hello 531\n",
      "Hello 532\n",
      "Hello 533\n",
      "Hello 534\n",
      "Hello 535\n",
      "Hello 536\n",
      "Hello 537\n",
      "Hello 538\n",
      "Hello 539\n",
      "Hello 540\n",
      "Hello 541\n",
      "Hello 542\n",
      "Hello 543\n",
      "Hello 544\n",
      "Hello 545\n",
      "Hello 546\n",
      "Hello 547\n",
      "Hello 548\n",
      "Hello 549\n",
      "Hello 550\n",
      "Hello 551\n",
      "Hello 552\n",
      "Hello 553\n",
      "Hello 554\n",
      "Hello 555\n",
      "Hello 556\n",
      "Hello 557\n",
      "Hello 558\n",
      "Hello 559\n",
      "Hello 560\n",
      "Hello 561\n",
      "Hello 562\n",
      "Hello 563\n",
      "Hello 564\n",
      "Hello 565\n",
      "Hello 566\n",
      "Hello 567\n",
      "Hello 568\n",
      "Hello 569\n",
      "Hello 570\n",
      "Hello 571\n",
      "Hello 572\n",
      "Hello 573\n",
      "Hello 574\n",
      "Hello 575\n",
      "Hello 576\n",
      "Hello 577\n",
      "Hello 578\n",
      "Hello 579\n",
      "Hello 580\n",
      "Hello 581\n",
      "Hello 582\n",
      "Hello 583\n",
      "Hello 584\n",
      "Hello 585\n",
      "Hello 586\n",
      "Hello 587\n",
      "Hello 588\n",
      "Hello 589\n",
      "Hello 590\n",
      "Hello 591\n",
      "Hello 592\n",
      "Hello 593\n",
      "Hello 594\n",
      "Hello 595\n",
      "Hello 596\n",
      "Hello 597\n",
      "Hello 598\n",
      "Hello 599\n",
      "Hello 600\n",
      "Hello 601\n",
      "Hello 602\n",
      "Hello 603\n",
      "Hello 604\n",
      "Hello 605\n",
      "Hello 606\n",
      "Hello 607\n",
      "Hello 608\n",
      "Hello 609\n",
      "Hello 610\n",
      "Hello 611\n",
      "Hello 612\n",
      "Hello 613\n",
      "Hello 614\n",
      "Hello 615\n",
      "Hello 616\n",
      "Hello 617\n",
      "Hello 618\n",
      "Hello 619\n",
      "Hello 620\n",
      "Hello 621\n",
      "Hello 622\n",
      "Hello 623\n",
      "Hello 624\n",
      "Hello 625\n",
      "Hello 626\n",
      "Hello 627\n",
      "Hello 628\n",
      "Hello 629\n",
      "Hello 630\n",
      "Hello 631\n",
      "Hello 632\n",
      "Hello 633\n",
      "Hello 634\n",
      "Hello 635\n",
      "Hello 636\n",
      "Hello 637\n",
      "Hello 638\n",
      "Hello 639\n",
      "Hello 640\n",
      "Hello 641\n",
      "Hello 642\n",
      "Hello 643\n",
      "Hello 644\n",
      "Hello 645\n",
      "Hello 646\n",
      "Hello 647\n",
      "Hello 648\n",
      "Hello 649\n",
      "Hello 650\n",
      "Hello 651\n",
      "Hello 652\n",
      "Hello 653\n",
      "Hello 654\n",
      "Hello 655\n",
      "Hello 656\n",
      "Hello 657\n",
      "Hello 658\n",
      "Hello 659\n",
      "Hello 660\n",
      "Hello 661\n",
      "Hello 662\n",
      "Hello 663\n",
      "Hello 664\n",
      "Hello 665\n",
      "Hello 666\n",
      "Hello 667\n",
      "Hello 668\n",
      "Hello 669\n",
      "Hello 670\n",
      "Hello 671\n",
      "Hello 672\n",
      "Hello 673\n",
      "Hello 674\n",
      "Hello 675\n",
      "Hello 676\n",
      "Hello 677\n",
      "Hello 678\n",
      "Hello 679\n",
      "Hello 680\n",
      "Hello 681\n",
      "Hello 682\n",
      "Hello 683\n",
      "Hello 684\n",
      "Hello 685\n",
      "Hello 686\n",
      "Hello 687\n",
      "Hello 688\n",
      "Hello 689\n",
      "Hello 690\n",
      "Hello 691\n",
      "Hello 692\n",
      "Hello 693\n",
      "Hello 694\n",
      "Hello 695\n",
      "Hello 696\n",
      "Hello 697\n",
      "Hello 698\n",
      "Hello 699\n",
      "Hello 700\n",
      "Hello 701\n",
      "Hello 702\n",
      "Hello 703\n",
      "Hello 704\n",
      "Hello 705\n",
      "Hello 706\n",
      "Hello 707\n",
      "Hello 708\n",
      "Hello 709\n",
      "Hello 710\n",
      "Hello 711\n",
      "Hello 712\n",
      "Hello 713\n",
      "Hello 714\n",
      "Hello 715\n",
      "Hello 716\n",
      "Hello 717\n",
      "Hello 718\n",
      "Hello 719\n",
      "Hello 720\n",
      "Hello 721\n",
      "Hello 722\n",
      "Hello 723\n",
      "Hello 724\n",
      "Hello 725\n",
      "Hello 726\n",
      "Hello 727\n",
      "Hello 728\n",
      "Hello 729\n",
      "Hello 730\n",
      "Hello 731\n",
      "Hello 732\n",
      "Hello 733\n",
      "Hello 734\n",
      "Hello 735\n",
      "Hello 736\n",
      "Hello 737\n",
      "Hello 738\n",
      "Hello 739\n",
      "Hello 740\n",
      "Hello 741\n",
      "Hello 742\n",
      "Hello 743\n",
      "Hello 744\n",
      "Hello 745\n",
      "Hello 746\n",
      "Hello 747\n",
      "Hello 748\n",
      "Hello 749\n",
      "Hello 750\n",
      "Hello 751\n",
      "Hello 752\n",
      "Hello 753\n",
      "Hello 754\n",
      "Hello 755\n",
      "Hello 756\n",
      "Hello 757\n",
      "Hello 758\n",
      "Hello 759\n",
      "Hello 760\n",
      "Hello 761\n",
      "Hello 762\n",
      "Hello 763\n",
      "Hello 764\n",
      "Hello 765\n",
      "Hello 766\n",
      "Hello 767\n",
      "Hello 768\n",
      "Hello 769\n",
      "Hello 770\n",
      "Hello 771\n",
      "Hello 772\n",
      "Hello 773\n",
      "Hello 774\n",
      "Hello 775\n",
      "Hello 776\n",
      "Hello 777\n",
      "Hello 778\n",
      "Hello 779\n",
      "Hello 780\n",
      "Hello 781\n",
      "Hello 782\n",
      "Hello 783\n",
      "Hello 784\n",
      "Hello 785\n",
      "Hello 786\n",
      "Hello 787\n",
      "Hello 788\n",
      "Hello 789\n",
      "Hello 790\n",
      "Hello 791\n",
      "Hello 792\n",
      "Hello 793\n",
      "Hello 794\n",
      "Hello 795\n",
      "Hello 796\n",
      "Hello 797\n",
      "Hello 798\n",
      "Hello 799\n",
      "Hello 800\n",
      "Hello 801\n",
      "Hello 802\n",
      "Hello 803\n",
      "Hello 804\n",
      "Hello 805\n",
      "Hello 806\n",
      "Hello 807\n",
      "Hello 808\n",
      "Hello 809\n",
      "Hello 810\n",
      "Hello 811\n",
      "Hello 812\n",
      "Hello 813\n",
      "Hello 814\n",
      "Hello 815\n",
      "Hello 816\n",
      "Hello 817\n",
      "Hello 818\n",
      "Hello 819\n",
      "Hello 820\n",
      "Hello 821\n",
      "Hello 822\n",
      "Hello 823\n",
      "Hello 824\n",
      "Hello 825\n",
      "Hello 826\n",
      "Hello 827\n",
      "Hello 828\n",
      "Hello 829\n",
      "Hello 830\n",
      "Hello 831\n",
      "Hello 832\n",
      "Hello 833\n",
      "Hello 834\n",
      "Hello 835\n",
      "Hello 836\n",
      "Hello 837\n",
      "Hello 838\n",
      "Hello 839\n",
      "Hello 840\n",
      "Hello 841\n",
      "Hello 842\n",
      "Hello 843\n",
      "Hello 844\n",
      "Hello 845\n",
      "Hello 846\n",
      "Hello 847\n",
      "Hello 848\n",
      "Hello 849\n",
      "Hello 850\n",
      "Hello 851\n",
      "Hello 852\n",
      "Hello 853\n",
      "Hello 854\n",
      "Hello 855\n",
      "Hello 856\n",
      "Hello 857\n",
      "Hello 858\n",
      "Hello 859\n",
      "Hello 860\n",
      "Hello 861\n",
      "Hello 862\n",
      "Hello 863\n",
      "Hello 864\n",
      "Hello 865\n",
      "Hello 866\n",
      "Hello 867\n",
      "Hello 868\n",
      "Hello 869\n",
      "Hello 870\n",
      "Hello 871\n",
      "Hello 872\n",
      "Hello 873\n",
      "Hello 874\n",
      "Hello 875\n",
      "Hello 876\n",
      "Hello 877\n",
      "Hello 878\n",
      "Hello 879\n",
      "Hello 880\n",
      "Hello 881\n",
      "Hello 882\n",
      "Hello 883\n",
      "Hello 884\n",
      "Hello 885\n",
      "Hello 886\n",
      "Hello 887\n",
      "Hello 888\n",
      "Hello 889\n",
      "Hello 890\n",
      "Hello 891\n",
      "Hello 892\n",
      "Hello 893\n",
      "Hello 894\n",
      "Hello 895\n",
      "Hello 896\n",
      "Hello 897\n",
      "Hello 898\n",
      "Hello 899\n",
      "Hello 900\n",
      "Hello 901\n",
      "Hello 902\n",
      "Hello 903\n",
      "Hello 904\n",
      "Hello 905\n",
      "Hello 906\n",
      "Hello 907\n",
      "Hello 908\n",
      "Hello 909\n",
      "Hello 910\n",
      "Hello 911\n",
      "Hello 912\n",
      "Hello 913\n",
      "Hello 914\n",
      "Hello 915\n",
      "Hello 916\n",
      "Hello 917\n",
      "Hello 918\n",
      "Hello 919\n",
      "Hello 920\n",
      "Hello 921\n",
      "Hello 922\n",
      "Hello 923\n",
      "Hello 924\n",
      "Hello 925\n",
      "Hello 926\n",
      "Hello 927\n",
      "Hello 928\n",
      "Hello 929\n",
      "Hello 930\n",
      "Hello 931\n",
      "Hello 932\n",
      "Hello 933\n",
      "Hello 934\n",
      "Hello 935\n",
      "Hello 936\n",
      "Hello 937\n",
      "Hello 938\n",
      "Hello 939\n",
      "Hello 940\n",
      "Hello 941\n",
      "Hello 942\n",
      "Hello 943\n",
      "Hello 944\n",
      "Hello 945\n",
      "Hello 946\n",
      "Hello 947\n",
      "Hello 948\n",
      "Hello 949\n",
      "Hello 950\n",
      "Hello 951\n",
      "Hello 952\n",
      "Hello 953\n",
      "Hello 954\n",
      "Hello 955\n",
      "Hello 956\n",
      "Hello 957\n",
      "Hello 958\n",
      "Hello 959\n",
      "Hello 960\n",
      "Hello 961\n",
      "Hello 962\n",
      "Hello 963\n",
      "Hello 964\n",
      "Hello 965\n",
      "Hello 966\n",
      "Hello 967\n",
      "Hello 968\n",
      "Hello 969\n",
      "Hello 970\n",
      "Hello 971\n",
      "Hello 972\n",
      "Hello 973\n",
      "Hello 974\n",
      "Hello 975\n",
      "Hello 976\n",
      "Hello 977\n",
      "Hello 978\n",
      "Hello 979\n",
      "Hello 980\n",
      "Hello 981\n",
      "Hello 982\n",
      "Hello 983\n",
      "Hello 984\n",
      "Hello 985\n",
      "Hello 986\n",
      "Hello 987\n",
      "Hello 988\n",
      "Hello 989\n",
      "Hello 990\n",
      "Hello 991\n",
      "Hello 992\n",
      "Hello 993\n",
      "Hello 994\n",
      "Hello 995\n",
      "Hello 996\n",
      "Hello 997\n",
      "Hello 998\n",
      "Hello 999\n",
      "Hello 1000\n",
      "Hello 1001\n",
      "Hello 1002\n",
      "Hello 1003\n",
      "Hello 1004\n",
      "Hello 1005\n",
      "Hello 1006\n",
      "Hello 1007\n",
      "Hello 1008\n",
      "Hello 1009\n",
      "Hello 1010\n",
      "Hello 1011\n",
      "Hello 1012\n",
      "Hello 1013\n",
      "Hello 1014\n",
      "Hello 1015\n",
      "Hello 1016\n",
      "Hello 1017\n",
      "Hello 1018\n",
      "Hello 1019\n",
      "Hello 1020\n",
      "Hello 1021\n",
      "Hello 1022\n",
      "Hello 1023\n",
      "Hello 1024\n",
      "Hello 1025\n",
      "Hello 1026\n",
      "Hello 1027\n",
      "Hello 1028\n",
      "Hello 1029\n",
      "Hello 1030\n",
      "Hello 1031\n",
      "Hello 1032\n",
      "Hello 1033\n",
      "Hello 1034\n",
      "Hello 1035\n",
      "Hello 1036\n",
      "Hello 1037\n",
      "Hello 1038\n",
      "Hello 1039\n",
      "Hello 1040\n",
      "Hello 1041\n",
      "Hello 1042\n",
      "Hello 1043\n",
      "Hello 1044\n",
      "Hello 1045\n",
      "Hello 1046\n",
      "Hello 1047\n",
      "Hello 1048\n",
      "Hello 1049\n",
      "Hello 1050\n",
      "Hello 1051\n",
      "Hello 1052\n",
      "Hello 1053\n",
      "Hello 1054\n",
      "Hello 1055\n",
      "Hello 1056\n",
      "Hello 1057\n",
      "Hello 1058\n",
      "Hello 1059\n",
      "Hello 1060\n",
      "Hello 1061\n",
      "Hello 1062\n",
      "Hello 1063\n",
      "Hello 1064\n",
      "Hello 1065\n",
      "Hello 1066\n",
      "Hello 1067\n",
      "Hello 1068\n",
      "Hello 1069\n",
      "Hello 1070\n",
      "Hello 1071\n",
      "Hello 1072\n",
      "Hello 1073\n",
      "Hello 1074\n",
      "Hello 1075\n",
      "Hello 1076\n",
      "Hello 1077\n",
      "Hello 1078\n",
      "Hello 1079\n",
      "Hello 1080\n",
      "Hello 1081\n",
      "Hello 1082\n",
      "Hello 1083\n",
      "Hello 1084\n",
      "Hello 1085\n",
      "Hello 1086\n",
      "Hello 1087\n",
      "Hello 1088\n",
      "Hello 1089\n",
      "Hello 1090\n",
      "Hello 1091\n",
      "Hello 1092\n",
      "Hello 1093\n",
      "Hello 1094\n",
      "Hello 1095\n",
      "Hello 1096\n",
      "Hello 1097\n",
      "Hello 1098\n",
      "Hello 1099\n",
      "Hello 1100\n",
      "Hello 1101\n",
      "Hello 1102\n",
      "Hello 1103\n",
      "Hello 1104\n",
      "Hello 1105\n",
      "Hello 1106\n",
      "Hello 1107\n",
      "Hello 1108\n",
      "Hello 1109\n",
      "Hello 1110\n",
      "Hello 1111\n",
      "Hello 1112\n",
      "Hello 1113\n",
      "Hello 1114\n",
      "Hello 1115\n",
      "Hello 1116\n",
      "Hello 1117\n",
      "Hello 1118\n",
      "Hello 1119\n",
      "Hello 1120\n",
      "Hello 1121\n",
      "Hello 1122\n",
      "Hello 1123\n",
      "Hello 1124\n",
      "Hello 1125\n",
      "Hello 1126\n",
      "Hello 1127\n",
      "Hello 1128\n",
      "Hello 1129\n",
      "Hello 1130\n",
      "Hello 1131\n",
      "Hello 1132\n",
      "Hello 1133\n",
      "Hello 1134\n",
      "Hello 1135\n",
      "Hello 1136\n",
      "Hello 1137\n",
      "Hello 1138\n",
      "Hello 1139\n",
      "Hello 1140\n",
      "Hello 1141\n",
      "Hello 1142\n",
      "Hello 1143\n",
      "Hello 1144\n",
      "Hello 1145\n",
      "Hello 1146\n",
      "Hello 1147\n",
      "Hello 1148\n",
      "Hello 1149\n",
      "Hello 1150\n",
      "Hello 1151\n",
      "Hello 1152\n",
      "Hello 1153\n",
      "Hello 1154\n",
      "Hello 1155\n",
      "Hello 1156\n",
      "Hello 1157\n",
      "Hello 1158\n",
      "Hello 1159\n",
      "Hello 1160\n",
      "Hello 1161\n",
      "Hello 1162\n",
      "Hello 1163\n",
      "Hello 1164\n",
      "Hello 1165\n",
      "Hello 1166\n",
      "Hello 1167\n",
      "Hello 1168\n",
      "Hello 1169\n",
      "Hello 1170\n",
      "Hello 1171\n",
      "Hello 1172\n",
      "Hello 1173\n",
      "Hello 1174\n",
      "Hello 1175\n",
      "Hello 1176\n",
      "Hello 1177\n",
      "Hello 1178\n",
      "Hello 1179\n",
      "Hello 1180\n",
      "Hello 1181\n",
      "Hello 1182\n",
      "Hello 1183\n",
      "Hello 1184\n",
      "Hello 1185\n",
      "Hello 1186\n",
      "Hello 1187\n",
      "Hello 1188\n",
      "Hello 1189\n",
      "Hello 1190\n",
      "Hello 1191\n",
      "Hello 1192\n",
      "Hello 1193\n",
      "Hello 1194\n",
      "Hello 1195\n",
      "Hello 1196\n",
      "Hello 1197\n",
      "Hello 1198\n",
      "Hello 1199\n",
      "Hello 1200\n",
      "Hello 1201\n",
      "Hello 1202\n",
      "Hello 1203\n",
      "Hello 1204\n",
      "Hello 1205\n",
      "Hello 1206\n",
      "Hello 1207\n",
      "Hello 1208\n",
      "Hello 1209\n",
      "Hello 1210\n",
      "Hello 1211\n",
      "Hello 1212\n",
      "Hello 1213\n",
      "Hello 1214\n",
      "Hello 1215\n",
      "Hello 1216\n",
      "Hello 1217\n",
      "Hello 1218\n",
      "Hello 1219\n",
      "Hello 1220\n",
      "Hello 1221\n",
      "Hello 1222\n",
      "Hello 1223\n",
      "Hello 1224\n",
      "Hello 1225\n",
      "Hello 1226\n",
      "Hello 1227\n",
      "Hello 1228\n",
      "Hello 1229\n",
      "Hello 1230\n",
      "Hello 1231\n",
      "Hello 1232\n",
      "Hello 1233\n",
      "Hello 1234\n",
      "Hello 1235\n",
      "Hello 1236\n",
      "Hello 1237\n",
      "Hello 1238\n",
      "Hello 1239\n",
      "Hello 1240\n",
      "Hello 1241\n",
      "Hello 1242\n",
      "Hello 1243\n",
      "Hello 1244\n",
      "Hello 1245\n",
      "Hello 1246\n",
      "Hello 1247\n",
      "Hello 1248\n",
      "Hello 1249\n",
      "Hello 1250\n",
      "Hello 1251\n",
      "Hello 1252\n",
      "Hello 1253\n",
      "Hello 1254\n",
      "Hello 1255\n",
      "Hello 1256\n",
      "Hello 1257\n",
      "Hello 1258\n",
      "Hello 1259\n",
      "Hello 1260\n",
      "Hello 1261\n",
      "Hello 1262\n",
      "Hello 1263\n",
      "Hello 1264\n",
      "Hello 1265\n",
      "Hello 1266\n",
      "Hello 1267\n",
      "Hello 1268\n",
      "Hello 1269\n",
      "Hello 1270\n",
      "Hello 1271\n",
      "Hello 1272\n",
      "Hello 1273\n",
      "Hello 1274\n",
      "Hello 1275\n",
      "Hello 1276\n",
      "Hello 1277\n",
      "Hello 1278\n",
      "Hello 1279\n",
      "Hello 1280\n",
      "Hello 1281\n",
      "Hello 1282\n",
      "Hello 1283\n",
      "Hello 1284\n",
      "Hello 1285\n",
      "Hello 1286\n",
      "Hello 1287\n",
      "Hello 1288\n",
      "Hello 1289\n",
      "Hello 1290\n",
      "Hello 1291\n",
      "Hello 1292\n",
      "Hello 1293\n",
      "Hello 1294\n",
      "Hello 1295\n",
      "Hello 1296\n",
      "Hello 1297\n",
      "Hello 1298\n",
      "Hello 1299\n",
      "Hello 1300\n",
      "Hello 1301\n",
      "Hello 1302\n",
      "Hello 1303\n",
      "Hello 1304\n",
      "Hello 1305\n",
      "Hello 1306\n",
      "Hello 1307\n",
      "Hello 1308\n",
      "Hello 1309\n",
      "Hello 1310\n",
      "Hello 1311\n",
      "Hello 1312\n",
      "Hello 1313\n",
      "Hello 1314\n",
      "Hello 1315\n",
      "Hello 1316\n",
      "Hello 1317\n",
      "Hello 1318\n",
      "Hello 1319\n",
      "Hello 1320\n",
      "Hello 1321\n",
      "Hello 1322\n",
      "Hello 1323\n",
      "Hello 1324\n",
      "Hello 1325\n",
      "Hello 1326\n",
      "Hello 1327\n",
      "Hello 1328\n",
      "Hello 1329\n",
      "Hello 1330\n",
      "Hello 1331\n",
      "Hello 1332\n",
      "Hello 1333\n",
      "Hello 1334\n",
      "Hello 1335\n",
      "Hello 1336\n",
      "Hello 1337\n",
      "Hello 1338\n",
      "Hello 1339\n",
      "Hello 1340\n",
      "Hello 1341\n",
      "Hello 1342\n",
      "Hello 1343\n",
      "Hello 1344\n",
      "Hello 1345\n",
      "Hello 1346\n",
      "Hello 1347\n",
      "Hello 1348\n",
      "Hello 1349\n",
      "Hello 1350\n",
      "Hello 1351\n",
      "Hello 1352\n",
      "Hello 1353\n",
      "Hello 1354\n",
      "Hello 1355\n",
      "Hello 1356\n",
      "Hello 1357\n",
      "Hello 1358\n",
      "Hello 1359\n",
      "Hello 1360\n",
      "Hello 1361\n",
      "Hello 1362\n",
      "Hello 1363\n",
      "Hello 1364\n",
      "Hello 1365\n",
      "Hello 1366\n",
      "Hello 1367\n",
      "Hello 1368\n",
      "Hello 1369\n",
      "Hello 1370\n",
      "Hello 1371\n",
      "Hello 1372\n",
      "Hello 1373\n",
      "Hello 1374\n",
      "Hello 1375\n",
      "Hello 1376\n",
      "Hello 1377\n",
      "Hello 1378\n",
      "Hello 1379\n",
      "Hello 1380\n",
      "Hello 1381\n",
      "Hello 1382\n",
      "Hello 1383\n",
      "Hello 1384\n",
      "Hello 1385\n",
      "Hello 1386\n",
      "Hello 1387\n",
      "Hello 1388\n",
      "Hello 1389\n",
      "Hello 1390\n",
      "Hello 1391\n",
      "Hello 1392\n",
      "Hello 1393\n",
      "Hello 1394\n",
      "Hello 1395\n",
      "Hello 1396\n",
      "Hello 1397\n",
      "Hello 1398\n",
      "Hello 1399\n",
      "Hello 1400\n",
      "Hello 1401\n",
      "Hello 1402\n",
      "Hello 1403\n",
      "Hello 1404\n",
      "Hello 1405\n",
      "Hello 1406\n",
      "Hello 1407\n",
      "Hello 1408\n",
      "Hello 1409\n",
      "Hello 1410\n",
      "Hello 1411\n",
      "Hello 1412\n",
      "Hello 1413\n",
      "Hello 1414\n",
      "Hello 1415\n",
      "Hello 1416\n",
      "Hello 1417\n",
      "Hello 1418\n",
      "Hello 1419\n",
      "Hello 1420\n",
      "Hello 1421\n",
      "Hello 1422\n",
      "Hello 1423\n",
      "Hello 1424\n",
      "Hello 1425\n",
      "Hello 1426\n",
      "Hello 1427\n",
      "Hello 1428\n",
      "Hello 1429\n",
      "Hello 1430\n",
      "Hello 1431\n",
      "Hello 1432\n",
      "Hello 1433\n",
      "Hello 1434\n",
      "Hello 1435\n",
      "Hello 1436\n",
      "Hello 1437\n",
      "Hello 1438\n",
      "Hello 1439\n",
      "Hello 1440\n",
      "Hello 1441\n",
      "Hello 1442\n",
      "Hello 1443\n",
      "Hello 1444\n",
      "Hello 1445\n",
      "Hello 1446\n",
      "Hello 1447\n",
      "Hello 1448\n",
      "Hello 1449\n",
      "Hello 1450\n",
      "Hello 1451\n",
      "Hello 1452\n",
      "Hello 1453\n",
      "Hello 1454\n",
      "Hello 1455\n",
      "Hello 1456\n",
      "Hello 1457\n",
      "Hello 1458\n",
      "Hello 1459\n",
      "Hello 1460\n",
      "Hello 1461\n",
      "Hello 1462\n",
      "Hello 1463\n",
      "Hello 1464\n",
      "Hello 1465\n",
      "Hello 1466\n",
      "Hello 1467\n",
      "Hello 1468\n",
      "Hello 1469\n",
      "Hello 1470\n",
      "Hello 1471\n",
      "Hello 1472\n",
      "Hello 1473\n",
      "Hello 1474\n",
      "Hello 1475\n",
      "Hello 1476\n",
      "Hello 1477\n",
      "Hello 1478\n",
      "Hello 1479\n",
      "Hello 1480\n",
      "Hello 1481\n",
      "Hello 1482\n",
      "Hello 1483\n",
      "Hello 1484\n",
      "Hello 1485\n",
      "Hello 1486\n",
      "Hello 1487\n",
      "Hello 1488\n",
      "Hello 1489\n",
      "Hello 1490\n",
      "Hello 1491\n",
      "Hello 1492\n",
      "Hello 1493\n",
      "Hello 1494\n",
      "Hello 1495\n",
      "Hello 1496\n",
      "Hello 1497\n",
      "Hello 1498\n",
      "Hello 1499\n",
      "Hello 1500\n",
      "Hello 1501\n",
      "Hello 1502\n",
      "Hello 1503\n",
      "Hello 1504\n",
      "Hello 1505\n",
      "Hello 1506\n",
      "Hello 1507\n",
      "Hello 1508\n",
      "Hello 1509\n",
      "Hello 1510\n",
      "Hello 1511\n",
      "Hello 1512\n",
      "Hello 1513\n",
      "Hello 1514\n",
      "Hello 1515\n",
      "Hello 1516\n",
      "Hello 1517\n",
      "Hello 1518\n",
      "Hello 1519\n",
      "Hello 1520\n",
      "Hello 1521\n",
      "Hello 1522\n",
      "Hello 1523\n",
      "Hello 1524\n",
      "Hello 1525\n",
      "Hello 1526\n",
      "Hello 1527\n",
      "Hello 1528\n",
      "Hello 1529\n",
      "Hello 1530\n",
      "Hello 1531\n",
      "Hello 1532\n",
      "Hello 1533\n",
      "Hello 1534\n",
      "Hello 1535\n",
      "Hello 1536\n",
      "Hello 1537\n",
      "Hello 1538\n",
      "Hello 1539\n",
      "Hello 1540\n",
      "Hello 1541\n",
      "Hello 1542\n",
      "Hello 1543\n",
      "Hello 1544\n",
      "Hello 1545\n",
      "Hello 1546\n",
      "Hello 1547\n",
      "Hello 1548\n",
      "Hello 1549\n",
      "Hello 1550\n",
      "Hello 1551\n",
      "Hello 1552\n",
      "Hello 1553\n",
      "Hello 1554\n",
      "Hello 1555\n",
      "Hello 1556\n",
      "Hello 1557\n",
      "Hello 1558\n",
      "Hello 1559\n",
      "Hello 1560\n",
      "Hello 1561\n",
      "Hello 1562\n",
      "Hello 1563\n",
      "Hello 1564\n",
      "Hello 1565\n",
      "Hello 1566\n",
      "Hello 1567\n",
      "Hello 1568\n",
      "Hello 1569\n",
      "Hello 1570\n",
      "Hello 1571\n",
      "Hello 1572\n",
      "Hello 1573\n",
      "Hello 1574\n",
      "Hello 1575\n",
      "Hello 1576\n",
      "Hello 1577\n",
      "Hello 1578\n",
      "Hello 1579\n",
      "Hello 1580\n",
      "Hello 1581\n",
      "Hello 1582\n",
      "Hello 1583\n",
      "Hello 1584\n",
      "Hello 1585\n",
      "Hello 1586\n",
      "Hello 1587\n",
      "Hello 1588\n",
      "Hello 1589\n",
      "Hello 1590\n",
      "Hello 1591\n",
      "Hello 1592\n",
      "Hello 1593\n",
      "Hello 1594\n",
      "Hello 1595\n",
      "Hello 1596\n",
      "Hello 1597\n",
      "Hello 1598\n",
      "Hello 1599\n",
      "Hello 1600\n",
      "Hello 1601\n",
      "Hello 1602\n",
      "Hello 1603\n",
      "Hello 1604\n",
      "Hello 1605\n",
      "Hello 1606\n",
      "Hello 1607\n",
      "Hello 1608\n",
      "Hello 1609\n",
      "Hello 1610\n",
      "Hello 1611\n",
      "Hello 1612\n",
      "Hello 1613\n",
      "Hello 1614\n",
      "Hello 1615\n",
      "Hello 1616\n",
      "Hello 1617\n",
      "Hello 1618\n",
      "Hello 1619\n",
      "Hello 1620\n",
      "Hello 1621\n",
      "Hello 1622\n",
      "Hello 1623\n",
      "Hello 1624\n",
      "Hello 1625\n",
      "Hello 1626\n",
      "Hello 1627\n",
      "Hello 1628\n",
      "Hello 1629\n",
      "Hello 1630\n",
      "Hello 1631\n",
      "Hello 1632\n",
      "Hello 1633\n",
      "Hello 1634\n",
      "Hello 1635\n",
      "Hello 1636\n",
      "Hello 1637\n",
      "Hello 1638\n",
      "Hello 1639\n",
      "Hello 1640\n",
      "Hello 1641\n",
      "Hello 1642\n",
      "Hello 1643\n",
      "Hello 1644\n",
      "Hello 1645\n",
      "Hello 1646\n",
      "Hello 1647\n",
      "Hello 1648\n",
      "Hello 1649\n",
      "Hello 1650\n",
      "Hello 1651\n",
      "Hello 1652\n",
      "Hello 1653\n",
      "Hello 1654\n",
      "Hello 1655\n",
      "Hello 1656\n",
      "Hello 1657\n",
      "Hello 1658\n",
      "Hello 1659\n",
      "Hello 1660\n",
      "Hello 1661\n",
      "Hello 1662\n",
      "Hello 1663\n",
      "Hello 1664\n",
      "Hello 1665\n",
      "Hello 1666\n",
      "Hello 1667\n",
      "Hello 1668\n",
      "Hello 1669\n",
      "Hello 1670\n",
      "Hello 1671\n",
      "Hello 1672\n",
      "Hello 1673\n",
      "Hello 1674\n",
      "Hello 1675\n",
      "Hello 1676\n",
      "Hello 1677\n",
      "Hello 1678\n",
      "Hello 1679\n",
      "Hello 1680\n",
      "Hello 1681\n",
      "Hello 1682\n",
      "Hello 1683\n",
      "Hello 1684\n",
      "Hello 1685\n",
      "Hello 1686\n",
      "Hello 1687\n",
      "Hello 1688\n",
      "Hello 1689\n",
      "Hello 1690\n",
      "Hello 1691\n",
      "Hello 1692\n",
      "Hello 1693\n",
      "Hello 1694\n",
      "Hello 1695\n",
      "Hello 1696\n",
      "Hello 1697\n",
      "Hello 1698\n",
      "Hello 1699\n",
      "Hello 1700\n",
      "Hello 1701\n",
      "Hello 1702\n",
      "Hello 1703\n",
      "Hello 1704\n",
      "Hello 1705\n",
      "Hello 1706\n",
      "Hello 1707\n",
      "Hello 1708\n",
      "Hello 1709\n",
      "Hello 1710\n",
      "Hello 1711\n",
      "Hello 1712\n",
      "Hello 1713\n",
      "Hello 1714\n",
      "Hello 1715\n",
      "Hello 1716\n",
      "Hello 1717\n",
      "Hello 1718\n",
      "Hello 1719\n",
      "Hello 1720\n",
      "Hello 1721\n",
      "Hello 1722\n",
      "Hello 1723\n",
      "Hello 1724\n",
      "Hello 1725\n",
      "Hello 1726\n",
      "Hello 1727\n",
      "Hello 1728\n",
      "Hello 1729\n",
      "Hello 1730\n",
      "Hello 1731\n",
      "Hello 1732\n",
      "Hello 1733\n",
      "Hello 1734\n",
      "Hello 1735\n",
      "Hello 1736\n",
      "Hello 1737\n",
      "Hello 1738\n",
      "Hello 1739\n",
      "Hello 1740\n",
      "Hello 1741\n",
      "Hello 1742\n",
      "Hello 1743\n",
      "Hello 1744\n",
      "Hello 1745\n",
      "Hello 1746\n",
      "Hello 1747\n",
      "Hello 1748\n",
      "Hello 1749\n",
      "Hello 1750\n",
      "Hello 1751\n",
      "Hello 1752\n",
      "Hello 1753\n",
      "Hello 1754\n",
      "Hello 1755\n",
      "Hello 1756\n",
      "Hello 1757\n",
      "Hello 1758\n",
      "Hello 1759\n",
      "Hello 1760\n",
      "Hello 1761\n",
      "Hello 1762\n",
      "Hello 1763\n",
      "Hello 1764\n",
      "Hello 1765\n",
      "Hello 1766\n",
      "Hello 1767\n",
      "Hello 1768\n",
      "Hello 1769\n",
      "Hello 1770\n",
      "Hello 1771\n",
      "Hello 1772\n",
      "Hello 1773\n",
      "Hello 1774\n",
      "Hello 1775\n",
      "Hello 1776\n",
      "Hello 1777\n",
      "Hello 1778\n",
      "Hello 1779\n",
      "Hello 1780\n",
      "Hello 1781\n",
      "Hello 1782\n",
      "Hello 1783\n",
      "Hello 1784\n",
      "Hello 1785\n",
      "Hello 1786\n",
      "Hello 1787\n",
      "Hello 1788\n",
      "Hello 1789\n",
      "Hello 1790\n",
      "Hello 1791\n",
      "Hello 1792\n",
      "Hello 1793\n",
      "Hello 1794\n",
      "Hello 1795\n",
      "Hello 1796\n",
      "Hello 1797\n",
      "Hello 1798\n",
      "Hello 1799\n",
      "Hello 1800\n",
      "Hello 1801\n",
      "Hello 1802\n",
      "Hello 1803\n",
      "Hello 1804\n",
      "Hello 1805\n",
      "Hello 1806\n",
      "Hello 1807\n",
      "Hello 1808\n",
      "Hello 1809\n",
      "Hello 1810\n",
      "Hello 1811\n",
      "Hello 1812\n",
      "Hello 1813\n",
      "Hello 1814\n",
      "Hello 1815\n",
      "Hello 1816\n",
      "Hello 1817\n",
      "Hello 1818\n",
      "Hello 1819\n",
      "Hello 1820\n",
      "Hello 1821\n",
      "Hello 1822\n",
      "Hello 1823\n",
      "Hello 1824\n",
      "Hello 1825\n",
      "Hello 1826\n",
      "Hello 1827\n",
      "Hello 1828\n",
      "Hello 1829\n",
      "Hello 1830\n",
      "Hello 1831\n",
      "Hello 1832\n",
      "Hello 1833\n",
      "Hello 1834\n",
      "Hello 1835\n",
      "Hello 1836\n",
      "Hello 1837\n",
      "Hello 1838\n",
      "Hello 1839\n",
      "Hello 1840\n",
      "Hello 1841\n",
      "Hello 1842\n",
      "Hello 1843\n",
      "Hello 1844\n",
      "Hello 1845\n",
      "Hello 1846\n",
      "Hello 1847\n",
      "Hello 1848\n",
      "Hello 1849\n",
      "Hello 1850\n",
      "Hello 1851\n",
      "Hello 1852\n",
      "Hello 1853\n",
      "Hello 1854\n",
      "Hello 1855\n",
      "Hello 1856\n",
      "Hello 1857\n",
      "Hello 1858\n",
      "Hello 1859\n",
      "Hello 1860\n",
      "Hello 1861\n",
      "Hello 1862\n",
      "Hello 1863\n",
      "Hello 1864\n",
      "Hello 1865\n",
      "Hello 1866\n",
      "Hello 1867\n",
      "Hello 1868\n",
      "Hello 1869\n",
      "Hello 1870\n",
      "Hello 1871\n",
      "Hello 1872\n",
      "Hello 1873\n",
      "Hello 1874\n",
      "Hello 1875\n",
      "Hello 1876\n",
      "Hello 1877\n",
      "Hello 1878\n",
      "Hello 1879\n",
      "Hello 1880\n",
      "Hello 1881\n",
      "Hello 1882\n",
      "Hello 1883\n",
      "Hello 1884\n",
      "Hello 1885\n",
      "Hello 1886\n",
      "Hello 1887\n",
      "Hello 1888\n",
      "Hello 1889\n",
      "Hello 1890\n",
      "Hello 1891\n",
      "Hello 1892\n",
      "Hello 1893\n",
      "Hello 1894\n",
      "Hello 1895\n",
      "Hello 1896\n",
      "Hello 1897\n",
      "Hello 1898\n",
      "Hello 1899\n",
      "Hello 1900\n",
      "Hello 1901\n",
      "Hello 1902\n",
      "Hello 1903\n",
      "Hello 1904\n",
      "Hello 1905\n",
      "Hello 1906\n",
      "Hello 1907\n",
      "Hello 1908\n",
      "Hello 1909\n",
      "Hello 1910\n",
      "Hello 1911\n",
      "Hello 1912\n",
      "Hello 1913\n",
      "Hello 1914\n",
      "Hello 1915\n",
      "Hello 1916\n",
      "Hello 1917\n",
      "Hello 1918\n",
      "Hello 1919\n",
      "Hello 1920\n",
      "Hello 1921\n",
      "Hello 1922\n",
      "Hello 1923\n",
      "Hello 1924\n",
      "Hello 1925\n",
      "Hello 1926\n",
      "Hello 1927\n",
      "Hello 1928\n",
      "Hello 1929\n",
      "Hello 1930\n",
      "Hello 1931\n",
      "Hello 1932\n",
      "Hello 1933\n",
      "Hello 1934\n",
      "Hello 1935\n",
      "Hello 1936\n",
      "Hello 1937\n",
      "Hello 1938\n",
      "Hello 1939\n",
      "Hello 1940\n",
      "Hello 1941\n",
      "Hello 1942\n",
      "Hello 1943\n",
      "Hello 1944\n",
      "Hello 1945\n",
      "Hello 1946\n",
      "Hello 1947\n",
      "Hello 1948\n",
      "Hello 1949\n",
      "Hello 1950\n",
      "Hello 1951\n",
      "Hello 1952\n",
      "Hello 1953\n",
      "Hello 1954\n",
      "Hello 1955\n",
      "Hello 1956\n",
      "Hello 1957\n",
      "Hello 1958\n",
      "Hello 1959\n",
      "Hello 1960\n",
      "Hello 1961\n",
      "Hello 1962\n",
      "Hello 1963\n",
      "Hello 1964\n",
      "Hello 1965\n",
      "Hello 1966\n",
      "Hello 1967\n"
     ]
    },
    {
     "ename": "RecursionError",
     "evalue": "maximum recursion depth exceeded while calling a Python object",
     "output_type": "error",
     "traceback": [
      "\u001b[1;31m---------------------------------------------------------------------------\u001b[0m",
      "\u001b[1;31mRecursionError\u001b[0m                            Traceback (most recent call last)",
      "File \u001b[1;32m~\\anaconda\\lib\\threading.py:1073\u001b[0m, in \u001b[0;36mThread._wait_for_tstate_lock\u001b[1;34m(self, block, timeout)\u001b[0m\n\u001b[0;32m   1072\u001b[0m \u001b[38;5;28;01mtry\u001b[39;00m:\n\u001b[1;32m-> 1073\u001b[0m     \u001b[38;5;28;01mif\u001b[39;00m \u001b[43mlock\u001b[49m\u001b[38;5;241;43m.\u001b[39;49m\u001b[43macquire\u001b[49m\u001b[43m(\u001b[49m\u001b[43mblock\u001b[49m\u001b[43m,\u001b[49m\u001b[43m \u001b[49m\u001b[43mtimeout\u001b[49m\u001b[43m)\u001b[49m:\n\u001b[0;32m   1074\u001b[0m         lock\u001b[38;5;241m.\u001b[39mrelease()\n",
      "\u001b[1;31mRecursionError\u001b[0m: maximum recursion depth exceeded while calling a Python object",
      "\nDuring handling of the above exception, another exception occurred:\n",
      "\u001b[1;31mRecursionError\u001b[0m                            Traceback (most recent call last)",
      "Input \u001b[1;32mIn [7]\u001b[0m, in \u001b[0;36m<cell line: 10>\u001b[1;34m()\u001b[0m\n\u001b[0;32m      8\u001b[0m     \u001b[38;5;28mprint\u001b[39m(\u001b[38;5;124m\"\u001b[39m\u001b[38;5;124mHello\u001b[39m\u001b[38;5;124m\"\u001b[39m,i)\n\u001b[0;32m      9\u001b[0m     greet()\n\u001b[1;32m---> 10\u001b[0m \u001b[43mgreet\u001b[49m\u001b[43m(\u001b[49m\u001b[43m)\u001b[49m\n",
      "Input \u001b[1;32mIn [7]\u001b[0m, in \u001b[0;36mgreet\u001b[1;34m()\u001b[0m\n\u001b[0;32m      7\u001b[0m i\u001b[38;5;241m+\u001b[39m\u001b[38;5;241m=\u001b[39m\u001b[38;5;241m1\u001b[39m\n\u001b[0;32m      8\u001b[0m \u001b[38;5;28mprint\u001b[39m(\u001b[38;5;124m\"\u001b[39m\u001b[38;5;124mHello\u001b[39m\u001b[38;5;124m\"\u001b[39m,i)\n\u001b[1;32m----> 9\u001b[0m \u001b[43mgreet\u001b[49m\u001b[43m(\u001b[49m\u001b[43m)\u001b[49m\n",
      "Input \u001b[1;32mIn [7]\u001b[0m, in \u001b[0;36mgreet\u001b[1;34m()\u001b[0m\n\u001b[0;32m      7\u001b[0m i\u001b[38;5;241m+\u001b[39m\u001b[38;5;241m=\u001b[39m\u001b[38;5;241m1\u001b[39m\n\u001b[0;32m      8\u001b[0m \u001b[38;5;28mprint\u001b[39m(\u001b[38;5;124m\"\u001b[39m\u001b[38;5;124mHello\u001b[39m\u001b[38;5;124m\"\u001b[39m,i)\n\u001b[1;32m----> 9\u001b[0m \u001b[43mgreet\u001b[49m\u001b[43m(\u001b[49m\u001b[43m)\u001b[49m\n",
      "    \u001b[1;31m[... skipping similar frames: greet at line 9 (1964 times)]\u001b[0m\n",
      "Input \u001b[1;32mIn [7]\u001b[0m, in \u001b[0;36mgreet\u001b[1;34m()\u001b[0m\n\u001b[0;32m      7\u001b[0m i\u001b[38;5;241m+\u001b[39m\u001b[38;5;241m=\u001b[39m\u001b[38;5;241m1\u001b[39m\n\u001b[0;32m      8\u001b[0m \u001b[38;5;28mprint\u001b[39m(\u001b[38;5;124m\"\u001b[39m\u001b[38;5;124mHello\u001b[39m\u001b[38;5;124m\"\u001b[39m,i)\n\u001b[1;32m----> 9\u001b[0m \u001b[43mgreet\u001b[49m\u001b[43m(\u001b[49m\u001b[43m)\u001b[49m\n",
      "Input \u001b[1;32mIn [7]\u001b[0m, in \u001b[0;36mgreet\u001b[1;34m()\u001b[0m\n\u001b[0;32m      6\u001b[0m \u001b[38;5;28;01mglobal\u001b[39;00m i\n\u001b[0;32m      7\u001b[0m i\u001b[38;5;241m+\u001b[39m\u001b[38;5;241m=\u001b[39m\u001b[38;5;241m1\u001b[39m\n\u001b[1;32m----> 8\u001b[0m \u001b[38;5;28;43mprint\u001b[39;49m\u001b[43m(\u001b[49m\u001b[38;5;124;43m\"\u001b[39;49m\u001b[38;5;124;43mHello\u001b[39;49m\u001b[38;5;124;43m\"\u001b[39;49m\u001b[43m,\u001b[49m\u001b[43mi\u001b[49m\u001b[43m)\u001b[49m\n\u001b[0;32m      9\u001b[0m greet()\n",
      "File \u001b[1;32m~\\anaconda\\lib\\site-packages\\ipykernel\\iostream.py:531\u001b[0m, in \u001b[0;36mOutStream.write\u001b[1;34m(self, string)\u001b[0m\n\u001b[0;32m    529\u001b[0m is_child \u001b[38;5;241m=\u001b[39m (\u001b[38;5;129;01mnot\u001b[39;00m \u001b[38;5;28mself\u001b[39m\u001b[38;5;241m.\u001b[39m_is_master_process())\n\u001b[0;32m    530\u001b[0m \u001b[38;5;66;03m# only touch the buffer in the IO thread to avoid races\u001b[39;00m\n\u001b[1;32m--> 531\u001b[0m \u001b[38;5;28;43mself\u001b[39;49m\u001b[38;5;241;43m.\u001b[39;49m\u001b[43mpub_thread\u001b[49m\u001b[38;5;241;43m.\u001b[39;49m\u001b[43mschedule\u001b[49m\u001b[43m(\u001b[49m\u001b[38;5;28;43;01mlambda\u001b[39;49;00m\u001b[43m:\u001b[49m\u001b[43m \u001b[49m\u001b[38;5;28;43mself\u001b[39;49m\u001b[38;5;241;43m.\u001b[39;49m\u001b[43m_buffer\u001b[49m\u001b[38;5;241;43m.\u001b[39;49m\u001b[43mwrite\u001b[49m\u001b[43m(\u001b[49m\u001b[43mstring\u001b[49m\u001b[43m)\u001b[49m\u001b[43m)\u001b[49m\n\u001b[0;32m    532\u001b[0m \u001b[38;5;28;01mif\u001b[39;00m is_child:\n\u001b[0;32m    533\u001b[0m     \u001b[38;5;66;03m# mp.Pool cannot be trusted to flush promptly (or ever),\u001b[39;00m\n\u001b[0;32m    534\u001b[0m     \u001b[38;5;66;03m# and this helps.\u001b[39;00m\n\u001b[0;32m    535\u001b[0m     \u001b[38;5;28;01mif\u001b[39;00m \u001b[38;5;28mself\u001b[39m\u001b[38;5;241m.\u001b[39m_subprocess_flush_pending:\n",
      "File \u001b[1;32m~\\anaconda\\lib\\site-packages\\ipykernel\\iostream.py:213\u001b[0m, in \u001b[0;36mIOPubThread.schedule\u001b[1;34m(self, f)\u001b[0m\n\u001b[0;32m    208\u001b[0m \u001b[38;5;28;01mdef\u001b[39;00m \u001b[38;5;21mschedule\u001b[39m(\u001b[38;5;28mself\u001b[39m, f):\n\u001b[0;32m    209\u001b[0m     \u001b[38;5;124;03m\"\"\"Schedule a function to be called in our IO thread.\u001b[39;00m\n\u001b[0;32m    210\u001b[0m \n\u001b[0;32m    211\u001b[0m \u001b[38;5;124;03m    If the thread is not running, call immediately.\u001b[39;00m\n\u001b[0;32m    212\u001b[0m \u001b[38;5;124;03m    \"\"\"\u001b[39;00m\n\u001b[1;32m--> 213\u001b[0m     \u001b[38;5;28;01mif\u001b[39;00m \u001b[38;5;28;43mself\u001b[39;49m\u001b[38;5;241;43m.\u001b[39;49m\u001b[43mthread\u001b[49m\u001b[38;5;241;43m.\u001b[39;49m\u001b[43mis_alive\u001b[49m\u001b[43m(\u001b[49m\u001b[43m)\u001b[49m:\n\u001b[0;32m    214\u001b[0m         \u001b[38;5;28mself\u001b[39m\u001b[38;5;241m.\u001b[39m_events\u001b[38;5;241m.\u001b[39mappend(f)\n\u001b[0;32m    215\u001b[0m         \u001b[38;5;66;03m# wake event thread (message content is ignored)\u001b[39;00m\n",
      "File \u001b[1;32m~\\anaconda\\lib\\threading.py:1137\u001b[0m, in \u001b[0;36mThread.is_alive\u001b[1;34m(self)\u001b[0m\n\u001b[0;32m   1135\u001b[0m \u001b[38;5;28;01mif\u001b[39;00m \u001b[38;5;28mself\u001b[39m\u001b[38;5;241m.\u001b[39m_is_stopped \u001b[38;5;129;01mor\u001b[39;00m \u001b[38;5;129;01mnot\u001b[39;00m \u001b[38;5;28mself\u001b[39m\u001b[38;5;241m.\u001b[39m_started\u001b[38;5;241m.\u001b[39mis_set():\n\u001b[0;32m   1136\u001b[0m     \u001b[38;5;28;01mreturn\u001b[39;00m \u001b[38;5;28;01mFalse\u001b[39;00m\n\u001b[1;32m-> 1137\u001b[0m \u001b[38;5;28;43mself\u001b[39;49m\u001b[38;5;241;43m.\u001b[39;49m\u001b[43m_wait_for_tstate_lock\u001b[49m\u001b[43m(\u001b[49m\u001b[38;5;28;43;01mFalse\u001b[39;49;00m\u001b[43m)\u001b[49m\n\u001b[0;32m   1138\u001b[0m \u001b[38;5;28;01mreturn\u001b[39;00m \u001b[38;5;129;01mnot\u001b[39;00m \u001b[38;5;28mself\u001b[39m\u001b[38;5;241m.\u001b[39m_is_stopped\n",
      "File \u001b[1;32m~\\anaconda\\lib\\threading.py:1077\u001b[0m, in \u001b[0;36mThread._wait_for_tstate_lock\u001b[1;34m(self, block, timeout)\u001b[0m\n\u001b[0;32m   1075\u001b[0m         \u001b[38;5;28mself\u001b[39m\u001b[38;5;241m.\u001b[39m_stop()\n\u001b[0;32m   1076\u001b[0m \u001b[38;5;28;01mexcept\u001b[39;00m:\n\u001b[1;32m-> 1077\u001b[0m     \u001b[38;5;28;01mif\u001b[39;00m \u001b[43mlock\u001b[49m\u001b[38;5;241;43m.\u001b[39;49m\u001b[43mlocked\u001b[49m\u001b[43m(\u001b[49m\u001b[43m)\u001b[49m:\n\u001b[0;32m   1078\u001b[0m         \u001b[38;5;66;03m# bpo-45274: lock.acquire() acquired the lock, but the function\u001b[39;00m\n\u001b[0;32m   1079\u001b[0m         \u001b[38;5;66;03m# was interrupted with an exception before reaching the\u001b[39;00m\n\u001b[0;32m   1080\u001b[0m         \u001b[38;5;66;03m# lock.release(). It can happen if a signal handler raises an\u001b[39;00m\n\u001b[0;32m   1081\u001b[0m         \u001b[38;5;66;03m# exception, like CTRL+C which raises KeyboardInterrupt.\u001b[39;00m\n\u001b[0;32m   1082\u001b[0m         lock\u001b[38;5;241m.\u001b[39mrelease()\n\u001b[0;32m   1083\u001b[0m         \u001b[38;5;28mself\u001b[39m\u001b[38;5;241m.\u001b[39m_stop()\n",
      "\u001b[1;31mRecursionError\u001b[0m: maximum recursion depth exceeded while calling a Python object"
     ]
    }
   ],
   "source": [
    "import sys\n",
    "sys.setrecursionlimit(2000)\n",
    "print(sys.getrecursionlimit())\n",
    "i=0\n",
    "def greet():\n",
    "    global i\n",
    "    i+=1\n",
    "    print(\"Hello\",i)\n",
    "    greet()\n",
    "greet()"
   ]
  },
  {
   "cell_type": "code",
   "execution_count": 8,
   "id": "ba9349cd",
   "metadata": {},
   "outputs": [
    {
     "name": "stdout",
     "output_type": "stream",
     "text": [
      "25\n"
     ]
    }
   ],
   "source": [
    "def square(a):\n",
    "    return a*a\n",
    "result=square(5)\n",
    "print(result)"
   ]
  },
  {
   "cell_type": "code",
   "execution_count": 10,
   "id": "5bf015a8",
   "metadata": {},
   "outputs": [
    {
     "name": "stdout",
     "output_type": "stream",
     "text": [
      "25\n"
     ]
    }
   ],
   "source": [
    "f=lambda a:a*a\n",
    "result=f(5)\n",
    "print(result)"
   ]
  },
  {
   "cell_type": "code",
   "execution_count": 11,
   "id": "a77564cc",
   "metadata": {},
   "outputs": [
    {
     "name": "stdout",
     "output_type": "stream",
     "text": [
      "11\n"
     ]
    }
   ],
   "source": [
    "f=lambda a,b:a+b\n",
    "result=f(5,6)\n",
    "print(result)"
   ]
  },
  {
   "cell_type": "code",
   "execution_count": 13,
   "id": "50de362e",
   "metadata": {},
   "outputs": [
    {
     "name": "stdout",
     "output_type": "stream",
     "text": [
      "[2, 4, 6]\n"
     ]
    }
   ],
   "source": [
    "def is_even(n):\n",
    "    return n%2==0\n",
    "    \n",
    "nums=[1,2,3,4,5,6,7]\n",
    "even=list(filter(is_even,nums))\n",
    "print(even)"
   ]
  },
  {
   "cell_type": "code",
   "execution_count": 18,
   "id": "fbc72dce",
   "metadata": {},
   "outputs": [
    {
     "name": "stdout",
     "output_type": "stream",
     "text": [
      "[4, 6, 8]\n"
     ]
    }
   ],
   "source": [
    "def update(n):\n",
    "    return n+2\n",
    "nums=[1,2,3,4,5,6,7]\n",
    "even=list(filter(lambda n:n%2==0,nums))\n",
    "doubles=list(map(update,even))\n",
    "print(doubles)"
   ]
  },
  {
   "cell_type": "code",
   "execution_count": 20,
   "id": "2c972efb",
   "metadata": {},
   "outputs": [
    {
     "name": "stdout",
     "output_type": "stream",
     "text": [
      "[4, 8, 12]\n"
     ]
    }
   ],
   "source": [
    "\n",
    "nums=[1,2,3,4,5,6,7]\n",
    "even=list(filter(lambda n:n%2==0,nums))\n",
    "doubles=list(map(lambda n:n*2,even))\n",
    "print(doubles)"
   ]
  },
  {
   "cell_type": "code",
   "execution_count": 22,
   "id": "caa4c7b3",
   "metadata": {},
   "outputs": [
    {
     "name": "stdout",
     "output_type": "stream",
     "text": [
      "24\n"
     ]
    }
   ],
   "source": [
    "from functools import reduce\n",
    "def add_all(a,b):\n",
    "    return a+b\n",
    "nums=[1,2,3,4,5,6,7]\n",
    "even=list(filter(lambda n:n%2==0,nums))\n",
    "doubles=list(map(lambda n:n*2,even))\n",
    "sum=reduce(add_all,doubles)\n",
    "print(sum)"
   ]
  },
  {
   "cell_type": "code",
   "execution_count": 24,
   "id": "a6b4e57f",
   "metadata": {},
   "outputs": [
    {
     "name": "stdout",
     "output_type": "stream",
     "text": [
      "[4, 8, 12]\n",
      "24\n"
     ]
    }
   ],
   "source": [
    "from functools import reduce\n",
    "def add_all(a,b):\n",
    "    return a+b\n",
    "nums=[1,2,3,4,5,6,7]\n",
    "even=list(filter(lambda n:n%2==0,nums))\n",
    "doubles=list(map(lambda n:n*2,even))\n",
    "print(doubles)\n",
    "sum=reduce(lambda a,b:a+b,doubles)\n",
    "print(sum)"
   ]
  },
  {
   "cell_type": "code",
   "execution_count": 26,
   "id": "17e34781",
   "metadata": {},
   "outputs": [
    {
     "name": "stdout",
     "output_type": "stream",
     "text": [
      "0.5\n"
     ]
    }
   ],
   "source": [
    "def div(a,b):\n",
    "    print(a/b)\n",
    "div(2,4)"
   ]
  },
  {
   "cell_type": "code",
   "execution_count": 28,
   "id": "be10747b",
   "metadata": {},
   "outputs": [
    {
     "name": "stdout",
     "output_type": "stream",
     "text": [
      "2.0\n"
     ]
    }
   ],
   "source": [
    "def div(a,b):\n",
    "    if a<b:\n",
    "         a,b=b,a\n",
    "    print(a/b)\n",
    "div(2,4)"
   ]
  },
  {
   "cell_type": "code",
   "execution_count": 34,
   "id": "705f3abb",
   "metadata": {},
   "outputs": [
    {
     "name": "stdout",
     "output_type": "stream",
     "text": [
      "2.0\n"
     ]
    }
   ],
   "source": [
    "def div(a,b):\n",
    "    print(a/b)\n",
    "def smart_div(func):\n",
    "    def inner(a,b):\n",
    "        if a<b:\n",
    "            a,b=b,a\n",
    "        return func(a,b)\n",
    "    return inner\n",
    "div1=smart_div(div)\n",
    "div1(2,4)"
   ]
  },
  {
   "cell_type": "code",
   "execution_count": 37,
   "id": "b340d396",
   "metadata": {},
   "outputs": [],
   "source": [
    "def add(a,b):\n",
    "    return a+b\n",
    "def sub(a,b):\n",
    "    return a-b\n",
    "def multi(a,b):\n",
    "    return a*b\n",
    "def div(a,b):\n",
    "    return a/b"
   ]
  },
  {
   "cell_type": "code",
   "execution_count": 38,
   "id": "0cca938d",
   "metadata": {},
   "outputs": [
    {
     "name": "stdout",
     "output_type": "stream",
     "text": [
      "16\n"
     ]
    }
   ],
   "source": [
    "a=9\n",
    "b=7\n",
    "c=add(a,b)\n",
    "print(c)"
   ]
  },
  {
   "cell_type": "code",
   "execution_count": 39,
   "id": "9c395dea",
   "metadata": {},
   "outputs": [
    {
     "name": "stdout",
     "output_type": "stream",
     "text": [
      "2\n"
     ]
    }
   ],
   "source": [
    "a=9\n",
    "b=7\n",
    "c=sub(a,b)\n",
    "print(c)"
   ]
  },
  {
   "cell_type": "code",
   "execution_count": 40,
   "id": "0d320ebd",
   "metadata": {},
   "outputs": [
    {
     "name": "stdout",
     "output_type": "stream",
     "text": [
      "hello__main__\n"
     ]
    }
   ],
   "source": [
    "print(\"hello\"+ __name__)"
   ]
  },
  {
   "cell_type": "code",
   "execution_count": 43,
   "id": "df5ab14d",
   "metadata": {},
   "outputs": [
    {
     "name": "stdout",
     "output_type": "stream",
     "text": [
      "Demo says:__main__\n"
     ]
    }
   ],
   "source": [
    "\n",
    "print(\"Demo says:\"+__name__)"
   ]
  },
  {
   "cell_type": "code",
   "execution_count": 44,
   "id": "8d09d3d2",
   "metadata": {},
   "outputs": [
    {
     "name": "stdout",
     "output_type": "stream",
     "text": [
      "hello\n",
      "welcome user\n"
     ]
    }
   ],
   "source": [
    "print(\"hello\")\n",
    "print(\"welcome user\")"
   ]
  },
  {
   "cell_type": "code",
   "execution_count": 45,
   "id": "1be123ad",
   "metadata": {},
   "outputs": [
    {
     "name": "stdout",
     "output_type": "stream",
     "text": [
      "<class '__main__.Computer'>\n"
     ]
    }
   ],
   "source": [
    "class Computer:\n",
    "    def config():\n",
    "        print(\"i5,16gb,1TB\")\n",
    "a='8'\n",
    "com1=Computer()\n",
    "print(type(com1))"
   ]
  },
  {
   "cell_type": "code",
   "execution_count": 48,
   "id": "134e4bca",
   "metadata": {},
   "outputs": [
    {
     "name": "stdout",
     "output_type": "stream",
     "text": [
      "<class 'str'>\n",
      "<class '__main__.Computer'>\n"
     ]
    }
   ],
   "source": [
    "class Computer:\n",
    "    def config():\n",
    "        print(\"i5,16gb,1TB\")\n",
    "\n",
    "a='8'\n",
    "print(type(a))\n",
    "com1=Computer()\n",
    "print(type(com1))"
   ]
  },
  {
   "cell_type": "code",
   "execution_count": 47,
   "id": "731b6871",
   "metadata": {},
   "outputs": [
    {
     "name": "stdout",
     "output_type": "stream",
     "text": [
      "<class 'int'>\n",
      "<class 'str'>\n",
      "<class '__main__.Computer'>\n"
     ]
    }
   ],
   "source": [
    "class Computer:\n",
    "    def config():\n",
    "        print(\"i5,16gb,1TB\")\n",
    "x=9\n",
    "print(type(x))\n",
    "a='8'\n",
    "print(type(a))\n",
    "com1=Computer()\n",
    "print(type(com1))"
   ]
  },
  {
   "cell_type": "code",
   "execution_count": 49,
   "id": "a444abab",
   "metadata": {},
   "outputs": [
    {
     "name": "stdout",
     "output_type": "stream",
     "text": [
      "i5,16gb,1TB\n"
     ]
    }
   ],
   "source": [
    "class Computer:\n",
    "    def config():\n",
    "        print(\"i5,16gb,1TB\")\n",
    "com1=Computer()\n",
    "Computer.config()"
   ]
  },
  {
   "cell_type": "code",
   "execution_count": 50,
   "id": "604417c1",
   "metadata": {},
   "outputs": [
    {
     "ename": "TypeError",
     "evalue": "config() missing 1 required positional argument: 'self'",
     "output_type": "error",
     "traceback": [
      "\u001b[1;31m---------------------------------------------------------------------------\u001b[0m",
      "\u001b[1;31mTypeError\u001b[0m                                 Traceback (most recent call last)",
      "Input \u001b[1;32mIn [50]\u001b[0m, in \u001b[0;36m<cell line: 5>\u001b[1;34m()\u001b[0m\n\u001b[0;32m      3\u001b[0m         \u001b[38;5;28mprint\u001b[39m(\u001b[38;5;124m\"\u001b[39m\u001b[38;5;124mi5,16gb,1TB\u001b[39m\u001b[38;5;124m\"\u001b[39m)\n\u001b[0;32m      4\u001b[0m com1\u001b[38;5;241m=\u001b[39mComputer()\n\u001b[1;32m----> 5\u001b[0m \u001b[43mComputer\u001b[49m\u001b[38;5;241;43m.\u001b[39;49m\u001b[43mconfig\u001b[49m\u001b[43m(\u001b[49m\u001b[43m)\u001b[49m\n",
      "\u001b[1;31mTypeError\u001b[0m: config() missing 1 required positional argument: 'self'"
     ]
    }
   ],
   "source": [
    "class Computer:\n",
    "    def config(self):\n",
    "        print(\"i5,16gb,1TB\")\n",
    "com1=Computer()\n",
    "Computer.config()"
   ]
  },
  {
   "cell_type": "code",
   "execution_count": 51,
   "id": "c80a6f7f",
   "metadata": {},
   "outputs": [
    {
     "name": "stdout",
     "output_type": "stream",
     "text": [
      "i5,16gb,1TB\n"
     ]
    }
   ],
   "source": [
    "class Computer:\n",
    "    def config(self):\n",
    "        print(\"i5,16gb,1TB\")\n",
    "com1=Computer()\n",
    "Computer.config(com1)"
   ]
  },
  {
   "cell_type": "code",
   "execution_count": 52,
   "id": "359c6233",
   "metadata": {},
   "outputs": [
    {
     "name": "stdout",
     "output_type": "stream",
     "text": [
      "i5,16gb,1TB\n",
      "i5,16gb,1TB\n"
     ]
    }
   ],
   "source": [
    "class Computer:\n",
    "    def config(self):\n",
    "        print(\"i5,16gb,1TB\")\n",
    "com1=Computer()\n",
    "com2=Computer()\n",
    "Computer.config(com1)\n",
    "Computer.config(com2)"
   ]
  },
  {
   "cell_type": "code",
   "execution_count": 53,
   "id": "9625b417",
   "metadata": {},
   "outputs": [
    {
     "name": "stdout",
     "output_type": "stream",
     "text": [
      "i5,16gb,1TB\n",
      "i5,16gb,1TB\n",
      "i5,16gb,1TB\n",
      "i5,16gb,1TB\n"
     ]
    }
   ],
   "source": [
    "class Computer:\n",
    "    def config(self):\n",
    "        print(\"i5,16gb,1TB\")\n",
    "com1=Computer()\n",
    "com2=Computer()\n",
    "Computer.config(com1)\n",
    "Computer.config(com2)\n",
    "com1.config()\n",
    "com2.config()"
   ]
  },
  {
   "cell_type": "code",
   "execution_count": 54,
   "id": "c1dc3d44",
   "metadata": {},
   "outputs": [
    {
     "name": "stdout",
     "output_type": "stream",
     "text": [
      "i5,16gb,1TB\n",
      "i5,16gb,1TB\n",
      "i5,16gb,1TB\n",
      "i5,16gb,1TB\n"
     ]
    },
    {
     "data": {
      "text/plain": [
       "3"
      ]
     },
     "execution_count": 54,
     "metadata": {},
     "output_type": "execute_result"
    }
   ],
   "source": [
    "class Computer:\n",
    "    def config(self):\n",
    "        print(\"i5,16gb,1TB\")\n",
    "com1=Computer()\n",
    "com2=Computer()\n",
    "Computer.config(com1)\n",
    "Computer.config(com2)\n",
    "com1.config()\n",
    "com2.config()\n",
    "a=5\n",
    "a.bit_length()"
   ]
  },
  {
   "cell_type": "code",
   "execution_count": 57,
   "id": "44f57073",
   "metadata": {},
   "outputs": [
    {
     "name": "stdout",
     "output_type": "stream",
     "text": [
      "in init\n",
      "in init\n",
      "i5,16gb,1TB\n",
      "i5,16gb,1TB\n"
     ]
    }
   ],
   "source": [
    "class Computer:\n",
    "    def __init__(self):\n",
    "        print(\"in init\")\n",
    "    def config(self):\n",
    "        print(\"i5,16gb,1TB\")\n",
    "com1=Computer()\n",
    "com2=Computer()\n",
    "\n",
    "com1.config()\n",
    "com2.config()"
   ]
  },
  {
   "cell_type": "code",
   "execution_count": 60,
   "id": "90b1dc44",
   "metadata": {},
   "outputs": [
    {
     "name": "stdout",
     "output_type": "stream",
     "text": [
      "Config is i5 16\n",
      "Config is Ryzen 3 8\n"
     ]
    }
   ],
   "source": [
    "class Computer:\n",
    "    def __init__(self,cpu,ram):\n",
    "        self.cpu=cpu\n",
    "        self.ram=ram\n",
    "    def config(self):\n",
    "        print(\"Config is\",self.cpu,self.ram)\n",
    "com1=Computer('i5',16)\n",
    "com2=Computer('Ryzen 3',8)\n",
    "\n",
    "com1.config()\n",
    "com2.config()"
   ]
  },
  {
   "cell_type": "code",
   "execution_count": 61,
   "id": "ccf381ad",
   "metadata": {},
   "outputs": [
    {
     "name": "stdout",
     "output_type": "stream",
     "text": [
      "1825500587200\n"
     ]
    }
   ],
   "source": [
    "class Computer:\n",
    "    pass\n",
    "c1=Computer()\n",
    "print(id(c1))"
   ]
  },
  {
   "cell_type": "code",
   "execution_count": 62,
   "id": "8d8b1dae",
   "metadata": {},
   "outputs": [
    {
     "name": "stdout",
     "output_type": "stream",
     "text": [
      "1825523185936\n",
      "1825523186656\n"
     ]
    }
   ],
   "source": [
    "class Computer:\n",
    "    pass\n",
    "c1=Computer()\n",
    "c2=Computer()\n",
    "print(id(c1))\n",
    "print(id(c2))\n"
   ]
  },
  {
   "cell_type": "code",
   "execution_count": 1,
   "id": "c2cc36af",
   "metadata": {},
   "outputs": [
    {
     "name": "stdout",
     "output_type": "stream",
     "text": [
      "Ananya\n",
      "Ananya\n"
     ]
    }
   ],
   "source": [
    "class Computer:\n",
    "    def __init__(self):\n",
    "        self.name=\"Ananya\"\n",
    "        self.age=10\n",
    "c1=Computer()\n",
    "c2=Computer()\n",
    "print(c1.name)\n",
    "print(c2.name)"
   ]
  },
  {
   "cell_type": "code",
   "execution_count": 3,
   "id": "1df95fbb",
   "metadata": {},
   "outputs": [
    {
     "name": "stdout",
     "output_type": "stream",
     "text": [
      "Rashi\n",
      "Ananya\n"
     ]
    }
   ],
   "source": [
    "class Computer:\n",
    "    def __init__(self):\n",
    "        self.name=\"Ananya\"\n",
    "        self.age=10\n",
    "c1=Computer()\n",
    "c2=Computer()\n",
    "c1.name=\"Rashi\"\n",
    "print(c1.name)\n",
    "print(c2.name)"
   ]
  },
  {
   "cell_type": "code",
   "execution_count": 4,
   "id": "798370ad",
   "metadata": {},
   "outputs": [
    {
     "name": "stdout",
     "output_type": "stream",
     "text": [
      "40\n",
      "10\n"
     ]
    }
   ],
   "source": [
    "class Computer:\n",
    "    def __init__(self):\n",
    "        self.name=\"Ananya\"\n",
    "        self.age=10\n",
    "c1=Computer()\n",
    "c2=Computer()\n",
    "c1.name=\"Rashi\"\n",
    "c1.age=40\n",
    "print(c1.age)\n",
    "print(c2.age)"
   ]
  },
  {
   "cell_type": "code",
   "execution_count": 5,
   "id": "bac24724",
   "metadata": {},
   "outputs": [
    {
     "name": "stdout",
     "output_type": "stream",
     "text": [
      "30\n",
      "10\n"
     ]
    }
   ],
   "source": [
    "class Computer:\n",
    "    def __init__(self):\n",
    "        self.name=\"Ananya\"\n",
    "        self.age=10\n",
    "    def update(self):\n",
    "        self.age=30\n",
    "c1=Computer()\n",
    "c2=Computer()\n",
    "c1.name=\"Rashi\"\n",
    "c1.age=40\n",
    "c1.update()\n",
    "print(c1.age)\n",
    "print(c2.age)"
   ]
  },
  {
   "cell_type": "code",
   "execution_count": 6,
   "id": "977a4e13",
   "metadata": {},
   "outputs": [
    {
     "name": "stdout",
     "output_type": "stream",
     "text": [
      "they are same\n",
      "10\n",
      "10\n"
     ]
    }
   ],
   "source": [
    "class Computer:\n",
    "    def __init__(self):\n",
    "        self.name=\"Ananya\"\n",
    "        self.age=10\n",
    "    def update(self):\n",
    "        self.age=30\n",
    "    def compare(self,other):\n",
    "        if self.age==other.age:\n",
    "            return True\n",
    "        else:\n",
    "            return False\n",
    "    \n",
    "    \n",
    "c1=Computer()\n",
    "\n",
    "c2=Computer()\n",
    "if c1.compare(c2):\n",
    "    print(\"they are same\")\n",
    "\n",
    "print(c1.age)\n",
    "print(c2.age)"
   ]
  },
  {
   "cell_type": "code",
   "execution_count": 7,
   "id": "4cf2a88e",
   "metadata": {},
   "outputs": [
    {
     "name": "stdout",
     "output_type": "stream",
     "text": [
      "different\n",
      "30\n",
      "10\n"
     ]
    }
   ],
   "source": [
    "class Computer:\n",
    "    def __init__(self):\n",
    "        self.name=\"Ananya\"\n",
    "        self.age=10\n",
    "    def update(self):\n",
    "        self.age=30\n",
    "    def compare(self,other):\n",
    "        if self.age==other.age:\n",
    "            return True\n",
    "        else:\n",
    "            return False\n",
    "    \n",
    "    \n",
    "c1=Computer()\n",
    "c1.age=30\n",
    "c2=Computer()\n",
    "if c1.compare(c2):\n",
    "    print(\"they are same\")\n",
    "else:\n",
    "    print(\"different\")\n",
    "\n",
    "print(c1.age)\n",
    "print(c2.age)"
   ]
  },
  {
   "cell_type": "code",
   "execution_count": 8,
   "id": "9613d66b",
   "metadata": {},
   "outputs": [
    {
     "name": "stdout",
     "output_type": "stream",
     "text": [
      "BMW 10\n",
      "BMW 10\n"
     ]
    }
   ],
   "source": [
    "class Car:\n",
    "    def __init__(self):\n",
    "        self.mil=10\n",
    "        self.com=\"BMW\"\n",
    "c1=Car()\n",
    "c2=Car()\n",
    "print(c1.com,c1.mil)\n",
    "print(c2.com,c2.mil)"
   ]
  },
  {
   "cell_type": "code",
   "execution_count": 9,
   "id": "bfbda171",
   "metadata": {},
   "outputs": [
    {
     "name": "stdout",
     "output_type": "stream",
     "text": [
      "BMW 8\n",
      "BMW 10\n"
     ]
    }
   ],
   "source": [
    "class Car:\n",
    "    def __init__(self):\n",
    "        self.mil=10\n",
    "        self.com=\"BMW\"\n",
    "c1=Car()\n",
    "c2=Car()\n",
    "c1.mil=8\n",
    "print(c1.com,c1.mil)\n",
    "print(c2.com,c2.mil)"
   ]
  },
  {
   "cell_type": "code",
   "execution_count": 12,
   "id": "61a181e3",
   "metadata": {},
   "outputs": [
    {
     "name": "stdout",
     "output_type": "stream",
     "text": [
      "BMW 8 4\n",
      "BMW 10 4\n"
     ]
    }
   ],
   "source": [
    "class Car:\n",
    "    wheels=4\n",
    "    def __init__(self):\n",
    "        self.mil=10\n",
    "        self.com=\"BMW\"\n",
    "c1=Car()\n",
    "c2=Car()\n",
    "c1.mil=8\n",
    "print(c1.com,c1.mil,c1.wheels)\n",
    "print(c2.com,c2.mil,c2.wheels)"
   ]
  },
  {
   "cell_type": "code",
   "execution_count": 13,
   "id": "a73664d0",
   "metadata": {},
   "outputs": [
    {
     "name": "stdout",
     "output_type": "stream",
     "text": [
      "BMW 8 5\n",
      "BMW 10 5\n"
     ]
    }
   ],
   "source": [
    "class Car:\n",
    "    wheels=4\n",
    "    def __init__(self):\n",
    "        self.mil=10\n",
    "        self.com=\"BMW\"\n",
    "c1=Car()\n",
    "c2=Car()\n",
    "Car.wheels=5\n",
    "c1.mil=8\n",
    "print(c1.com,c1.mil,c1.wheels)\n",
    "print(c2.com,c2.mil,c2.wheels)"
   ]
  },
  {
   "cell_type": "code",
   "execution_count": 14,
   "id": "1bdbb302",
   "metadata": {},
   "outputs": [
    {
     "name": "stdout",
     "output_type": "stream",
     "text": [
      "20.0\n"
     ]
    }
   ],
   "source": [
    "class Student:\n",
    "    school='Telusko'\n",
    "    def __init__(self,m1,m2,m3):\n",
    "        self.m1=m1\n",
    "        self.m2=m2\n",
    "        self.m3=m3\n",
    "    def avg(self):\n",
    "        return(self.m1+self.m2+self.m3)/3\n",
    "s1=Student(10,20,30)\n",
    "s2=Student(12,24,36)\n",
    "print(s1.avg())"
   ]
  },
  {
   "cell_type": "code",
   "execution_count": 15,
   "id": "897b6ac8",
   "metadata": {},
   "outputs": [
    {
     "name": "stdout",
     "output_type": "stream",
     "text": [
      "24.0\n"
     ]
    }
   ],
   "source": [
    "class Student:\n",
    "    school='Telusko'\n",
    "    def __init__(self,m1,m2,m3):\n",
    "        self.m1=m1\n",
    "        self.m2=m2\n",
    "        self.m3=m3\n",
    "    def avg(self):\n",
    "        return(self.m1+self.m2+self.m3)/3\n",
    "s1=Student(10,20,30)\n",
    "s2=Student(12,24,36)\n",
    "print(s2.avg())"
   ]
  },
  {
   "cell_type": "code",
   "execution_count": 16,
   "id": "13df57fa",
   "metadata": {},
   "outputs": [
    {
     "name": "stdout",
     "output_type": "stream",
     "text": [
      "20.0\n"
     ]
    }
   ],
   "source": [
    "class Student:\n",
    "    school='Telusko'\n",
    "    def __init__(self,m1,m2,m3):\n",
    "        self.m1=m1\n",
    "        self.m2=m2\n",
    "        self.m3=m3\n",
    "    def avg(self):\n",
    "        return(self.m1+self.m2+self.m3)/3\n",
    "    def get_m1(self):\n",
    "        return self.m1\n",
    "    def set_m1(self,value):\n",
    "        self.m1=value\n",
    "s1=Student(10,20,30)\n",
    "s2=Student(12,24,36)\n",
    "print(s1.avg())"
   ]
  },
  {
   "cell_type": "code",
   "execution_count": 17,
   "id": "bc99a31c",
   "metadata": {},
   "outputs": [
    {
     "name": "stdout",
     "output_type": "stream",
     "text": [
      "20.0\n"
     ]
    },
    {
     "ename": "TypeError",
     "evalue": "info() missing 1 required positional argument: 'cls'",
     "output_type": "error",
     "traceback": [
      "\u001b[1;31m---------------------------------------------------------------------------\u001b[0m",
      "\u001b[1;31mTypeError\u001b[0m                                 Traceback (most recent call last)",
      "Input \u001b[1;32mIn [17]\u001b[0m, in \u001b[0;36m<cell line: 14>\u001b[1;34m()\u001b[0m\n\u001b[0;32m     12\u001b[0m s2\u001b[38;5;241m=\u001b[39mStudent(\u001b[38;5;241m12\u001b[39m,\u001b[38;5;241m24\u001b[39m,\u001b[38;5;241m36\u001b[39m)\n\u001b[0;32m     13\u001b[0m \u001b[38;5;28mprint\u001b[39m(s1\u001b[38;5;241m.\u001b[39mavg())\n\u001b[1;32m---> 14\u001b[0m \u001b[38;5;28mprint\u001b[39m(\u001b[43mStudent\u001b[49m\u001b[38;5;241;43m.\u001b[39;49m\u001b[43minfo\u001b[49m\u001b[43m(\u001b[49m\u001b[43m)\u001b[49m)\n",
      "\u001b[1;31mTypeError\u001b[0m: info() missing 1 required positional argument: 'cls'"
     ]
    }
   ],
   "source": [
    "  class Student:\n",
    "    school='Telusko'\n",
    "    def __init__(self,m1,m2,m3):\n",
    "        self.m1=m1\n",
    "        self.m2=m2\n",
    "        self.m3=m3\n",
    "    def avg(self):\n",
    "        return(self.m1+self.m2+self.m3)/3\n",
    "    def info(cls):\n",
    "        return cls.school\n",
    "s1=Student(10,20,30)\n",
    "s2=Student(12,24,36)\n",
    "print(s1.avg())\n",
    "print(Student.info())"
   ]
  },
  {
   "cell_type": "code",
   "execution_count": 18,
   "id": "8398d0dc",
   "metadata": {},
   "outputs": [
    {
     "name": "stdout",
     "output_type": "stream",
     "text": [
      "20.0\n",
      "Telusko\n"
     ]
    }
   ],
   "source": [
    "class Student:\n",
    "    school='Telusko'\n",
    "    def __init__(self,m1,m2,m3):\n",
    "        self.m1=m1\n",
    "        self.m2=m2\n",
    "        self.m3=m3\n",
    "    def avg(self):\n",
    "        return(self.m1+self.m2+self.m3)/3\n",
    "    @classmethod\n",
    "    def info(cls):\n",
    "        return cls.school\n",
    "s1=Student(10,20,30)\n",
    "s2=Student(12,24,36)\n",
    "print(s1.avg())\n",
    "print(Student.info())"
   ]
  },
  {
   "cell_type": "code",
   "execution_count": 23,
   "id": "59187133",
   "metadata": {},
   "outputs": [
    {
     "name": "stdout",
     "output_type": "stream",
     "text": [
      "20.0\n",
      "Telusko\n",
      "this is student class..in abc module\n"
     ]
    }
   ],
   "source": [
    "class Student:\n",
    "    school='Telusko'\n",
    "    def __init__(self,m1,m2,m3):\n",
    "        self.m1=m1\n",
    "        self.m2=m2\n",
    "        self.m3=m3\n",
    "    def avg(self):\n",
    "        return(self.m1+self.m2+self.m3)/3\n",
    "    @classmethod\n",
    "    def getSchool(cls):\n",
    "        return cls.school\n",
    "    @staticmethod\n",
    "    def info():\n",
    "        print(\"this is student class..in abc module\")\n",
    "s1=Student(10,20,30)\n",
    "s2=Student(12,24,36)\n",
    "print(s1.avg())\n",
    "print(Student.getSchool())\n",
    "Student.info()"
   ]
  },
  {
   "cell_type": "code",
   "execution_count": 24,
   "id": "79d1920c",
   "metadata": {},
   "outputs": [
    {
     "name": "stdout",
     "output_type": "stream",
     "text": [
      "ananya 7\n"
     ]
    }
   ],
   "source": [
    "class Student:\n",
    "    def __init__(self,name,rollno):\n",
    "        self.name=name\n",
    "        self.rollno=rollno\n",
    "s1=Student('ananya',7)\n",
    "s2=Student('Jenny',14)\n",
    "print(s1.name,s1.rollno)"
   ]
  },
  {
   "cell_type": "code",
   "execution_count": 26,
   "id": "8e948d34",
   "metadata": {},
   "outputs": [
    {
     "name": "stdout",
     "output_type": "stream",
     "text": [
      "ananya 7\n",
      "Jenny 14\n"
     ]
    }
   ],
   "source": [
    "class Student:\n",
    "    def __init__(self,name,rollno):\n",
    "        self.name=name\n",
    "        self.rollno=rollno\n",
    "    def show(self):\n",
    "        print(self.name,self.rollno)\n",
    "s1=Student('ananya',7)\n",
    "s2=Student('Jenny',14)\n",
    "s1.show()\n",
    "s2.show()"
   ]
  },
  {
   "cell_type": "code",
   "execution_count": 28,
   "id": "6bc5e256",
   "metadata": {},
   "outputs": [
    {
     "name": "stdout",
     "output_type": "stream",
     "text": [
      "ananya 7\n",
      "Jenny 14\n",
      "2275540601248\n",
      "2275540601248\n"
     ]
    }
   ],
   "source": [
    "class Student:\n",
    "    def __init__(self,name,rollno):\n",
    "        self.name=name\n",
    "        self.rollno=rollno\n",
    "        self.lap=self.Laptop\n",
    "    def show(self):\n",
    "        print(self.name,self.rollno)\n",
    "    class Laptop:\n",
    "        def __init__(self):\n",
    "            self.brand='HP'\n",
    "            self.cpu='i5'\n",
    "            self.ram=8\n",
    "s1=Student('ananya',7)\n",
    "s2=Student('Jenny',14)\n",
    "s1.show()\n",
    "s2.show()\n",
    "lap1=s1.lap\n",
    "lap2=s2.lap\n",
    "print(id(lap1))\n",
    "print(id(lap2))"
   ]
  },
  {
   "cell_type": "code",
   "execution_count": 30,
   "id": "14e55711",
   "metadata": {},
   "outputs": [
    {
     "name": "stdout",
     "output_type": "stream",
     "text": [
      "ananya 7\n",
      "HP i5 8\n",
      "Jenny 14\n",
      "HP i5 8\n"
     ]
    }
   ],
   "source": [
    "class Student:\n",
    "    def __init__(self,name,rollno):\n",
    "        self.name=name\n",
    "        self.rollno=rollno\n",
    "        self.lap=self.Laptop()\n",
    "    def show(self):\n",
    "        print(self.name,self.rollno)\n",
    "        self.lap.show()\n",
    "    class Laptop:\n",
    "        def __init__(self):\n",
    "            self.brand='HP'\n",
    "            self.cpu='i5'\n",
    "            self.ram=8\n",
    "        def show(self):\n",
    "            print(self.brand,self.cpu,self.ram)\n",
    "s1=Student('ananya',7)\n",
    "s2=Student('Jenny',14)\n",
    "s1.show()\n",
    "s2.show()\n"
   ]
  },
  {
   "cell_type": "code",
   "execution_count": 36,
   "id": "13813172",
   "metadata": {},
   "outputs": [
    {
     "name": "stdout",
     "output_type": "stream",
     "text": [
      "Feature 1 working\n",
      "Feature 2 working\n"
     ]
    }
   ],
   "source": [
    "class A:\n",
    "    def feature1(self):\n",
    "        print(\"Feature 1 working\")\n",
    "    def feature2(self):\n",
    "        print(\"Feature 2 working\")\n",
    "\n",
    "\n",
    "a1 = A()\n",
    "a1.feature1()\n",
    "a1.feature2()"
   ]
  },
  {
   "cell_type": "code",
   "execution_count": 37,
   "id": "92697243",
   "metadata": {},
   "outputs": [
    {
     "name": "stdout",
     "output_type": "stream",
     "text": [
      "Feature 1 working\n",
      "Feature 2 working\n",
      "Feature 1 working\n"
     ]
    }
   ],
   "source": [
    "class A:\n",
    "    def feature1(self):\n",
    "        print(\"Feature 1 working\")\n",
    "    def feature2(self):\n",
    "        print(\"Feature 2 working\")\n",
    "class B(A):\n",
    "    def feature3(self):\n",
    "        print(\"Feature 1 working\")\n",
    "    def feature4(self):\n",
    "        print(\"Feature 2 working\")\n",
    "\n",
    "a1 = A()\n",
    "a1.feature1()\n",
    "a1.feature2()\n",
    "b1=B()\n",
    "b1.feature1()"
   ]
  },
  {
   "cell_type": "code",
   "execution_count": 38,
   "id": "02464635",
   "metadata": {},
   "outputs": [
    {
     "name": "stdout",
     "output_type": "stream",
     "text": [
      "Feature 1 working\n",
      "Feature 2 working\n",
      "Feature 1 working\n",
      "Feature 5 working\n"
     ]
    }
   ],
   "source": [
    "class A:\n",
    "    def feature1(self):\n",
    "        print(\"Feature 1 working\")\n",
    "    def feature2(self):\n",
    "        print(\"Feature 2 working\")\n",
    "class B(A):\n",
    "    def feature3(self):\n",
    "        print(\"Feature 3 working\")\n",
    "    def feature4(self):\n",
    "        print(\"Feature 4 working\")\n",
    "class C(B):\n",
    "     def feature5(self):\n",
    "        print(\"Feature 5 working\")\n",
    "   \n",
    "a1 = A()\n",
    "a1.feature1()\n",
    "a1.feature2()\n",
    "b1=B()\n",
    "b1.feature1()\n",
    "c1=C()\n",
    "c1.feature5()"
   ]
  },
  {
   "cell_type": "code",
   "execution_count": 41,
   "id": "ebc2dbc8",
   "metadata": {},
   "outputs": [
    {
     "name": "stdout",
     "output_type": "stream",
     "text": [
      "Feature 1 working\n",
      "Feature 2 working\n",
      "Feature 4 working\n",
      "Feature 5 working\n"
     ]
    }
   ],
   "source": [
    "class A:\n",
    "    def feature1(self):\n",
    "        print(\"Feature 1 working\")\n",
    "    def feature2(self):\n",
    "        print(\"Feature 2 working\")\n",
    "class B():\n",
    "    def feature3(self):\n",
    "        print(\"Feature 3 working\")\n",
    "    def feature4(self):\n",
    "        print(\"Feature 4 working\")\n",
    "class C(A,B):\n",
    "     def feature5(self):\n",
    "        print(\"Feature 5 working\")\n",
    "a1 = A()\n",
    "a1.feature1()\n",
    "a1.feature2()\n",
    "b1=B()\n",
    "b1.feature4()\n",
    "c1=C()\n",
    "c1.feature5()"
   ]
  },
  {
   "cell_type": "code",
   "execution_count": 47,
   "id": "749a3f29",
   "metadata": {},
   "outputs": [
    {
     "name": "stdout",
     "output_type": "stream",
     "text": [
      "in A init\n"
     ]
    }
   ],
   "source": [
    "class A:\n",
    "    def __init__(self):\n",
    "        print(\"in A init\")\n",
    "    def feature1(self):\n",
    "        print(\"Feature 1 working\")\n",
    "    def feature2(self):\n",
    "        print(\"Feature 2 working\")\n",
    "class B(A):\n",
    "    def feature3(self):\n",
    "        print(\"Feature 3 working\")\n",
    "    def feature4(self):\n",
    "        print(\"Feature 4 working\")\n",
    "a1=A()\n"
   ]
  },
  {
   "cell_type": "code",
   "execution_count": 48,
   "id": "9958db93",
   "metadata": {},
   "outputs": [
    {
     "name": "stdout",
     "output_type": "stream",
     "text": [
      "in A init\n"
     ]
    }
   ],
   "source": [
    "class A:\n",
    "    def __init__(self):\n",
    "        print(\"in A init\")\n",
    "    def feature1(self):\n",
    "        print(\"Feature 1 working\")\n",
    "    def feature2(self):\n",
    "        print(\"Feature 2 working\")\n",
    "class B(A):\n",
    "    def feature3(self):\n",
    "        print(\"Feature 3 working\")\n",
    "    def feature4(self):\n",
    "        print(\"Feature 4 working\")\n",
    "a1=B()\n"
   ]
  },
  {
   "cell_type": "code",
   "execution_count": 49,
   "id": "41efefd9",
   "metadata": {},
   "outputs": [
    {
     "name": "stdout",
     "output_type": "stream",
     "text": [
      "in B init\n"
     ]
    }
   ],
   "source": [
    "class A:\n",
    "    def __init__(self):\n",
    "        print(\"in A init\")\n",
    "    def feature1(self):\n",
    "        print(\"Feature 1 working\")\n",
    "    def feature2(self):\n",
    "        print(\"Feature 2 working\")\n",
    "class B(A):\n",
    "    def __init__(self):\n",
    "        print(\"in B init\")\n",
    "    def feature1(self):\n",
    "        print(\"Feature 3 working\")\n",
    "    def feature4(self):\n",
    "        print(\"Feature 4 working\")\n",
    "a1=B()\n"
   ]
  },
  {
   "cell_type": "code",
   "execution_count": 50,
   "id": "d3b580bc",
   "metadata": {},
   "outputs": [
    {
     "name": "stdout",
     "output_type": "stream",
     "text": [
      "in A init\n",
      "in B init\n"
     ]
    }
   ],
   "source": [
    "class A:\n",
    "    def __init__(self):\n",
    "        print(\"in A init\")\n",
    "    def feature1(self):\n",
    "        print(\"Feature 1 working\")\n",
    "    def feature2(self):\n",
    "        print(\"Feature 2 working\")\n",
    "class B(A):\n",
    "    def __init__(self):\n",
    "        super().__init__()\n",
    "        print(\"in B init\")\n",
    "    def feature1(self):\n",
    "        print(\"Feature 3 working\")\n",
    "    def feature4(self):\n",
    "        print(\"Feature 4 working\")\n",
    "a1=B()\n"
   ]
  },
  {
   "cell_type": "code",
   "execution_count": 52,
   "id": "7fc9c934",
   "metadata": {},
   "outputs": [
    {
     "name": "stdout",
     "output_type": "stream",
     "text": [
      "in C init\n"
     ]
    }
   ],
   "source": [
    "class A:\n",
    "    def __init__(self):\n",
    "        print(\"in A init\")\n",
    "    def feature1(self):\n",
    "        print(\"Feature 1 working\")\n",
    "    def feature2(self):\n",
    "        print(\"Feature 2 working\")\n",
    "class B():\n",
    "    def __init__(self):\n",
    "        super().__init__()\n",
    "        print(\"in B init\")\n",
    "    def feature1(self):\n",
    "        print(\"Feature 3 working\")\n",
    "    def feature4(self):\n",
    "        print(\"Feature 4 working\")\n",
    "class C(A,B):\n",
    "    def __init__(self):\n",
    "        print(\"in C init\")\n",
    "a1=C()"
   ]
  },
  {
   "cell_type": "code",
   "execution_count": 55,
   "id": "98c9cd1d",
   "metadata": {},
   "outputs": [
    {
     "name": "stdout",
     "output_type": "stream",
     "text": [
      "in A init\n",
      "in C init\n"
     ]
    }
   ],
   "source": [
    "class A:\n",
    "    def __init__(self):\n",
    "        print(\"in A init\")\n",
    "    def feature1(self):\n",
    "        print(\"Feature 1 working\")\n",
    "    def feature2(self):\n",
    "        print(\"Feature 2 working\")\n",
    "class B():\n",
    "    def __init__(self):\n",
    "        super().__init__()\n",
    "        print(\"in B init\")\n",
    "    def feature1(self):\n",
    "        print(\"Feature 3 working\")\n",
    "    def feature4(self):\n",
    "        print(\"Feature 4 working\")\n",
    "class C(A,B):\n",
    "    def __init__(self):\n",
    "        super().__init__()\n",
    "        \n",
    "        print(\"in C init\")\n",
    "a1=C()"
   ]
  },
  {
   "cell_type": "code",
   "execution_count": 57,
   "id": "a1fb7408",
   "metadata": {},
   "outputs": [
    {
     "name": "stdout",
     "output_type": "stream",
     "text": [
      "in A init\n",
      "in C init\n",
      "Feature 1-A working\n"
     ]
    }
   ],
   "source": [
    "class A:\n",
    "    def __init__(self):\n",
    "        print(\"in A init\")\n",
    "    def feature1(self):\n",
    "        print(\"Feature 1-A working\")\n",
    "    def feature2(self):\n",
    "        print(\"Feature 2 working\")\n",
    "class B():\n",
    "    def __init__(self):\n",
    "        super().__init__()\n",
    "        print(\"in B init\")\n",
    "    def feature1(self):\n",
    "        print(\"Feature 1-B working\")\n",
    "    def feature4(self):\n",
    "        print(\"Feature 4 working\")\n",
    "class C(A,B):\n",
    "    def __init__(self):\n",
    "        super().__init__()\n",
    "        \n",
    "        print(\"in C init\")\n",
    "a1=C()\n",
    "a1.feature1()"
   ]
  },
  {
   "cell_type": "code",
   "execution_count": 60,
   "id": "34af412a",
   "metadata": {},
   "outputs": [
    {
     "name": "stdout",
     "output_type": "stream",
     "text": [
      "in A init\n",
      "in C init\n",
      "Feature 2 working\n"
     ]
    }
   ],
   "source": [
    "class A:\n",
    "    def __init__(self):\n",
    "        print(\"in A init\")\n",
    "    def feature1(self):\n",
    "        print(\"Feature 1 working\")\n",
    "    def feature2(self):\n",
    "        print(\"Feature 2 working\")\n",
    "class B():\n",
    "    def __init__(self):\n",
    "        super().__init__()\n",
    "        print(\"in B init\")\n",
    "    def feature1(self):\n",
    "        print(\"Feature 3 working\")\n",
    "    def feature4(self):\n",
    "        print(\"Feature 4 working\")\n",
    "class C(A,B):\n",
    "    def __init__(self):\n",
    "        super().__init__()\n",
    "        \n",
    "        print(\"in C init\")\n",
    "    def feat(self):\n",
    "        super().feature2()\n",
    "a1=C()\n",
    "a1.feat()"
   ]
  },
  {
   "cell_type": "code",
   "execution_count": 63,
   "id": "df3743d0",
   "metadata": {},
   "outputs": [
    {
     "name": "stdout",
     "output_type": "stream",
     "text": [
      "Compliling\n",
      "Running\n"
     ]
    }
   ],
   "source": [
    "class Python:\n",
    "    def execute(self):\n",
    "        print(\"Compliling\")\n",
    "        print(\"Running\")\n",
    "class Laptop:\n",
    "    def code(self,ide):\n",
    "        ide.execute()\n",
    "ide=Python()\n",
    "lap1=Laptop()\n",
    "lap1.code(ide)"
   ]
  },
  {
   "cell_type": "code",
   "execution_count": 64,
   "id": "db9c7c1f",
   "metadata": {},
   "outputs": [
    {
     "name": "stdout",
     "output_type": "stream",
     "text": [
      "Spell Check\n",
      "Convention Check\n",
      "Compliling\n",
      "Running\n"
     ]
    }
   ],
   "source": [
    "class Python:\n",
    "    def execute(self):\n",
    "        print(\"Compliling\")\n",
    "        print(\"Running\")\n",
    "class MyEditor:\n",
    "    def execute(self):\n",
    "        print(\"Spell Check\")\n",
    "        print(\"Convention Check\")\n",
    "        print(\"Compliling\")\n",
    "        print(\"Running\")\n",
    "class Laptop:\n",
    "    def code(self,ide):\n",
    "        ide.execute()\n",
    "ide=MyEditor()\n",
    "lap1=Laptop()\n",
    "lap1.code(ide)"
   ]
  },
  {
   "cell_type": "code",
   "execution_count": 65,
   "id": "858ef397",
   "metadata": {},
   "outputs": [
    {
     "ename": "TypeError",
     "evalue": "unsupported operand type(s) for +: 'int' and 'str'",
     "output_type": "error",
     "traceback": [
      "\u001b[1;31m---------------------------------------------------------------------------\u001b[0m",
      "\u001b[1;31mTypeError\u001b[0m                                 Traceback (most recent call last)",
      "Input \u001b[1;32mIn [65]\u001b[0m, in \u001b[0;36m<cell line: 3>\u001b[1;34m()\u001b[0m\n\u001b[0;32m      1\u001b[0m a\u001b[38;5;241m=\u001b[39m\u001b[38;5;241m5\u001b[39m\n\u001b[0;32m      2\u001b[0m b\u001b[38;5;241m=\u001b[39m\u001b[38;5;124m'\u001b[39m\u001b[38;5;124mWorld\u001b[39m\u001b[38;5;124m'\u001b[39m\n\u001b[1;32m----> 3\u001b[0m \u001b[38;5;28mprint\u001b[39m(\u001b[43ma\u001b[49m\u001b[38;5;241;43m+\u001b[39;49m\u001b[43mb\u001b[49m)\n",
      "\u001b[1;31mTypeError\u001b[0m: unsupported operand type(s) for +: 'int' and 'str'"
     ]
    }
   ],
   "source": [
    "a=5\n",
    "b='World'\n",
    "print(a+b)"
   ]
  },
  {
   "cell_type": "code",
   "execution_count": 66,
   "id": "450af1b5",
   "metadata": {},
   "outputs": [
    {
     "name": "stdout",
     "output_type": "stream",
     "text": [
      "11\n"
     ]
    }
   ],
   "source": [
    "a=5\n",
    "b=6\n",
    "print(a+b)"
   ]
  },
  {
   "cell_type": "code",
   "execution_count": 67,
   "id": "54100a6f",
   "metadata": {},
   "outputs": [
    {
     "name": "stdout",
     "output_type": "stream",
     "text": [
      "11\n",
      "11\n"
     ]
    }
   ],
   "source": [
    "a=5\n",
    "b=6\n",
    "print(a+b)\n",
    "print(int.__add__(a,b))"
   ]
  },
  {
   "cell_type": "code",
   "execution_count": 68,
   "id": "1812b5c7",
   "metadata": {},
   "outputs": [
    {
     "ename": "TypeError",
     "evalue": "unsupported operand type(s) for +: 'Student' and 'Student'",
     "output_type": "error",
     "traceback": [
      "\u001b[1;31m---------------------------------------------------------------------------\u001b[0m",
      "\u001b[1;31mTypeError\u001b[0m                                 Traceback (most recent call last)",
      "Input \u001b[1;32mIn [68]\u001b[0m, in \u001b[0;36m<cell line: 7>\u001b[1;34m()\u001b[0m\n\u001b[0;32m      5\u001b[0m s1\u001b[38;5;241m=\u001b[39mStudent(\u001b[38;5;241m49\u001b[39m,\u001b[38;5;241m33\u001b[39m)\n\u001b[0;32m      6\u001b[0m s2\u001b[38;5;241m=\u001b[39mStudent(\u001b[38;5;241m50\u001b[39m,\u001b[38;5;241m40\u001b[39m)\n\u001b[1;32m----> 7\u001b[0m s3\u001b[38;5;241m=\u001b[39m\u001b[43ms1\u001b[49m\u001b[38;5;241;43m+\u001b[39;49m\u001b[43ms2\u001b[49m\n",
      "\u001b[1;31mTypeError\u001b[0m: unsupported operand type(s) for +: 'Student' and 'Student'"
     ]
    }
   ],
   "source": [
    "class Student():\n",
    "    def __init__(self,m1,m2):\n",
    "        self.m1=m1\n",
    "        self.m2=m2\n",
    "s1=Student(49,33)\n",
    "s2=Student(50,40)\n",
    "s3=s1+s2"
   ]
  },
  {
   "cell_type": "code",
   "execution_count": 72,
   "id": "f977d205",
   "metadata": {},
   "outputs": [
    {
     "name": "stdout",
     "output_type": "stream",
     "text": [
      "99\n"
     ]
    }
   ],
   "source": [
    "class Student():\n",
    "    def __init__(self,m1,m2):\n",
    "        self.m1=m1\n",
    "        self.m2=m2\n",
    "    def __add__(self,other):\n",
    "        m1=self.m1+other.m1\n",
    "        m2=self.m2+other.m2\n",
    "        s3=Student(m1,m2)\n",
    "        return s3\n",
    "s1=Student(49,33)\n",
    "s2=Student(50,40)\n",
    "s3=s1 + s2\n",
    "print(s3.m1)"
   ]
  },
  {
   "cell_type": "code",
   "execution_count": 77,
   "id": "2f8ad084",
   "metadata": {},
   "outputs": [
    {
     "name": "stdout",
     "output_type": "stream",
     "text": [
      "s2 wins\n"
     ]
    }
   ],
   "source": [
    "class Student():\n",
    "    def __init__(self,m1,m2):\n",
    "        self.m1=m1\n",
    "        self.m2=m2\n",
    "    def __add__(self,other):\n",
    "        m1=self.m1+other.m1\n",
    "        m2=self.m2+other.m2\n",
    "        s3=Student(m1,m2)\n",
    "        return s3\n",
    "    def __gt__(self,other):\n",
    "        r1=self.m1+self.m2\n",
    "        r2=other.m1+other.m2\n",
    "        if r1>r2:\n",
    "            return True\n",
    "        else:\n",
    "            return False\n",
    "s1=Student(49,33)\n",
    "s2=Student(50,40)\n",
    "s3=s1 + s2\n",
    "if s1>s2:\n",
    "    print(\"s1 wins\")\n",
    "else:\n",
    "    print(\"s2 wins\")"
   ]
  },
  {
   "cell_type": "code",
   "execution_count": 78,
   "id": "e82645ed",
   "metadata": {},
   "outputs": [
    {
     "name": "stdout",
     "output_type": "stream",
     "text": [
      "s2 wins\n",
      "9\n"
     ]
    }
   ],
   "source": [
    "class Student():\n",
    "    def __init__(self,m1,m2):\n",
    "        self.m1=m1\n",
    "        self.m2=m2\n",
    "    def __add__(self,other):\n",
    "        m1=self.m1+other.m1\n",
    "        m2=self.m2+other.m2\n",
    "        s3=Student(m1,m2)\n",
    "        return s3\n",
    "    def __gt__(self,other):\n",
    "        r1=self.m1+self.m2\n",
    "        r2=other.m1+other.m2\n",
    "        if r1>r2:\n",
    "            return True\n",
    "        else:\n",
    "            return False\n",
    "s1=Student(49,33)\n",
    "s2=Student(50,40)\n",
    "s3=s1 + s2\n",
    "if s1>s2:\n",
    "    print(\"s1 wins\")\n",
    "else:\n",
    "    print(\"s2 wins\")\n",
    "a=9\n",
    "print(a)"
   ]
  },
  {
   "cell_type": "code",
   "execution_count": 85,
   "id": "89dac95a",
   "metadata": {},
   "outputs": [
    {
     "name": "stdout",
     "output_type": "stream",
     "text": [
      "s2 wins\n",
      "9\n",
      "(49, 33)\n"
     ]
    }
   ],
   "source": [
    "class Student():\n",
    "    def __init__(self,m1,m2):\n",
    "        self.m1=m1\n",
    "        self.m2=m2\n",
    "    def __add__(self,other):\n",
    "        m1=self.m1+other.m1\n",
    "        m2=self.m2+other.m2\n",
    "        s3=Student(m1,m2)\n",
    "        return s3\n",
    "    def __gt__(self,other):\n",
    "        r1=self.m1+self.m2\n",
    "        r2=other.m1+other.m2\n",
    "        if r1>r2:\n",
    "            return True\n",
    "        else:\n",
    "            return False\n",
    "    def __str__(self):\n",
    "        return self.m1,self.m2\n",
    "s1=Student(49,33)\n",
    "s2=Student(50,40)\n",
    "s3=s1 + s2\n",
    "if s1>s2:\n",
    "    print(\"s1 wins\")\n",
    "else:\n",
    "    print(\"s2 wins\")\n",
    "a=9\n",
    "print(a.__str__())\n",
    "print(s1.__str__())"
   ]
  },
  {
   "cell_type": "code",
   "execution_count": 86,
   "id": "920cf820",
   "metadata": {},
   "outputs": [
    {
     "name": "stdout",
     "output_type": "stream",
     "text": [
      "s2 wins\n",
      "9\n",
      "49 33 \n",
      "50 40 \n"
     ]
    }
   ],
   "source": [
    "class Student():\n",
    "    def __init__(self,m1,m2):\n",
    "        self.m1=m1\n",
    "        self.m2=m2\n",
    "    def __add__(self,other):\n",
    "        m1=self.m1+other.m1\n",
    "        m2=self.m2+other.m2\n",
    "        s3=Student(m1,m2)\n",
    "        return s3\n",
    "    def __gt__(self,other):\n",
    "        r1=self.m1+self.m2\n",
    "        r2=other.m1+other.m2\n",
    "        if r1>r2:\n",
    "            return True\n",
    "        else:\n",
    "            return False\n",
    "    def __str__(self):\n",
    "        return '{} {} '.format(self.m1,self.m2)\n",
    "s1=Student(49,33)\n",
    "s2=Student(50,40)\n",
    "s3=s1 + s2\n",
    "if s1>s2:\n",
    "    print(\"s1 wins\")\n",
    "else:\n",
    "    print(\"s2 wins\")\n",
    "a=9\n",
    "print(a.__str__())\n",
    "print(s1)\n",
    "print(s2)"
   ]
  },
  {
   "cell_type": "code",
   "execution_count": 90,
   "id": "f0290081",
   "metadata": {},
   "outputs": [
    {
     "name": "stdout",
     "output_type": "stream",
     "text": [
      "22\n"
     ]
    }
   ],
   "source": [
    "class Student:\n",
    "    def __init__(self,m1,m2):\n",
    "        self.m1=m1\n",
    "        self.m2=m2\n",
    "    def sum(self,a,b,c):\n",
    "        s=a+b+c\n",
    "        return s\n",
    "s1=Student(50,60)\n",
    "print(s1.sum(5,8,9))"
   ]
  },
  {
   "cell_type": "code",
   "execution_count": 92,
   "id": "c36e3550",
   "metadata": {},
   "outputs": [
    {
     "name": "stdout",
     "output_type": "stream",
     "text": [
      "19\n"
     ]
    }
   ],
   "source": [
    "class Student:\n",
    "    def __init__(self,m1,m2):\n",
    "        self.m1=m1\n",
    "        self.m2=m2\n",
    "    def sum(self,a=None,b=None,c=None):\n",
    "        s=a+b+c\n",
    "        return s\n",
    "s1=Student(50,60)\n",
    "print(s1.sum(5,8,6))"
   ]
  },
  {
   "cell_type": "code",
   "execution_count": 93,
   "id": "35636372",
   "metadata": {},
   "outputs": [
    {
     "name": "stdout",
     "output_type": "stream",
     "text": [
      "13\n"
     ]
    }
   ],
   "source": [
    "class Student:\n",
    "    def __init__(self,m1,m2):\n",
    "        self.m1=m1\n",
    "        self.m2=m2\n",
    "    def sum(self,a=None,b=None,c=None):\n",
    "        s=0\n",
    "        if a!=None and b!=None and c!=None:\n",
    "            s=a+b+c\n",
    "        elif a!=None and b!=None:\n",
    "            s=a+b\n",
    "        else:\n",
    "            s=a\n",
    "        return s\n",
    "s1=Student(50,60)\n",
    "print(s1.sum(5,8))"
   ]
  },
  {
   "cell_type": "code",
   "execution_count": 94,
   "id": "12b1a8f6",
   "metadata": {},
   "outputs": [
    {
     "name": "stdout",
     "output_type": "stream",
     "text": [
      "5\n"
     ]
    }
   ],
   "source": [
    "class Student:\n",
    "    def __init__(self,m1,m2):\n",
    "        self.m1=m1\n",
    "        self.m2=m2\n",
    "    def sum(self,a=None,b=None,c=None):\n",
    "        s=0\n",
    "        if a!=None and b!=None and c!=None:\n",
    "            s=a+b+c\n",
    "        elif a!=None and b!=None:\n",
    "            s=a+b\n",
    "        else:\n",
    "            s=a\n",
    "        return s\n",
    "s1=Student(50,60)\n",
    "print(s1.sum(5))"
   ]
  },
  {
   "cell_type": "code",
   "execution_count": 96,
   "id": "1d4aa2eb",
   "metadata": {},
   "outputs": [
    {
     "name": "stdout",
     "output_type": "stream",
     "text": [
      "in A show\n"
     ]
    }
   ],
   "source": [
    "class A:\n",
    "    def show(self):\n",
    "        print(\"in A show\")\n",
    "class B(A):\n",
    "    pass\n",
    "\n",
    "a1=B()\n",
    "a1.show()\n",
    "    "
   ]
  },
  {
   "cell_type": "code",
   "execution_count": 97,
   "id": "af381d54",
   "metadata": {},
   "outputs": [
    {
     "name": "stdout",
     "output_type": "stream",
     "text": [
      "in B show\n"
     ]
    }
   ],
   "source": [
    "class A:\n",
    "    def show(self):\n",
    "        print(\"in A show\")\n",
    "class B(A):\n",
    "    def show(self):\n",
    "        print(\"in B show\")\n",
    "\n",
    "a1=B()\n",
    "a1.show()\n",
    "    "
   ]
  },
  {
   "cell_type": "code",
   "execution_count": 102,
   "id": "cf442ae5",
   "metadata": {},
   "outputs": [
    {
     "name": "stdout",
     "output_type": "stream",
     "text": [
      "its running\n"
     ]
    }
   ],
   "source": [
    "from abc import ABC,abstractmethod\n",
    "class Computer(ABC):\n",
    "    @abstractmethod\n",
    "    def process(self):\n",
    "        pass\n",
    "class Laptop(Computer):\n",
    "    def process(self):\n",
    "        print(\"its running\")\n",
    "    \n",
    "com1=Laptop()\n",
    "com1.process()"
   ]
  },
  {
   "cell_type": "code",
   "execution_count": 104,
   "id": "074eb41b",
   "metadata": {},
   "outputs": [
    {
     "name": "stdout",
     "output_type": "stream",
     "text": [
      "Solving Bugs\n",
      "its running\n"
     ]
    }
   ],
   "source": [
    "from abc import ABC,abstractmethod\n",
    "class Computer(ABC):\n",
    "    @abstractmethod\n",
    "    def process(self):\n",
    "        pass\n",
    "class Laptop(Computer):\n",
    "    def process(self):\n",
    "        print(\"its running\")\n",
    "class Programmer:\n",
    "    def work(self):\n",
    "        print(\"Solving Bugs\")\n",
    "com1=Laptop()\n",
    "prog1=Programmer()\n",
    "prog1.work()\n",
    "com1.process()"
   ]
  },
  {
   "cell_type": "code",
   "execution_count": 110,
   "id": "a9ab2e0a",
   "metadata": {},
   "outputs": [
    {
     "name": "stdout",
     "output_type": "stream",
     "text": [
      "Solving Bugs\n",
      "its running\n"
     ]
    }
   ],
   "source": [
    "from abc import ABC,abstractmethod\n",
    "class Computer(ABC):\n",
    "    @abstractmethod\n",
    "    def process(self):\n",
    "        pass\n",
    "class Laptop(Computer):\n",
    "    def process(self):\n",
    "        print(\"its running\")\n",
    "class Whiteboard:\n",
    "    def write(self):\n",
    "        print(\"its writing\")\n",
    "        print(\"its writing\")\n",
    "class Programmer:\n",
    "    def work(self,com):\n",
    "        print(\"Solving Bugs\")\n",
    "        com.process()\n",
    "com1=Laptop()\n",
    "prog1=Programmer()\n",
    "prog1.work(com1)\n"
   ]
  },
  {
   "cell_type": "code",
   "execution_count": 112,
   "id": "c4d9f101",
   "metadata": {},
   "outputs": [
    {
     "name": "stdout",
     "output_type": "stream",
     "text": [
      "2.5\n",
      "Bye\n"
     ]
    }
   ],
   "source": [
    "a=5\n",
    "b=2\n",
    "print(a/b)\n",
    "print(\"Bye\")"
   ]
  },
  {
   "cell_type": "code",
   "execution_count": 113,
   "id": "28b368c6",
   "metadata": {},
   "outputs": [
    {
     "ename": "ZeroDivisionError",
     "evalue": "division by zero",
     "output_type": "error",
     "traceback": [
      "\u001b[1;31m---------------------------------------------------------------------------\u001b[0m",
      "\u001b[1;31mZeroDivisionError\u001b[0m                         Traceback (most recent call last)",
      "Input \u001b[1;32mIn [113]\u001b[0m, in \u001b[0;36m<cell line: 3>\u001b[1;34m()\u001b[0m\n\u001b[0;32m      1\u001b[0m a\u001b[38;5;241m=\u001b[39m\u001b[38;5;241m5\u001b[39m\n\u001b[0;32m      2\u001b[0m b\u001b[38;5;241m=\u001b[39m\u001b[38;5;241m0\u001b[39m\n\u001b[1;32m----> 3\u001b[0m \u001b[38;5;28mprint\u001b[39m(\u001b[43ma\u001b[49m\u001b[38;5;241;43m/\u001b[39;49m\u001b[43mb\u001b[49m)\n\u001b[0;32m      4\u001b[0m \u001b[38;5;28mprint\u001b[39m(\u001b[38;5;124m\"\u001b[39m\u001b[38;5;124mBye\u001b[39m\u001b[38;5;124m\"\u001b[39m)\n",
      "\u001b[1;31mZeroDivisionError\u001b[0m: division by zero"
     ]
    }
   ],
   "source": [
    "a=5\n",
    "b=0\n",
    "print(a/b)\n",
    "print(\"Bye\")"
   ]
  },
  {
   "cell_type": "code",
   "execution_count": 115,
   "id": "855efff6",
   "metadata": {},
   "outputs": [
    {
     "name": "stdout",
     "output_type": "stream",
     "text": [
      "Hey, you cannot divide by zero\n",
      "Bye\n"
     ]
    }
   ],
   "source": [
    "a=5\n",
    "b=0\n",
    "try:\n",
    "    print(a/b)\n",
    "    \n",
    "except Exception:\n",
    "    print(\"Hey, you cannot divide by zero\")\n",
    "print(\"Bye\")"
   ]
  },
  {
   "cell_type": "code",
   "execution_count": 116,
   "id": "ac209c0c",
   "metadata": {},
   "outputs": [
    {
     "name": "stdout",
     "output_type": "stream",
     "text": [
      "Hey, you cannot divide by zero division by zero\n",
      "Bye\n"
     ]
    }
   ],
   "source": [
    "a=5\n",
    "b=0\n",
    "try:\n",
    "    print(a/b)\n",
    "    \n",
    "except Exception as e:\n",
    "    print(\"Hey, you cannot divide by zero\",e)\n",
    "print(\"Bye\")"
   ]
  },
  {
   "cell_type": "code",
   "execution_count": 117,
   "id": "8a0f5ed1",
   "metadata": {},
   "outputs": [
    {
     "name": "stdout",
     "output_type": "stream",
     "text": [
      "Resource open\n",
      "Hey, you cannot divide by zero division by zero\n",
      "Bye\n"
     ]
    }
   ],
   "source": [
    "a=5\n",
    "b=0\n",
    "try:\n",
    "    print(\"Resource open\")\n",
    "    print(a/b)\n",
    "    print(\"resource close\")\n",
    "except Exception as e:\n",
    "    print(\"Hey, you cannot divide by zero\",e)\n",
    "print(\"Bye\")"
   ]
  },
  {
   "cell_type": "code",
   "execution_count": 119,
   "id": "4b57e860",
   "metadata": {},
   "outputs": [
    {
     "name": "stdout",
     "output_type": "stream",
     "text": [
      "Resource open\n",
      "2.5\n",
      "resource closed\n",
      "Bye\n"
     ]
    }
   ],
   "source": [
    "a=5\n",
    "b=2\n",
    "try:\n",
    "    print(\"Resource open\")\n",
    "    print(a/b)\n",
    "    \n",
    "except Exception as e:\n",
    "    print(\"Hey, you cannot divide by zero\",e)\n",
    "finally:\n",
    "    print(\"resource closed\")\n",
    "print(\"Bye\")"
   ]
  },
  {
   "cell_type": "code",
   "execution_count": 120,
   "id": "86647873",
   "metadata": {},
   "outputs": [
    {
     "name": "stdout",
     "output_type": "stream",
     "text": [
      "Resource open\n",
      "2.5\n",
      "Enter a number6\n",
      "6\n",
      "resource closed\n",
      "Bye\n"
     ]
    }
   ],
   "source": [
    "a=5\n",
    "b=2\n",
    "try:\n",
    "    print(\"Resource open\")\n",
    "    print(a/b)\n",
    "    k=int(input(\"Enter a number\"))\n",
    "    print(k)\n",
    "except Exception as e:\n",
    "    print(\"Hey, you cannot divide by zero\",e)\n",
    "finally:\n",
    "    print(\"resource closed\")\n",
    "print(\"Bye\")"
   ]
  },
  {
   "cell_type": "code",
   "execution_count": 123,
   "id": "02b83566",
   "metadata": {},
   "outputs": [
    {
     "name": "stdout",
     "output_type": "stream",
     "text": [
      "Resource open\n",
      "2.5\n",
      "Enter a numberint\n",
      "Invalid input\n",
      "resource closed\n",
      "Bye\n"
     ]
    }
   ],
   "source": [
    "a=5\n",
    "b=2\n",
    "try:\n",
    "    print(\"Resource open\")\n",
    "    print(a/b)\n",
    "    k=int(input(\"Enter a number\"))\n",
    "    print(k)\n",
    "except ZeroDivisionError as e:\n",
    "    print(\"Hey, you cannot divide by zero\",e)\n",
    "except ValueError as e:\n",
    "    print(\"Invalid input\")\n",
    "except Exception as e:\n",
    "    print(\"something went wrong\")\n",
    "finally:\n",
    "    print(\"resource closed\")\n",
    "print(\"Bye\")"
   ]
  },
  {
   "cell_type": "code",
   "execution_count": 125,
   "id": "4c241a63",
   "metadata": {},
   "outputs": [
    {
     "name": "stdout",
     "output_type": "stream",
     "text": [
      "hello\n",
      "hello\n",
      "hello\n",
      "hello\n",
      "hello\n",
      "hi\n",
      "hi\n",
      "hi\n",
      "hi\n",
      "hi\n"
     ]
    }
   ],
   "source": [
    "class Hello:\n",
    "    def run(self):\n",
    "        for i in range(5):\n",
    "            print(\"hello\")\n",
    "class Hi:\n",
    "    def run(self):\n",
    "        for i in range(5):\n",
    "            print(\"hi\")\n",
    "t1=Hello()\n",
    "t2=Hi()\n",
    "t1.run()\n",
    "t2.run()"
   ]
  },
  {
   "cell_type": "code",
   "execution_count": null,
   "id": "d9637f40",
   "metadata": {},
   "outputs": [],
   "source": []
  },
  {
   "cell_type": "code",
   "execution_count": 144,
   "id": "0a453d8e",
   "metadata": {},
   "outputs": [
    {
     "name": "stdout",
     "output_type": "stream",
     "text": [
      "hello\n",
      "hello\n",
      "hello\n",
      "hello\n",
      "hello\n",
      "hi\n",
      "hi\n",
      "hi\n",
      "hi\n",
      "hi\n",
      "bye\n",
      "hello\n",
      "hi\n",
      "hello\n",
      "hi\n",
      "hello\n",
      "hi\n",
      "hello\n",
      "hi\n",
      "hello\n",
      "hi\n"
     ]
    }
   ],
   "source": [
    "from time import sleep\n",
    "from threading import*\n",
    "\n",
    "class Hello(Thread):\n",
    "    def run(self):\n",
    "        for i in range(5):\n",
    "            print(\"hello\")\n",
    "\n",
    "\n",
    "class Hi(Thread):\n",
    "    def run(self):\n",
    "        for i in range(5):\n",
    "            print(\"hi\")\n",
    "\n",
    "t1=Hello()\n",
    "t2=Hi()\n",
    "t1.start()\n",
    "sleep(0.2)\n",
    "t2.start()\n",
    "t1.join()\n",
    "t2.join()\n",
    "print(\"bye\")"
   ]
  },
  {
   "cell_type": "code",
   "execution_count": 146,
   "id": "8e83f771",
   "metadata": {},
   "outputs": [
    {
     "ename": "FileNotFoundError",
     "evalue": "[Errno 2] No such file or directory: 'Mydata'",
     "output_type": "error",
     "traceback": [
      "\u001b[1;31m---------------------------------------------------------------------------\u001b[0m",
      "\u001b[1;31mFileNotFoundError\u001b[0m                         Traceback (most recent call last)",
      "Input \u001b[1;32mIn [146]\u001b[0m, in \u001b[0;36m<cell line: 1>\u001b[1;34m()\u001b[0m\n\u001b[1;32m----> 1\u001b[0m f\u001b[38;5;241m=\u001b[39m\u001b[38;5;28;43mopen\u001b[39;49m\u001b[43m(\u001b[49m\u001b[38;5;124;43m'\u001b[39;49m\u001b[38;5;124;43mMydata\u001b[39;49m\u001b[38;5;124;43m'\u001b[39;49m\u001b[43m,\u001b[49m\u001b[38;5;124;43m'\u001b[39;49m\u001b[38;5;124;43mr\u001b[39;49m\u001b[38;5;124;43m'\u001b[39;49m\u001b[43m)\u001b[49m\n\u001b[0;32m      2\u001b[0m \u001b[38;5;28mprint\u001b[39m(f\u001b[38;5;241m.\u001b[39mreadline())\n",
      "\u001b[1;31mFileNotFoundError\u001b[0m: [Errno 2] No such file or directory: 'Mydata'"
     ]
    }
   ],
   "source": [
    "f=open('Mydata','r')\n",
    "print(f.readline())"
   ]
  },
  {
   "cell_type": "code",
   "execution_count": null,
   "id": "8ae8d051",
   "metadata": {},
   "outputs": [],
   "source": []
  }
 ],
 "metadata": {
  "kernelspec": {
   "display_name": "Python 3 (ipykernel)",
   "language": "python",
   "name": "python3"
  },
  "language_info": {
   "codemirror_mode": {
    "name": "ipython",
    "version": 3
   },
   "file_extension": ".py",
   "mimetype": "text/x-python",
   "name": "python",
   "nbconvert_exporter": "python",
   "pygments_lexer": "ipython3",
   "version": "3.9.12"
  }
 },
 "nbformat": 4,
 "nbformat_minor": 5
}
